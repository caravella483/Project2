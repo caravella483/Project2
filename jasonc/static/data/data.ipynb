{
 "cells": [
  {
   "cell_type": "code",
   "execution_count": 1,
   "metadata": {},
   "outputs": [],
   "source": [
    "# Dependencies\n",
    "from sqlalchemy import create_engine\n",
    "from datetime import timedelta, datetime, tzinfo\n",
    "from zipfile import ZipFile\n",
    "import collections\n",
    "#import psycopg2\n",
    "import requests\n",
    "import json\n",
    "import pandas as pd"
   ]
  },
  {
   "cell_type": "code",
   "execution_count": 2,
   "metadata": {},
   "outputs": [],
   "source": [
    "##Import the csv data"
   ]
  },
  {
   "cell_type": "code",
   "execution_count": 3,
   "metadata": {},
   "outputs": [],
   "source": [
    "#data frame for legal status and pop\n",
    "lgpure_df = pd.read_csv(\"legaldata.csv\")\n",
    "#data frame for mvr deaths\n",
    "MVR_df = pd.read_csv(\"mvdeaths.csv\")\n",
    "#data frame for overdose deaths\n",
    "overdose_df = pd.read_csv(\"overdose.csv\")"
   ]
  },
  {
   "cell_type": "code",
   "execution_count": 4,
   "metadata": {},
   "outputs": [],
   "source": [
    "####legal status for map"
   ]
  },
  {
   "cell_type": "code",
   "execution_count": 5,
   "metadata": {},
   "outputs": [
    {
     "data": {
      "text/html": [
       "<div>\n",
       "<style scoped>\n",
       "    .dataframe tbody tr th:only-of-type {\n",
       "        vertical-align: middle;\n",
       "    }\n",
       "\n",
       "    .dataframe tbody tr th {\n",
       "        vertical-align: top;\n",
       "    }\n",
       "\n",
       "    .dataframe thead th {\n",
       "        text-align: right;\n",
       "    }\n",
       "</style>\n",
       "<table border=\"1\" class=\"dataframe\">\n",
       "  <thead>\n",
       "    <tr style=\"text-align: right;\">\n",
       "      <th></th>\n",
       "      <th>State</th>\n",
       "      <th>Pop</th>\n",
       "      <th>legalWeedStatus</th>\n",
       "      <th>medicinalWeedStatus</th>\n",
       "      <th>decriminalizedWeedStatus</th>\n",
       "      <th>state</th>\n",
       "    </tr>\n",
       "  </thead>\n",
       "  <tbody>\n",
       "    <tr>\n",
       "      <th>0</th>\n",
       "      <td>Alabama</td>\n",
       "      <td>4908621</td>\n",
       "      <td>Fully Illegal</td>\n",
       "      <td>False</td>\n",
       "      <td>False</td>\n",
       "      <td>Alabama</td>\n",
       "    </tr>\n",
       "    <tr>\n",
       "      <th>1</th>\n",
       "      <td>Alaska</td>\n",
       "      <td>734002</td>\n",
       "      <td>Fully Legal</td>\n",
       "      <td>True</td>\n",
       "      <td>True</td>\n",
       "      <td>Alaska</td>\n",
       "    </tr>\n",
       "    <tr>\n",
       "      <th>2</th>\n",
       "      <td>Arizona</td>\n",
       "      <td>7378494</td>\n",
       "      <td>Mixed</td>\n",
       "      <td>True</td>\n",
       "      <td>False</td>\n",
       "      <td>Arizona</td>\n",
       "    </tr>\n",
       "  </tbody>\n",
       "</table>\n",
       "</div>"
      ],
      "text/plain": [
       "     State      Pop legalWeedStatus  medicinalWeedStatus  \\\n",
       "0  Alabama  4908621   Fully Illegal                False   \n",
       "1   Alaska   734002     Fully Legal                 True   \n",
       "2  Arizona  7378494           Mixed                 True   \n",
       "\n",
       "   decriminalizedWeedStatus    state  \n",
       "0                     False  Alabama  \n",
       "1                      True   Alaska  \n",
       "2                     False  Arizona  "
      ]
     },
     "execution_count": 5,
     "metadata": {},
     "output_type": "execute_result"
    }
   ],
   "source": [
    "lgpure_df.head(3)"
   ]
  },
  {
   "cell_type": "code",
   "execution_count": 6,
   "metadata": {},
   "outputs": [
    {
     "name": "stdout",
     "output_type": "stream",
     "text": [
      "<class 'pandas.core.frame.DataFrame'>\n",
      "RangeIndex: 51 entries, 0 to 50\n",
      "Data columns (total 6 columns):\n",
      " #   Column                    Non-Null Count  Dtype \n",
      "---  ------                    --------------  ----- \n",
      " 0   State                     51 non-null     object\n",
      " 1   Pop                       51 non-null     int64 \n",
      " 2   legalWeedStatus           51 non-null     object\n",
      " 3   medicinalWeedStatus       51 non-null     bool  \n",
      " 4   decriminalizedWeedStatus  51 non-null     bool  \n",
      " 5   state                     51 non-null     object\n",
      "dtypes: bool(2), int64(1), object(3)\n",
      "memory usage: 1.8+ KB\n"
     ]
    }
   ],
   "source": [
    "lgpure_df.info()"
   ]
  },
  {
   "cell_type": "code",
   "execution_count": 7,
   "metadata": {},
   "outputs": [
    {
     "name": "stdout",
     "output_type": "stream",
     "text": [
      "<class 'pandas.core.frame.DataFrame'>\n",
      "RangeIndex: 51 entries, 0 to 50\n",
      "Data columns (total 5 columns):\n",
      " #   Column                    Non-Null Count  Dtype \n",
      "---  ------                    --------------  ----- \n",
      " 0   State                     51 non-null     object\n",
      " 1   Pop                       51 non-null     int64 \n",
      " 2   legalWeedStatus           51 non-null     object\n",
      " 3   medicinalWeedStatus       51 non-null     bool  \n",
      " 4   decriminalizedWeedStatus  51 non-null     bool  \n",
      "dtypes: bool(2), int64(1), object(2)\n",
      "memory usage: 1.4+ KB\n"
     ]
    }
   ],
   "source": [
    "##df to join to other df (MVR and Overdose)\n",
    "legal_df = lgpure_df.drop(columns=[\"state\"])\n",
    "legal_df.info()"
   ]
  },
  {
   "cell_type": "code",
   "execution_count": 8,
   "metadata": {},
   "outputs": [
    {
     "data": {
      "text/html": [
       "<div>\n",
       "<style scoped>\n",
       "    .dataframe tbody tr th:only-of-type {\n",
       "        vertical-align: middle;\n",
       "    }\n",
       "\n",
       "    .dataframe tbody tr th {\n",
       "        vertical-align: top;\n",
       "    }\n",
       "\n",
       "    .dataframe thead th {\n",
       "        text-align: right;\n",
       "    }\n",
       "</style>\n",
       "<table border=\"1\" class=\"dataframe\">\n",
       "  <thead>\n",
       "    <tr style=\"text-align: right;\">\n",
       "      <th></th>\n",
       "      <th>State</th>\n",
       "      <th>Pop</th>\n",
       "      <th>legalWeedStatus</th>\n",
       "      <th>medicinalWeedStatus</th>\n",
       "      <th>decriminalizedWeedStatus</th>\n",
       "      <th>state</th>\n",
       "    </tr>\n",
       "  </thead>\n",
       "  <tbody>\n",
       "    <tr>\n",
       "      <th>0</th>\n",
       "      <td>Alabama</td>\n",
       "      <td>4908621</td>\n",
       "      <td>Fully Illegal</td>\n",
       "      <td>False</td>\n",
       "      <td>False</td>\n",
       "      <td>Alabama</td>\n",
       "    </tr>\n",
       "    <tr>\n",
       "      <th>1</th>\n",
       "      <td>Alaska</td>\n",
       "      <td>734002</td>\n",
       "      <td>Fully Legal</td>\n",
       "      <td>True</td>\n",
       "      <td>True</td>\n",
       "      <td>Alaska</td>\n",
       "    </tr>\n",
       "    <tr>\n",
       "      <th>2</th>\n",
       "      <td>Arizona</td>\n",
       "      <td>7378494</td>\n",
       "      <td>Mixed</td>\n",
       "      <td>True</td>\n",
       "      <td>False</td>\n",
       "      <td>Arizona</td>\n",
       "    </tr>\n",
       "  </tbody>\n",
       "</table>\n",
       "</div>"
      ],
      "text/plain": [
       "     State      Pop legalWeedStatus  medicinalWeedStatus  \\\n",
       "0  Alabama  4908621   Fully Illegal                False   \n",
       "1   Alaska   734002     Fully Legal                 True   \n",
       "2  Arizona  7378494           Mixed                 True   \n",
       "\n",
       "   decriminalizedWeedStatus    state  \n",
       "0                     False  Alabama  \n",
       "1                      True   Alaska  \n",
       "2                     False  Arizona  "
      ]
     },
     "execution_count": 8,
     "metadata": {},
     "output_type": "execute_result"
    }
   ],
   "source": [
    "lgpure_df.head(3)\n"
   ]
  },
  {
   "cell_type": "code",
   "execution_count": 9,
   "metadata": {},
   "outputs": [],
   "source": [
    "###df for legal map\n"
   ]
  },
  {
   "cell_type": "code",
   "execution_count": 11,
   "metadata": {},
   "outputs": [
    {
     "data": {
      "text/html": [
       "<div>\n",
       "<style scoped>\n",
       "    .dataframe tbody tr th:only-of-type {\n",
       "        vertical-align: middle;\n",
       "    }\n",
       "\n",
       "    .dataframe tbody tr th {\n",
       "        vertical-align: top;\n",
       "    }\n",
       "\n",
       "    .dataframe thead th {\n",
       "        text-align: right;\n",
       "    }\n",
       "</style>\n",
       "<table border=\"1\" class=\"dataframe\">\n",
       "  <thead>\n",
       "    <tr style=\"text-align: right;\">\n",
       "      <th></th>\n",
       "      <th>State</th>\n",
       "      <th>legalWeedStatus</th>\n",
       "    </tr>\n",
       "  </thead>\n",
       "  <tbody>\n",
       "    <tr>\n",
       "      <th>0</th>\n",
       "      <td>Alabama</td>\n",
       "      <td>Fully Illegal</td>\n",
       "    </tr>\n",
       "    <tr>\n",
       "      <th>1</th>\n",
       "      <td>Alaska</td>\n",
       "      <td>Fully Legal</td>\n",
       "    </tr>\n",
       "    <tr>\n",
       "      <th>2</th>\n",
       "      <td>Arizona</td>\n",
       "      <td>Mixed</td>\n",
       "    </tr>\n",
       "    <tr>\n",
       "      <th>3</th>\n",
       "      <td>Arkansas</td>\n",
       "      <td>Mixed</td>\n",
       "    </tr>\n",
       "    <tr>\n",
       "      <th>4</th>\n",
       "      <td>California</td>\n",
       "      <td>Fully Legal</td>\n",
       "    </tr>\n",
       "  </tbody>\n",
       "</table>\n",
       "</div>"
      ],
      "text/plain": [
       "        State legalWeedStatus\n",
       "0     Alabama   Fully Illegal\n",
       "1      Alaska     Fully Legal\n",
       "2     Arizona           Mixed\n",
       "3    Arkansas           Mixed\n",
       "4  California     Fully Legal"
      ]
     },
     "execution_count": 11,
     "metadata": {},
     "output_type": "execute_result"
    }
   ],
   "source": [
    "legal_mapdf = lgpure_df.drop(columns=[\"state\",\"Pop\",\"medicinalWeedStatus\",\"decriminalizedWeedStatus\"])\n",
    "legal_mapdf.head()"
   ]
  },
  {
   "cell_type": "code",
   "execution_count": 25,
   "metadata": {},
   "outputs": [],
   "source": [
    "###export to csv\n",
    "legal_mapdf.to_csv(r'C:\\Users\\jcaravella\\Documents\\Project2\\Main_data\\state_status.csv', index = False,header=True)"
   ]
  },
  {
   "cell_type": "code",
   "execution_count": 11,
   "metadata": {},
   "outputs": [],
   "source": [
    "####MVR State Infor"
   ]
  },
  {
   "cell_type": "code",
   "execution_count": 12,
   "metadata": {},
   "outputs": [
    {
     "name": "stdout",
     "output_type": "stream",
     "text": [
      "<class 'pandas.core.frame.DataFrame'>\n",
      "RangeIndex: 417 entries, 0 to 416\n",
      "Data columns (total 7 columns):\n",
      " #   Column                                          Non-Null Count  Dtype  \n",
      "---  ------                                          --------------  -----  \n",
      " 0   Year                                            417 non-null    object \n",
      " 1   State                                           416 non-null    object \n",
      " 2   Motor Vehicle Deaths - state of residence       416 non-null    float64\n",
      " 3   Traffic deaths - state of incident              416 non-null    float64\n",
      " 4   Deaths  per 100,000 population                  416 non-null    float64\n",
      " 5   Traffic deaths  per 10,000 motor vehicles       416 non-null    float64\n",
      " 6   Traffic deaths - per 100,000,000 vehicle miles  416 non-null    float64\n",
      "dtypes: float64(5), object(2)\n",
      "memory usage: 22.9+ KB\n"
     ]
    }
   ],
   "source": [
    "MVR_df.info()"
   ]
  },
  {
   "cell_type": "code",
   "execution_count": 12,
   "metadata": {},
   "outputs": [
    {
     "data": {
      "text/html": [
       "<div>\n",
       "<style scoped>\n",
       "    .dataframe tbody tr th:only-of-type {\n",
       "        vertical-align: middle;\n",
       "    }\n",
       "\n",
       "    .dataframe tbody tr th {\n",
       "        vertical-align: top;\n",
       "    }\n",
       "\n",
       "    .dataframe thead th {\n",
       "        text-align: right;\n",
       "    }\n",
       "</style>\n",
       "<table border=\"1\" class=\"dataframe\">\n",
       "  <thead>\n",
       "    <tr style=\"text-align: right;\">\n",
       "      <th></th>\n",
       "      <th>Year</th>\n",
       "      <th>State</th>\n",
       "      <th>Motor Vehicle Deaths - state of residence</th>\n",
       "      <th>Traffic deaths - state of incident</th>\n",
       "      <th>Deaths  per 100,000 population</th>\n",
       "      <th>Traffic deaths  per 10,000 motor vehicles</th>\n",
       "      <th>Traffic deaths - per 100,000,000 vehicle miles</th>\n",
       "    </tr>\n",
       "  </thead>\n",
       "  <tbody>\n",
       "    <tr>\n",
       "      <th>0</th>\n",
       "      <td>2017</td>\n",
       "      <td>U.S. Total</td>\n",
       "      <td>40231.0</td>\n",
       "      <td>37133.0</td>\n",
       "      <td>12.4</td>\n",
       "      <td>1.4</td>\n",
       "      <td>1.2</td>\n",
       "    </tr>\n",
       "    <tr>\n",
       "      <th>1</th>\n",
       "      <td>2017</td>\n",
       "      <td>Alabama</td>\n",
       "      <td>1034.0</td>\n",
       "      <td>948.0</td>\n",
       "      <td>21.2</td>\n",
       "      <td>1.9</td>\n",
       "      <td>1.3</td>\n",
       "    </tr>\n",
       "    <tr>\n",
       "      <th>2</th>\n",
       "      <td>2017</td>\n",
       "      <td>Alaska</td>\n",
       "      <td>101.0</td>\n",
       "      <td>79.0</td>\n",
       "      <td>13.7</td>\n",
       "      <td>1.0</td>\n",
       "      <td>1.4</td>\n",
       "    </tr>\n",
       "    <tr>\n",
       "      <th>3</th>\n",
       "      <td>2017</td>\n",
       "      <td>Arizona</td>\n",
       "      <td>1017.0</td>\n",
       "      <td>1000.0</td>\n",
       "      <td>14.5</td>\n",
       "      <td>1.7</td>\n",
       "      <td>1.5</td>\n",
       "    </tr>\n",
       "    <tr>\n",
       "      <th>4</th>\n",
       "      <td>2017</td>\n",
       "      <td>Arkansas</td>\n",
       "      <td>579.0</td>\n",
       "      <td>493.0</td>\n",
       "      <td>19.3</td>\n",
       "      <td>1.7</td>\n",
       "      <td>1.4</td>\n",
       "    </tr>\n",
       "  </tbody>\n",
       "</table>\n",
       "</div>"
      ],
      "text/plain": [
       "   Year       State  Motor Vehicle Deaths - state of residence  \\\n",
       "0  2017  U.S. Total                                    40231.0   \n",
       "1  2017     Alabama                                     1034.0   \n",
       "2  2017      Alaska                                      101.0   \n",
       "3  2017     Arizona                                     1017.0   \n",
       "4  2017    Arkansas                                      579.0   \n",
       "\n",
       "   Traffic deaths - state of incident  Deaths  per 100,000 population  \\\n",
       "0                             37133.0                            12.4   \n",
       "1                               948.0                            21.2   \n",
       "2                                79.0                            13.7   \n",
       "3                              1000.0                            14.5   \n",
       "4                               493.0                            19.3   \n",
       "\n",
       "   Traffic deaths  per 10,000 motor vehicles  \\\n",
       "0                                        1.4   \n",
       "1                                        1.9   \n",
       "2                                        1.0   \n",
       "3                                        1.7   \n",
       "4                                        1.7   \n",
       "\n",
       "   Traffic deaths - per 100,000,000 vehicle miles  \n",
       "0                                             1.2  \n",
       "1                                             1.3  \n",
       "2                                             1.4  \n",
       "3                                             1.5  \n",
       "4                                             1.4  "
      ]
     },
     "execution_count": 12,
     "metadata": {},
     "output_type": "execute_result"
    }
   ],
   "source": [
    "##drop to the same stats as of deaths\n",
    "years = ['2015','2016','2017']\n",
    "mvr_neededyears =MVR_df[MVR_df.Year.isin(years)]\n",
    "mvr_neededyears.head()"
   ]
  },
  {
   "cell_type": "code",
   "execution_count": 13,
   "metadata": {},
   "outputs": [
    {
     "name": "stdout",
     "output_type": "stream",
     "text": [
      "<class 'pandas.core.frame.DataFrame'>\n",
      "Int64Index: 156 entries, 0 to 155\n",
      "Data columns (total 11 columns):\n",
      " #   Column                                          Non-Null Count  Dtype  \n",
      "---  ------                                          --------------  -----  \n",
      " 0   Year                                            156 non-null    object \n",
      " 1   State                                           156 non-null    object \n",
      " 2   Motor Vehicle Deaths - state of residence       156 non-null    float64\n",
      " 3   Traffic deaths - state of incident              156 non-null    float64\n",
      " 4   Deaths  per 100,000 population                  156 non-null    float64\n",
      " 5   Traffic deaths  per 10,000 motor vehicles       156 non-null    float64\n",
      " 6   Traffic deaths - per 100,000,000 vehicle miles  156 non-null    float64\n",
      " 7   Pop                                             153 non-null    float64\n",
      " 8   legalWeedStatus                                 153 non-null    object \n",
      " 9   medicinalWeedStatus                             153 non-null    object \n",
      " 10  decriminalizedWeedStatus                        153 non-null    object \n",
      "dtypes: float64(6), object(5)\n",
      "memory usage: 14.6+ KB\n"
     ]
    }
   ],
   "source": [
    "##Join legal status\n",
    "mvr_joined =  mvr_neededyears.join(legal_df.set_index(['State']), on=['State'], how='left')\n",
    "mvr_joined.info()\n",
    "#mvr_status = mvr_joined.drop.na()"
   ]
  },
  {
   "cell_type": "code",
   "execution_count": 14,
   "metadata": {},
   "outputs": [
    {
     "name": "stdout",
     "output_type": "stream",
     "text": [
      "<class 'pandas.core.frame.DataFrame'>\n",
      "Int64Index: 153 entries, 1 to 155\n",
      "Data columns (total 11 columns):\n",
      " #   Column                                          Non-Null Count  Dtype  \n",
      "---  ------                                          --------------  -----  \n",
      " 0   Year                                            153 non-null    object \n",
      " 1   State                                           153 non-null    object \n",
      " 2   Motor Vehicle Deaths - state of residence       153 non-null    float64\n",
      " 3   Traffic deaths - state of incident              153 non-null    float64\n",
      " 4   Deaths  per 100,000 population                  153 non-null    float64\n",
      " 5   Traffic deaths  per 10,000 motor vehicles       153 non-null    float64\n",
      " 6   Traffic deaths - per 100,000,000 vehicle miles  153 non-null    float64\n",
      " 7   Pop                                             153 non-null    float64\n",
      " 8   legalWeedStatus                                 153 non-null    object \n",
      " 9   medicinalWeedStatus                             153 non-null    object \n",
      " 10  decriminalizedWeedStatus                        153 non-null    object \n",
      "dtypes: float64(6), object(5)\n",
      "memory usage: 14.3+ KB\n"
     ]
    }
   ],
   "source": [
    "#drop U.s.total\n",
    "mvr_status = mvr_joined.dropna()\n",
    "mvr_status.info()\n"
   ]
  },
  {
   "cell_type": "code",
   "execution_count": 15,
   "metadata": {},
   "outputs": [
    {
     "data": {
      "text/html": [
       "<div>\n",
       "<style scoped>\n",
       "    .dataframe tbody tr th:only-of-type {\n",
       "        vertical-align: middle;\n",
       "    }\n",
       "\n",
       "    .dataframe tbody tr th {\n",
       "        vertical-align: top;\n",
       "    }\n",
       "\n",
       "    .dataframe thead th {\n",
       "        text-align: right;\n",
       "    }\n",
       "</style>\n",
       "<table border=\"1\" class=\"dataframe\">\n",
       "  <thead>\n",
       "    <tr style=\"text-align: right;\">\n",
       "      <th></th>\n",
       "      <th>Year</th>\n",
       "      <th>State</th>\n",
       "      <th>Motor Vehicle Deaths - state of residence</th>\n",
       "      <th>Traffic deaths - state of incident</th>\n",
       "      <th>Deaths  per 100,000 population</th>\n",
       "      <th>Traffic deaths  per 10,000 motor vehicles</th>\n",
       "      <th>Traffic deaths - per 100,000,000 vehicle miles</th>\n",
       "      <th>Pop</th>\n",
       "      <th>legalWeedStatus</th>\n",
       "      <th>medicinalWeedStatus</th>\n",
       "      <th>decriminalizedWeedStatus</th>\n",
       "    </tr>\n",
       "  </thead>\n",
       "  <tbody>\n",
       "    <tr>\n",
       "      <th>1</th>\n",
       "      <td>2017</td>\n",
       "      <td>Alabama</td>\n",
       "      <td>1034.0</td>\n",
       "      <td>948.0</td>\n",
       "      <td>21.2</td>\n",
       "      <td>1.9</td>\n",
       "      <td>1.3</td>\n",
       "      <td>4908621.0</td>\n",
       "      <td>Fully Illegal</td>\n",
       "      <td>False</td>\n",
       "      <td>False</td>\n",
       "    </tr>\n",
       "    <tr>\n",
       "      <th>2</th>\n",
       "      <td>2017</td>\n",
       "      <td>Alaska</td>\n",
       "      <td>101.0</td>\n",
       "      <td>79.0</td>\n",
       "      <td>13.7</td>\n",
       "      <td>1.0</td>\n",
       "      <td>1.4</td>\n",
       "      <td>734002.0</td>\n",
       "      <td>Fully Legal</td>\n",
       "      <td>True</td>\n",
       "      <td>True</td>\n",
       "    </tr>\n",
       "    <tr>\n",
       "      <th>3</th>\n",
       "      <td>2017</td>\n",
       "      <td>Arizona</td>\n",
       "      <td>1017.0</td>\n",
       "      <td>1000.0</td>\n",
       "      <td>14.5</td>\n",
       "      <td>1.7</td>\n",
       "      <td>1.5</td>\n",
       "      <td>7378494.0</td>\n",
       "      <td>Mixed</td>\n",
       "      <td>True</td>\n",
       "      <td>False</td>\n",
       "    </tr>\n",
       "  </tbody>\n",
       "</table>\n",
       "</div>"
      ],
      "text/plain": [
       "   Year    State  Motor Vehicle Deaths - state of residence  \\\n",
       "1  2017  Alabama                                     1034.0   \n",
       "2  2017   Alaska                                      101.0   \n",
       "3  2017  Arizona                                     1017.0   \n",
       "\n",
       "   Traffic deaths - state of incident  Deaths  per 100,000 population  \\\n",
       "1                               948.0                            21.2   \n",
       "2                                79.0                            13.7   \n",
       "3                              1000.0                            14.5   \n",
       "\n",
       "   Traffic deaths  per 10,000 motor vehicles  \\\n",
       "1                                        1.9   \n",
       "2                                        1.0   \n",
       "3                                        1.7   \n",
       "\n",
       "   Traffic deaths - per 100,000,000 vehicle miles        Pop legalWeedStatus  \\\n",
       "1                                             1.3  4908621.0   Fully Illegal   \n",
       "2                                             1.4   734002.0     Fully Legal   \n",
       "3                                             1.5  7378494.0           Mixed   \n",
       "\n",
       "  medicinalWeedStatus decriminalizedWeedStatus  \n",
       "1               False                    False  \n",
       "2                True                     True  \n",
       "3                True                    False  "
      ]
     },
     "execution_count": 15,
     "metadata": {},
     "output_type": "execute_result"
    }
   ],
   "source": [
    "mvr_status.head(3)"
   ]
  },
  {
   "cell_type": "code",
   "execution_count": 17,
   "metadata": {},
   "outputs": [
    {
     "data": {
      "text/html": [
       "<div>\n",
       "<style scoped>\n",
       "    .dataframe tbody tr th:only-of-type {\n",
       "        vertical-align: middle;\n",
       "    }\n",
       "\n",
       "    .dataframe tbody tr th {\n",
       "        vertical-align: top;\n",
       "    }\n",
       "\n",
       "    .dataframe thead th {\n",
       "        text-align: right;\n",
       "    }\n",
       "</style>\n",
       "<table border=\"1\" class=\"dataframe\">\n",
       "  <thead>\n",
       "    <tr style=\"text-align: right;\">\n",
       "      <th></th>\n",
       "      <th>Year</th>\n",
       "      <th>State</th>\n",
       "      <th>Deaths  per 100,000 population</th>\n",
       "      <th>legalWeedStatus</th>\n",
       "    </tr>\n",
       "  </thead>\n",
       "  <tbody>\n",
       "    <tr>\n",
       "      <th>1</th>\n",
       "      <td>2017</td>\n",
       "      <td>Alabama</td>\n",
       "      <td>21.2</td>\n",
       "      <td>Fully Illegal</td>\n",
       "    </tr>\n",
       "    <tr>\n",
       "      <th>2</th>\n",
       "      <td>2017</td>\n",
       "      <td>Alaska</td>\n",
       "      <td>13.7</td>\n",
       "      <td>Fully Legal</td>\n",
       "    </tr>\n",
       "    <tr>\n",
       "      <th>3</th>\n",
       "      <td>2017</td>\n",
       "      <td>Arizona</td>\n",
       "      <td>14.5</td>\n",
       "      <td>Mixed</td>\n",
       "    </tr>\n",
       "    <tr>\n",
       "      <th>4</th>\n",
       "      <td>2017</td>\n",
       "      <td>Arkansas</td>\n",
       "      <td>19.3</td>\n",
       "      <td>Mixed</td>\n",
       "    </tr>\n",
       "    <tr>\n",
       "      <th>5</th>\n",
       "      <td>2017</td>\n",
       "      <td>California</td>\n",
       "      <td>10.6</td>\n",
       "      <td>Fully Legal</td>\n",
       "    </tr>\n",
       "  </tbody>\n",
       "</table>\n",
       "</div>"
      ],
      "text/plain": [
       "   Year       State  Deaths  per 100,000 population legalWeedStatus\n",
       "1  2017     Alabama                            21.2   Fully Illegal\n",
       "2  2017      Alaska                            13.7     Fully Legal\n",
       "3  2017     Arizona                            14.5           Mixed\n",
       "4  2017    Arkansas                            19.3           Mixed\n",
       "5  2017  California                            10.6     Fully Legal"
      ]
     },
     "execution_count": 17,
     "metadata": {},
     "output_type": "execute_result"
    }
   ],
   "source": [
    "####Mvr state level table\n",
    "#drop columns I don't need for either state level tabel graph\n",
    "\n",
    "mvr_state = mvr_status.drop(columns=[\"Motor Vehicle Deaths - state of residence\",\"Traffic deaths - state of incident\",\"Traffic deaths - state of incident\",\"Traffic deaths  per 10,000 motor vehicles\",\"Traffic deaths - per 100,000,000 vehicle miles\",\"Pop\",\"decriminalizedWeedStatus\",\"medicinalWeedStatus\"])\n",
    "                   \n",
    "mvr_state.head()                                       \n"
   ]
  },
  {
   "cell_type": "code",
   "execution_count": 18,
   "metadata": {},
   "outputs": [
    {
     "data": {
      "text/html": [
       "<div>\n",
       "<style scoped>\n",
       "    .dataframe tbody tr th:only-of-type {\n",
       "        vertical-align: middle;\n",
       "    }\n",
       "\n",
       "    .dataframe tbody tr th {\n",
       "        vertical-align: top;\n",
       "    }\n",
       "\n",
       "    .dataframe thead th {\n",
       "        text-align: right;\n",
       "    }\n",
       "</style>\n",
       "<table border=\"1\" class=\"dataframe\">\n",
       "  <thead>\n",
       "    <tr style=\"text-align: right;\">\n",
       "      <th></th>\n",
       "      <th>Year</th>\n",
       "      <th>State</th>\n",
       "      <th>Deaths  per 100,000 population</th>\n",
       "      <th>legalWeedStatus</th>\n",
       "    </tr>\n",
       "  </thead>\n",
       "  <tbody>\n",
       "    <tr>\n",
       "      <th>1</th>\n",
       "      <td>2017</td>\n",
       "      <td>Alabama</td>\n",
       "      <td>21.2</td>\n",
       "      <td>Fully Illegal</td>\n",
       "    </tr>\n",
       "    <tr>\n",
       "      <th>2</th>\n",
       "      <td>2017</td>\n",
       "      <td>Alaska</td>\n",
       "      <td>13.7</td>\n",
       "      <td>Fully Legal</td>\n",
       "    </tr>\n",
       "    <tr>\n",
       "      <th>3</th>\n",
       "      <td>2017</td>\n",
       "      <td>Arizona</td>\n",
       "      <td>14.5</td>\n",
       "      <td>Mixed</td>\n",
       "    </tr>\n",
       "  </tbody>\n",
       "</table>\n",
       "</div>"
      ],
      "text/plain": [
       "   Year    State  Deaths  per 100,000 population legalWeedStatus\n",
       "1  2017  Alabama                            21.2   Fully Illegal\n",
       "2  2017   Alaska                            13.7     Fully Legal\n",
       "3  2017  Arizona                            14.5           Mixed"
      ]
     },
     "execution_count": 18,
     "metadata": {},
     "output_type": "execute_result"
    }
   ],
   "source": [
    "mvr_state.head(3)"
   ]
  },
  {
   "cell_type": "code",
   "execution_count": 19,
   "metadata": {},
   "outputs": [],
   "source": [
    "##MVR deaths by legal status"
   ]
  },
  {
   "cell_type": "code",
   "execution_count": 18,
   "metadata": {},
   "outputs": [
    {
     "name": "stdout",
     "output_type": "stream",
     "text": [
      "<class 'pandas.core.frame.DataFrame'>\n",
      "Int64Index: 153 entries, 1 to 155\n",
      "Data columns (total 11 columns):\n",
      " #   Column                                          Non-Null Count  Dtype  \n",
      "---  ------                                          --------------  -----  \n",
      " 0   Year                                            153 non-null    object \n",
      " 1   State                                           153 non-null    object \n",
      " 2   Motor Vehicle Deaths - state of residence       153 non-null    float64\n",
      " 3   Traffic deaths - state of incident              153 non-null    float64\n",
      " 4   Deaths  per 100,000 population                  153 non-null    float64\n",
      " 5   Traffic deaths  per 10,000 motor vehicles       153 non-null    float64\n",
      " 6   Traffic deaths - per 100,000,000 vehicle miles  153 non-null    float64\n",
      " 7   Pop                                             153 non-null    float64\n",
      " 8   legalWeedStatus                                 153 non-null    object \n",
      " 9   medicinalWeedStatus                             153 non-null    object \n",
      " 10  decriminalizedWeedStatus                        153 non-null    object \n",
      "dtypes: float64(6), object(5)\n",
      "memory usage: 14.3+ KB\n"
     ]
    }
   ],
   "source": [
    "mvr_status.info()"
   ]
  },
  {
   "cell_type": "code",
   "execution_count": 19,
   "metadata": {},
   "outputs": [
    {
     "name": "stdout",
     "output_type": "stream",
     "text": [
      "<class 'pandas.core.frame.DataFrame'>\n",
      "Int64Index: 153 entries, 1 to 155\n",
      "Data columns (total 4 columns):\n",
      " #   Column                              Non-Null Count  Dtype  \n",
      "---  ------                              --------------  -----  \n",
      " 0   Year                                153 non-null    object \n",
      " 1   Traffic deaths - state of incident  153 non-null    float64\n",
      " 2   Pop                                 153 non-null    float64\n",
      " 3   legalWeedStatus                     153 non-null    object \n",
      "dtypes: float64(2), object(2)\n",
      "memory usage: 6.0+ KB\n"
     ]
    }
   ],
   "source": [
    "###drop columns I don't need\n",
    "\n",
    "data_legal = mvr_status.drop(columns=[\"State\",\"Motor Vehicle Deaths - state of residence\",\"Deaths  per 100,000 population\",\"Traffic deaths  per 10,000 motor vehicles\",\"Traffic deaths - per 100,000,000 vehicle miles\",\"medicinalWeedStatus\",\"decriminalizedWeedStatus\"])\n",
    "#mvr_bystatus = totaldeaths.groupby(['State','Year','Indicator','State Name'])['Data Value'].sum().reset_index()\n",
    "data_legal.info()"
   ]
  },
  {
   "cell_type": "code",
   "execution_count": 20,
   "metadata": {},
   "outputs": [
    {
     "name": "stdout",
     "output_type": "stream",
     "text": [
      "<class 'pandas.core.frame.DataFrame'>\n",
      "RangeIndex: 9 entries, 0 to 8\n",
      "Data columns (total 3 columns):\n",
      " #   Column           Non-Null Count  Dtype  \n",
      "---  ------           --------------  -----  \n",
      " 0   Year             9 non-null      object \n",
      " 1   legalWeedStatus  9 non-null      object \n",
      " 2   Pop              9 non-null      float64\n",
      "dtypes: float64(1), object(2)\n",
      "memory usage: 344.0+ bytes\n"
     ]
    }
   ],
   "source": [
    "#sums by legal status \n",
    "#pop sum\n",
    "status_pop = data_legal.groupby(['Year','legalWeedStatus'])['Pop'].sum().reset_index()\n",
    "status_pop.info()"
   ]
  },
  {
   "cell_type": "code",
   "execution_count": 21,
   "metadata": {},
   "outputs": [
    {
     "data": {
      "text/html": [
       "<div>\n",
       "<style scoped>\n",
       "    .dataframe tbody tr th:only-of-type {\n",
       "        vertical-align: middle;\n",
       "    }\n",
       "\n",
       "    .dataframe tbody tr th {\n",
       "        vertical-align: top;\n",
       "    }\n",
       "\n",
       "    .dataframe thead th {\n",
       "        text-align: right;\n",
       "    }\n",
       "</style>\n",
       "<table border=\"1\" class=\"dataframe\">\n",
       "  <thead>\n",
       "    <tr style=\"text-align: right;\">\n",
       "      <th></th>\n",
       "      <th>Year</th>\n",
       "      <th>legalWeedStatus</th>\n",
       "      <th>Pop</th>\n",
       "    </tr>\n",
       "  </thead>\n",
       "  <tbody>\n",
       "    <tr>\n",
       "      <th>0</th>\n",
       "      <td>2015</td>\n",
       "      <td>Fully Illegal</td>\n",
       "      <td>49127995.0</td>\n",
       "    </tr>\n",
       "    <tr>\n",
       "      <th>1</th>\n",
       "      <td>2015</td>\n",
       "      <td>Fully Legal</td>\n",
       "      <td>81471023.0</td>\n",
       "    </tr>\n",
       "    <tr>\n",
       "      <th>2</th>\n",
       "      <td>2015</td>\n",
       "      <td>Mixed</td>\n",
       "      <td>200719974.0</td>\n",
       "    </tr>\n",
       "    <tr>\n",
       "      <th>3</th>\n",
       "      <td>2016</td>\n",
       "      <td>Fully Illegal</td>\n",
       "      <td>49127995.0</td>\n",
       "    </tr>\n",
       "    <tr>\n",
       "      <th>4</th>\n",
       "      <td>2016</td>\n",
       "      <td>Fully Legal</td>\n",
       "      <td>81471023.0</td>\n",
       "    </tr>\n",
       "  </tbody>\n",
       "</table>\n",
       "</div>"
      ],
      "text/plain": [
       "   Year legalWeedStatus          Pop\n",
       "0  2015   Fully Illegal   49127995.0\n",
       "1  2015     Fully Legal   81471023.0\n",
       "2  2015           Mixed  200719974.0\n",
       "3  2016   Fully Illegal   49127995.0\n",
       "4  2016     Fully Legal   81471023.0"
      ]
     },
     "execution_count": 21,
     "metadata": {},
     "output_type": "execute_result"
    }
   ],
   "source": [
    "status_pop.head()"
   ]
  },
  {
   "cell_type": "code",
   "execution_count": 23,
   "metadata": {},
   "outputs": [
    {
     "data": {
      "text/html": [
       "<div>\n",
       "<style scoped>\n",
       "    .dataframe tbody tr th:only-of-type {\n",
       "        vertical-align: middle;\n",
       "    }\n",
       "\n",
       "    .dataframe tbody tr th {\n",
       "        vertical-align: top;\n",
       "    }\n",
       "\n",
       "    .dataframe thead th {\n",
       "        text-align: right;\n",
       "    }\n",
       "</style>\n",
       "<table border=\"1\" class=\"dataframe\">\n",
       "  <thead>\n",
       "    <tr style=\"text-align: right;\">\n",
       "      <th></th>\n",
       "      <th>Year</th>\n",
       "      <th>Traffic deaths - state of incident</th>\n",
       "      <th>Pop</th>\n",
       "      <th>legalWeedStatus</th>\n",
       "    </tr>\n",
       "  </thead>\n",
       "  <tbody>\n",
       "    <tr>\n",
       "      <th>1</th>\n",
       "      <td>2017</td>\n",
       "      <td>948.0</td>\n",
       "      <td>4908621.0</td>\n",
       "      <td>Fully Illegal</td>\n",
       "    </tr>\n",
       "    <tr>\n",
       "      <th>2</th>\n",
       "      <td>2017</td>\n",
       "      <td>79.0</td>\n",
       "      <td>734002.0</td>\n",
       "      <td>Fully Legal</td>\n",
       "    </tr>\n",
       "    <tr>\n",
       "      <th>3</th>\n",
       "      <td>2017</td>\n",
       "      <td>1000.0</td>\n",
       "      <td>7378494.0</td>\n",
       "      <td>Mixed</td>\n",
       "    </tr>\n",
       "    <tr>\n",
       "      <th>4</th>\n",
       "      <td>2017</td>\n",
       "      <td>493.0</td>\n",
       "      <td>3038999.0</td>\n",
       "      <td>Mixed</td>\n",
       "    </tr>\n",
       "    <tr>\n",
       "      <th>5</th>\n",
       "      <td>2017</td>\n",
       "      <td>3602.0</td>\n",
       "      <td>39937489.0</td>\n",
       "      <td>Fully Legal</td>\n",
       "    </tr>\n",
       "  </tbody>\n",
       "</table>\n",
       "</div>"
      ],
      "text/plain": [
       "   Year  Traffic deaths - state of incident         Pop legalWeedStatus\n",
       "1  2017                               948.0   4908621.0   Fully Illegal\n",
       "2  2017                                79.0    734002.0     Fully Legal\n",
       "3  2017                              1000.0   7378494.0           Mixed\n",
       "4  2017                               493.0   3038999.0           Mixed\n",
       "5  2017                              3602.0  39937489.0     Fully Legal"
      ]
     },
     "execution_count": 23,
     "metadata": {},
     "output_type": "execute_result"
    }
   ],
   "source": [
    "##MVR Sum\n",
    "data_legal.head()"
   ]
  },
  {
   "cell_type": "code",
   "execution_count": 25,
   "metadata": {},
   "outputs": [
    {
     "name": "stdout",
     "output_type": "stream",
     "text": [
      "<class 'pandas.core.frame.DataFrame'>\n",
      "Int64Index: 153 entries, 1 to 155\n",
      "Data columns (total 4 columns):\n",
      " #   Column           Non-Null Count  Dtype  \n",
      "---  ------           --------------  -----  \n",
      " 0   Year             153 non-null    object \n",
      " 1   Traffic_deaths   153 non-null    float64\n",
      " 2   Pop              153 non-null    float64\n",
      " 3   legalWeedStatus  153 non-null    object \n",
      "dtypes: float64(2), object(2)\n",
      "memory usage: 6.0+ KB\n"
     ]
    }
   ],
   "source": [
    "#rename column name\n",
    "d2 = data_legal.rename(columns={\"Traffic deaths - state of incident\":\"Traffic_deaths\"})\n",
    "\n",
    "d2.info()\n",
    "\n"
   ]
  },
  {
   "cell_type": "code",
   "execution_count": 26,
   "metadata": {},
   "outputs": [
    {
     "name": "stdout",
     "output_type": "stream",
     "text": [
      "<class 'pandas.core.frame.DataFrame'>\n",
      "RangeIndex: 9 entries, 0 to 8\n",
      "Data columns (total 3 columns):\n",
      " #   Column           Non-Null Count  Dtype  \n",
      "---  ------           --------------  -----  \n",
      " 0   Year             9 non-null      object \n",
      " 1   legalWeedStatus  9 non-null      object \n",
      " 2   Traffic_deaths   9 non-null      float64\n",
      "dtypes: float64(1), object(2)\n",
      "memory usage: 344.0+ bytes\n"
     ]
    }
   ],
   "source": [
    "#MVR sums by legal status\n",
    "\n",
    "status_mvrtotal = d2.groupby(['Year','legalWeedStatus'])['Traffic_deaths'].sum().reset_index()\n",
    "status_mvrtotal.info()"
   ]
  },
  {
   "cell_type": "code",
   "execution_count": 27,
   "metadata": {},
   "outputs": [
    {
     "data": {
      "text/html": [
       "<div>\n",
       "<style scoped>\n",
       "    .dataframe tbody tr th:only-of-type {\n",
       "        vertical-align: middle;\n",
       "    }\n",
       "\n",
       "    .dataframe tbody tr th {\n",
       "        vertical-align: top;\n",
       "    }\n",
       "\n",
       "    .dataframe thead th {\n",
       "        text-align: right;\n",
       "    }\n",
       "</style>\n",
       "<table border=\"1\" class=\"dataframe\">\n",
       "  <thead>\n",
       "    <tr style=\"text-align: right;\">\n",
       "      <th></th>\n",
       "      <th>Year</th>\n",
       "      <th>legalWeedStatus</th>\n",
       "      <th>Traffic_deaths</th>\n",
       "    </tr>\n",
       "  </thead>\n",
       "  <tbody>\n",
       "    <tr>\n",
       "      <th>0</th>\n",
       "      <td>2015</td>\n",
       "      <td>Fully Illegal</td>\n",
       "      <td>7262.0</td>\n",
       "    </tr>\n",
       "    <tr>\n",
       "      <th>1</th>\n",
       "      <td>2015</td>\n",
       "      <td>Fully Legal</td>\n",
       "      <td>6632.0</td>\n",
       "    </tr>\n",
       "    <tr>\n",
       "      <th>2</th>\n",
       "      <td>2015</td>\n",
       "      <td>Mixed</td>\n",
       "      <td>21198.0</td>\n",
       "    </tr>\n",
       "    <tr>\n",
       "      <th>3</th>\n",
       "      <td>2016</td>\n",
       "      <td>Fully Illegal</td>\n",
       "      <td>8131.0</td>\n",
       "    </tr>\n",
       "    <tr>\n",
       "      <th>4</th>\n",
       "      <td>2016</td>\n",
       "      <td>Fully Legal</td>\n",
       "      <td>7752.0</td>\n",
       "    </tr>\n",
       "  </tbody>\n",
       "</table>\n",
       "</div>"
      ],
      "text/plain": [
       "   Year legalWeedStatus  Traffic_deaths\n",
       "0  2015   Fully Illegal          7262.0\n",
       "1  2015     Fully Legal          6632.0\n",
       "2  2015           Mixed         21198.0\n",
       "3  2016   Fully Illegal          8131.0\n",
       "4  2016     Fully Legal          7752.0"
      ]
     },
     "execution_count": 27,
     "metadata": {},
     "output_type": "execute_result"
    }
   ],
   "source": [
    "status_mvrtotal.head()"
   ]
  },
  {
   "cell_type": "code",
   "execution_count": 28,
   "metadata": {},
   "outputs": [],
   "source": [
    "#first join for by status table"
   ]
  },
  {
   "cell_type": "code",
   "execution_count": 29,
   "metadata": {},
   "outputs": [
    {
     "name": "stdout",
     "output_type": "stream",
     "text": [
      "<class 'pandas.core.frame.DataFrame'>\n",
      "RangeIndex: 9 entries, 0 to 8\n",
      "Data columns (total 3 columns):\n",
      " #   Column           Non-Null Count  Dtype  \n",
      "---  ------           --------------  -----  \n",
      " 0   Year             9 non-null      object \n",
      " 1   legalWeedStatus  9 non-null      object \n",
      " 2   Traffic_deaths   9 non-null      float64\n",
      "dtypes: float64(1), object(2)\n",
      "memory usage: 344.0+ bytes\n"
     ]
    }
   ],
   "source": [
    "status_mvrtotal.info()"
   ]
  },
  {
   "cell_type": "code",
   "execution_count": 30,
   "metadata": {},
   "outputs": [
    {
     "name": "stdout",
     "output_type": "stream",
     "text": [
      "<class 'pandas.core.frame.DataFrame'>\n",
      "RangeIndex: 9 entries, 0 to 8\n",
      "Data columns (total 3 columns):\n",
      " #   Column           Non-Null Count  Dtype  \n",
      "---  ------           --------------  -----  \n",
      " 0   Year             9 non-null      object \n",
      " 1   legalWeedStatus  9 non-null      object \n",
      " 2   Pop              9 non-null      float64\n",
      "dtypes: float64(1), object(2)\n",
      "memory usage: 344.0+ bytes\n"
     ]
    }
   ],
   "source": [
    "status_pop.info()"
   ]
  },
  {
   "cell_type": "code",
   "execution_count": 31,
   "metadata": {},
   "outputs": [
    {
     "name": "stdout",
     "output_type": "stream",
     "text": [
      "<class 'pandas.core.frame.DataFrame'>\n",
      "RangeIndex: 9 entries, 0 to 8\n",
      "Data columns (total 4 columns):\n",
      " #   Column           Non-Null Count  Dtype  \n",
      "---  ------           --------------  -----  \n",
      " 0   Year             9 non-null      object \n",
      " 1   legalWeedStatus  9 non-null      object \n",
      " 2   Pop              9 non-null      float64\n",
      " 3   Traffic_deaths   9 non-null      float64\n",
      "dtypes: float64(2), object(2)\n",
      "memory usage: 416.0+ bytes\n"
     ]
    }
   ],
   "source": [
    "###join all the status info into one table\n",
    "status_join1 = status_pop.join(status_mvrtotal.set_index(['legalWeedStatus','Year']),on=['legalWeedStatus','Year'],how='left')\n",
    "status_join1.info()\n"
   ]
  },
  {
   "cell_type": "code",
   "execution_count": null,
   "metadata": {},
   "outputs": [],
   "source": []
  },
  {
   "cell_type": "code",
   "execution_count": 32,
   "metadata": {},
   "outputs": [],
   "source": [
    "###Overdose Info###"
   ]
  },
  {
   "cell_type": "code",
   "execution_count": 33,
   "metadata": {},
   "outputs": [
    {
     "name": "stdout",
     "output_type": "stream",
     "text": [
      "<class 'pandas.core.frame.DataFrame'>\n",
      "RangeIndex: 29568 entries, 0 to 29567\n",
      "Data columns (total 12 columns):\n",
      " #   Column                         Non-Null Count  Dtype  \n",
      "---  ------                         --------------  -----  \n",
      " 0   State                          29568 non-null  object \n",
      " 1   Year                           29568 non-null  int64  \n",
      " 2   Month                          29568 non-null  object \n",
      " 3   Period                         29568 non-null  object \n",
      " 4   Indicator                      29568 non-null  object \n",
      " 5   Data Value                     24236 non-null  float64\n",
      " 6   Percent Complete               29568 non-null  object \n",
      " 7   Percent Pending Investigation  29568 non-null  float64\n",
      " 8   State Name                     29568 non-null  object \n",
      " 9   Footnote                       29568 non-null  object \n",
      " 10  Footnote Symbol                29568 non-null  object \n",
      " 11  Predicted Value                18465 non-null  object \n",
      "dtypes: float64(2), int64(1), object(9)\n",
      "memory usage: 2.7+ MB\n"
     ]
    }
   ],
   "source": [
    "overdose_df.info()"
   ]
  },
  {
   "cell_type": "code",
   "execution_count": 34,
   "metadata": {},
   "outputs": [
    {
     "name": "stdout",
     "output_type": "stream",
     "text": [
      "<class 'pandas.core.frame.DataFrame'>\n",
      "Int64Index: 19008 entries, 0 to 29327\n",
      "Data columns (total 7 columns):\n",
      " #   Column           Non-Null Count  Dtype  \n",
      "---  ------           --------------  -----  \n",
      " 0   State            19008 non-null  object \n",
      " 1   Year             19008 non-null  int64  \n",
      " 2   Month            19008 non-null  object \n",
      " 3   Indicator        19008 non-null  object \n",
      " 4   Data Value       14566 non-null  float64\n",
      " 5   State Name       19008 non-null  object \n",
      " 6   legalWeedStatus  18144 non-null  object \n",
      "dtypes: float64(1), int64(1), object(5)\n",
      "memory usage: 1.2+ MB\n"
     ]
    }
   ],
   "source": [
    "###filter clean to only columns I need\n",
    "\n",
    "##od to the same years as mvr\n",
    "overdose = overdose_df[overdose_df.Year.isin(years)]\n",
    "#states, indicator, year\n",
    "od_drop_df = overdose.drop(columns=[\"Period\",\"Percent Complete\",\"Percent Pending Investigation\",\"Footnote\",\"Footnote Symbol\",\"Footnote Symbol\",\"Predicted Value\"])\n",
    "###join the status\n",
    "od_df = od_drop_df.join(legal_mapdf.set_index(['State']), on=['State Name'],how='left')\n",
    "od_df.info()\n"
   ]
  },
  {
   "cell_type": "code",
   "execution_count": 35,
   "metadata": {},
   "outputs": [],
   "source": [
    "###Total deaths"
   ]
  },
  {
   "cell_type": "code",
   "execution_count": 36,
   "metadata": {},
   "outputs": [
    {
     "name": "stdout",
     "output_type": "stream",
     "text": [
      "<class 'pandas.core.frame.DataFrame'>\n",
      "Int64Index: 1908 entries, 4 to 29321\n",
      "Data columns (total 6 columns):\n",
      " #   Column           Non-Null Count  Dtype  \n",
      "---  ------           --------------  -----  \n",
      " 0   State            1908 non-null   object \n",
      " 1   Year             1908 non-null   int64  \n",
      " 2   Month            1908 non-null   object \n",
      " 3   Data Value       1908 non-null   float64\n",
      " 4   State Name       1908 non-null   object \n",
      " 5   legalWeedStatus  1836 non-null   object \n",
      "dtypes: float64(1), int64(1), object(4)\n",
      "memory usage: 104.3+ KB\n"
     ]
    }
   ],
   "source": [
    "#filter to the number of deaths\n",
    "\n",
    "totaldeaths1 = od_df[od_df['Indicator']=='Number of Deaths']\n",
    "totaldeaths =  totaldeaths1.drop(columns=['Indicator'])\n",
    "\n",
    "totaldeaths.info()"
   ]
  },
  {
   "cell_type": "code",
   "execution_count": 37,
   "metadata": {},
   "outputs": [
    {
     "name": "stdout",
     "output_type": "stream",
     "text": [
      "<class 'pandas.core.frame.DataFrame'>\n",
      "RangeIndex: 153 entries, 0 to 152\n",
      "Data columns (total 5 columns):\n",
      " #   Column           Non-Null Count  Dtype  \n",
      "---  ------           --------------  -----  \n",
      " 0   State            153 non-null    object \n",
      " 1   Year             153 non-null    int64  \n",
      " 2   State Name       153 non-null    object \n",
      " 3   legalWeedStatus  153 non-null    object \n",
      " 4   yearly_deaths    153 non-null    float64\n",
      "dtypes: float64(1), int64(1), object(3)\n",
      "memory usage: 6.1+ KB\n"
     ]
    }
   ],
   "source": [
    "##sum up deaths for state\n",
    "state_yr_deaths1 = totaldeaths.groupby(['State','Year','State Name','legalWeedStatus'])['Data Value'].sum().reset_index()\n",
    "state_yr_deaths = state_yr_deaths1.rename(columns={\"Data Value\":\"yearly_deaths\"})\n",
    "\n",
    "state_yr_deaths.info()"
   ]
  },
  {
   "cell_type": "code",
   "execution_count": 38,
   "metadata": {},
   "outputs": [
    {
     "data": {
      "text/html": [
       "<div>\n",
       "<style scoped>\n",
       "    .dataframe tbody tr th:only-of-type {\n",
       "        vertical-align: middle;\n",
       "    }\n",
       "\n",
       "    .dataframe tbody tr th {\n",
       "        vertical-align: top;\n",
       "    }\n",
       "\n",
       "    .dataframe thead th {\n",
       "        text-align: right;\n",
       "    }\n",
       "</style>\n",
       "<table border=\"1\" class=\"dataframe\">\n",
       "  <thead>\n",
       "    <tr style=\"text-align: right;\">\n",
       "      <th></th>\n",
       "      <th>State</th>\n",
       "      <th>Year</th>\n",
       "      <th>State Name</th>\n",
       "      <th>legalWeedStatus</th>\n",
       "      <th>yearly_deaths</th>\n",
       "    </tr>\n",
       "  </thead>\n",
       "  <tbody>\n",
       "    <tr>\n",
       "      <th>0</th>\n",
       "      <td>AK</td>\n",
       "      <td>2015</td>\n",
       "      <td>Alaska</td>\n",
       "      <td>Fully Legal</td>\n",
       "      <td>50086.0</td>\n",
       "    </tr>\n",
       "    <tr>\n",
       "      <th>1</th>\n",
       "      <td>AK</td>\n",
       "      <td>2016</td>\n",
       "      <td>Alaska</td>\n",
       "      <td>Fully Legal</td>\n",
       "      <td>51141.0</td>\n",
       "    </tr>\n",
       "    <tr>\n",
       "      <th>2</th>\n",
       "      <td>AK</td>\n",
       "      <td>2017</td>\n",
       "      <td>Alaska</td>\n",
       "      <td>Fully Legal</td>\n",
       "      <td>51597.0</td>\n",
       "    </tr>\n",
       "    <tr>\n",
       "      <th>3</th>\n",
       "      <td>AL</td>\n",
       "      <td>2015</td>\n",
       "      <td>Alabama</td>\n",
       "      <td>Fully Illegal</td>\n",
       "      <td>607641.0</td>\n",
       "    </tr>\n",
       "    <tr>\n",
       "      <th>4</th>\n",
       "      <td>AL</td>\n",
       "      <td>2016</td>\n",
       "      <td>Alabama</td>\n",
       "      <td>Fully Illegal</td>\n",
       "      <td>608611.0</td>\n",
       "    </tr>\n",
       "  </tbody>\n",
       "</table>\n",
       "</div>"
      ],
      "text/plain": [
       "  State  Year State Name legalWeedStatus  yearly_deaths\n",
       "0    AK  2015     Alaska     Fully Legal        50086.0\n",
       "1    AK  2016     Alaska     Fully Legal        51141.0\n",
       "2    AK  2017     Alaska     Fully Legal        51597.0\n",
       "3    AL  2015    Alabama   Fully Illegal       607641.0\n",
       "4    AL  2016    Alabama   Fully Illegal       608611.0"
      ]
     },
     "execution_count": 38,
     "metadata": {},
     "output_type": "execute_result"
    }
   ],
   "source": [
    "state_yr_deaths.head()\n",
    "\n"
   ]
  },
  {
   "cell_type": "code",
   "execution_count": 39,
   "metadata": {},
   "outputs": [],
   "source": [
    "####deaths by legal status"
   ]
  },
  {
   "cell_type": "code",
   "execution_count": 45,
   "metadata": {},
   "outputs": [
    {
     "name": "stdout",
     "output_type": "stream",
     "text": [
      "<class 'pandas.core.frame.DataFrame'>\n",
      "RangeIndex: 9 entries, 0 to 8\n",
      "Data columns (total 3 columns):\n",
      " #   Column           Non-Null Count  Dtype  \n",
      "---  ------           --------------  -----  \n",
      " 0   Year             9 non-null      int64  \n",
      " 1   legalWeedStatus  9 non-null      object \n",
      " 2   yearly_deaths    9 non-null      float64\n",
      "dtypes: float64(1), int64(1), object(1)\n",
      "memory usage: 344.0+ bytes\n"
     ]
    }
   ],
   "source": [
    "status_deaths = state_yr_deaths.groupby(['Year','legalWeedStatus'])['yearly_deaths'].sum().reset_index()\n",
    "status_deaths.info()"
   ]
  },
  {
   "cell_type": "code",
   "execution_count": 46,
   "metadata": {},
   "outputs": [
    {
     "data": {
      "text/html": [
       "<div>\n",
       "<style scoped>\n",
       "    .dataframe tbody tr th:only-of-type {\n",
       "        vertical-align: middle;\n",
       "    }\n",
       "\n",
       "    .dataframe tbody tr th {\n",
       "        vertical-align: top;\n",
       "    }\n",
       "\n",
       "    .dataframe thead th {\n",
       "        text-align: right;\n",
       "    }\n",
       "</style>\n",
       "<table border=\"1\" class=\"dataframe\">\n",
       "  <thead>\n",
       "    <tr style=\"text-align: right;\">\n",
       "      <th></th>\n",
       "      <th>Year</th>\n",
       "      <th>legalWeedStatus</th>\n",
       "      <th>yearly_deaths</th>\n",
       "    </tr>\n",
       "  </thead>\n",
       "  <tbody>\n",
       "    <tr>\n",
       "      <th>0</th>\n",
       "      <td>2015</td>\n",
       "      <td>Fully Illegal</td>\n",
       "      <td>5410542.0</td>\n",
       "    </tr>\n",
       "    <tr>\n",
       "      <th>1</th>\n",
       "      <td>2015</td>\n",
       "      <td>Fully Legal</td>\n",
       "      <td>7034178.0</td>\n",
       "    </tr>\n",
       "    <tr>\n",
       "      <th>2</th>\n",
       "      <td>2015</td>\n",
       "      <td>Mixed</td>\n",
       "      <td>19335816.0</td>\n",
       "    </tr>\n",
       "    <tr>\n",
       "      <th>3</th>\n",
       "      <td>2016</td>\n",
       "      <td>Fully Illegal</td>\n",
       "      <td>5441650.0</td>\n",
       "    </tr>\n",
       "    <tr>\n",
       "      <th>4</th>\n",
       "      <td>2016</td>\n",
       "      <td>Fully Legal</td>\n",
       "      <td>7132055.0</td>\n",
       "    </tr>\n",
       "  </tbody>\n",
       "</table>\n",
       "</div>"
      ],
      "text/plain": [
       "   Year legalWeedStatus  yearly_deaths\n",
       "0  2015   Fully Illegal      5410542.0\n",
       "1  2015     Fully Legal      7034178.0\n",
       "2  2015           Mixed     19335816.0\n",
       "3  2016   Fully Illegal      5441650.0\n",
       "4  2016     Fully Legal      7132055.0"
      ]
     },
     "execution_count": 46,
     "metadata": {},
     "output_type": "execute_result"
    }
   ],
   "source": [
    "status_deaths.head()"
   ]
  },
  {
   "cell_type": "code",
   "execution_count": null,
   "metadata": {},
   "outputs": [],
   "source": []
  },
  {
   "cell_type": "code",
   "execution_count": null,
   "metadata": {},
   "outputs": [],
   "source": [
    "####overdose totals"
   ]
  },
  {
   "cell_type": "code",
   "execution_count": 41,
   "metadata": {},
   "outputs": [
    {
     "name": "stdout",
     "output_type": "stream",
     "text": [
      "<class 'pandas.core.frame.DataFrame'>\n",
      "Int64Index: 1908 entries, 0 to 29322\n",
      "Data columns (total 7 columns):\n",
      " #   Column           Non-Null Count  Dtype  \n",
      "---  ------           --------------  -----  \n",
      " 0   State            1908 non-null   object \n",
      " 1   Year             1908 non-null   int64  \n",
      " 2   Month            1908 non-null   object \n",
      " 3   Indicator        1908 non-null   object \n",
      " 4   Data Value       1908 non-null   float64\n",
      " 5   State Name       1908 non-null   object \n",
      " 6   legalWeedStatus  1836 non-null   object \n",
      "dtypes: float64(1), int64(1), object(5)\n",
      "memory usage: 119.2+ KB\n"
     ]
    }
   ],
   "source": [
    "totalod = od_df[od_df['Indicator']=='Number of Drug Overdose Deaths']\n",
    "totalod.info()"
   ]
  },
  {
   "cell_type": "code",
   "execution_count": 51,
   "metadata": {},
   "outputs": [
    {
     "name": "stdout",
     "output_type": "stream",
     "text": [
      "<class 'pandas.core.frame.DataFrame'>\n",
      "RangeIndex: 153 entries, 0 to 152\n",
      "Data columns (total 4 columns):\n",
      " #   Column            Non-Null Count  Dtype  \n",
      "---  ------            --------------  -----  \n",
      " 0   Year              153 non-null    int64  \n",
      " 1   legalWeedStatus   153 non-null    object \n",
      " 2   State Name        153 non-null    object \n",
      " 3   yearly_OD_deaths  153 non-null    float64\n",
      "dtypes: float64(1), int64(1), object(2)\n",
      "memory usage: 4.9+ KB\n"
     ]
    }
   ],
   "source": [
    "state_yr_od1 = totalod.groupby(['Year','legalWeedStatus','State Name'])['Data Value'].sum().reset_index()\n",
    "state_yr_od = state_yr_od1.rename(columns={\"Data Value\":\"yearly_OD_deaths\"})\n",
    "state_yr_od.info()"
   ]
  },
  {
   "cell_type": "code",
   "execution_count": 52,
   "metadata": {},
   "outputs": [
    {
     "data": {
      "text/html": [
       "<div>\n",
       "<style scoped>\n",
       "    .dataframe tbody tr th:only-of-type {\n",
       "        vertical-align: middle;\n",
       "    }\n",
       "\n",
       "    .dataframe tbody tr th {\n",
       "        vertical-align: top;\n",
       "    }\n",
       "\n",
       "    .dataframe thead th {\n",
       "        text-align: right;\n",
       "    }\n",
       "</style>\n",
       "<table border=\"1\" class=\"dataframe\">\n",
       "  <thead>\n",
       "    <tr style=\"text-align: right;\">\n",
       "      <th></th>\n",
       "      <th>Year</th>\n",
       "      <th>legalWeedStatus</th>\n",
       "      <th>State Name</th>\n",
       "      <th>yearly_OD_deaths</th>\n",
       "    </tr>\n",
       "  </thead>\n",
       "  <tbody>\n",
       "    <tr>\n",
       "      <th>0</th>\n",
       "      <td>2015</td>\n",
       "      <td>Fully Illegal</td>\n",
       "      <td>Alabama</td>\n",
       "      <td>8818.0</td>\n",
       "    </tr>\n",
       "    <tr>\n",
       "      <th>1</th>\n",
       "      <td>2015</td>\n",
       "      <td>Fully Illegal</td>\n",
       "      <td>Idaho</td>\n",
       "      <td>2570.0</td>\n",
       "    </tr>\n",
       "    <tr>\n",
       "      <th>2</th>\n",
       "      <td>2015</td>\n",
       "      <td>Fully Illegal</td>\n",
       "      <td>Kansas</td>\n",
       "      <td>3926.0</td>\n",
       "    </tr>\n",
       "    <tr>\n",
       "      <th>3</th>\n",
       "      <td>2015</td>\n",
       "      <td>Fully Illegal</td>\n",
       "      <td>Kentucky</td>\n",
       "      <td>14286.0</td>\n",
       "    </tr>\n",
       "    <tr>\n",
       "      <th>4</th>\n",
       "      <td>2015</td>\n",
       "      <td>Fully Illegal</td>\n",
       "      <td>Mississippi</td>\n",
       "      <td>3907.0</td>\n",
       "    </tr>\n",
       "  </tbody>\n",
       "</table>\n",
       "</div>"
      ],
      "text/plain": [
       "   Year legalWeedStatus   State Name  yearly_OD_deaths\n",
       "0  2015   Fully Illegal      Alabama            8818.0\n",
       "1  2015   Fully Illegal        Idaho            2570.0\n",
       "2  2015   Fully Illegal       Kansas            3926.0\n",
       "3  2015   Fully Illegal     Kentucky           14286.0\n",
       "4  2015   Fully Illegal  Mississippi            3907.0"
      ]
     },
     "execution_count": 52,
     "metadata": {},
     "output_type": "execute_result"
    }
   ],
   "source": [
    "state_yr_od.head()"
   ]
  },
  {
   "cell_type": "code",
   "execution_count": null,
   "metadata": {},
   "outputs": [],
   "source": [
    "#####od's by legal status####"
   ]
  },
  {
   "cell_type": "code",
   "execution_count": 54,
   "metadata": {},
   "outputs": [
    {
     "name": "stdout",
     "output_type": "stream",
     "text": [
      "<class 'pandas.core.frame.DataFrame'>\n",
      "RangeIndex: 9 entries, 0 to 8\n",
      "Data columns (total 3 columns):\n",
      " #   Column            Non-Null Count  Dtype  \n",
      "---  ------            --------------  -----  \n",
      " 0   Year              9 non-null      int64  \n",
      " 1   legalWeedStatus   9 non-null      object \n",
      " 2   yearly_OD_deaths  9 non-null      float64\n",
      "dtypes: float64(1), int64(1), object(1)\n",
      "memory usage: 344.0+ bytes\n"
     ]
    }
   ],
   "source": [
    "#drop state\n",
    "#legal_deaths = state_yr_deaths.drop(columns=[\"State\",\"State Name\"])\n",
    "####sum by legal type\n",
    "OD_by_legal_type = state_yr_od.groupby(['Year','legalWeedStatus'])['yearly_OD_deaths'].sum().reset_index()\n",
    "OD_by_legal_type.info()"
   ]
  },
  {
   "cell_type": "code",
   "execution_count": null,
   "metadata": {},
   "outputs": [],
   "source": []
  },
  {
   "cell_type": "code",
   "execution_count": 57,
   "metadata": {},
   "outputs": [
    {
     "name": "stdout",
     "output_type": "stream",
     "text": [
      "<class 'pandas.core.frame.DataFrame'>\n",
      "RangeIndex: 9 entries, 0 to 8\n",
      "Data columns (total 4 columns):\n",
      " #   Column            Non-Null Count  Dtype  \n",
      "---  ------            --------------  -----  \n",
      " 0   Year              9 non-null      int64  \n",
      " 1   legalWeedStatus   9 non-null      object \n",
      " 2   yearly_OD_deaths  9 non-null      float64\n",
      " 3   yearly_deaths     9 non-null      float64\n",
      "dtypes: float64(2), int64(1), object(1)\n",
      "memory usage: 416.0+ bytes\n"
     ]
    }
   ],
   "source": [
    "#joins the two together into one\n",
    "Od_deaths_status_combined = OD_by_legal_type.join(status_deaths.set_index(['Year','legalWeedStatus']), on = ['Year','legalWeedStatus'], how='left')\n",
    "Od_deaths_status_combined.info()                                                 "
   ]
  },
  {
   "cell_type": "code",
   "execution_count": 58,
   "metadata": {},
   "outputs": [],
   "source": [
    "Od_deaths_status_combined['Year'] = Od_deaths_status_combined['Year'].astype(str)"
   ]
  },
  {
   "cell_type": "code",
   "execution_count": 59,
   "metadata": {},
   "outputs": [
    {
     "name": "stdout",
     "output_type": "stream",
     "text": [
      "<class 'pandas.core.frame.DataFrame'>\n",
      "RangeIndex: 9 entries, 0 to 8\n",
      "Data columns (total 4 columns):\n",
      " #   Column            Non-Null Count  Dtype  \n",
      "---  ------            --------------  -----  \n",
      " 0   Year              9 non-null      object \n",
      " 1   legalWeedStatus   9 non-null      object \n",
      " 2   yearly_OD_deaths  9 non-null      float64\n",
      " 3   yearly_deaths     9 non-null      float64\n",
      "dtypes: float64(2), object(2)\n",
      "memory usage: 416.0+ bytes\n"
     ]
    }
   ],
   "source": [
    "Od_deaths_status_combined.info()   "
   ]
  },
  {
   "cell_type": "code",
   "execution_count": 66,
   "metadata": {},
   "outputs": [
    {
     "data": {
      "text/plain": [
       "0    0.016533\n",
       "1    0.020075\n",
       "2    0.018626\n",
       "3    0.018316\n",
       "4    0.021609\n",
       "5    0.022112\n",
       "6    0.020442\n",
       "7    0.022897\n",
       "8    0.026359\n",
       "dtype: float64"
      ]
     },
     "execution_count": 66,
     "metadata": {},
     "output_type": "execute_result"
    }
   ],
   "source": [
    "od_per_death = Od_deaths_status_combined['yearly_OD_deaths']/Od_deaths_status_combined['yearly_deaths']\n",
    "od_per_death"
   ]
  },
  {
   "cell_type": "code",
   "execution_count": null,
   "metadata": {},
   "outputs": [],
   "source": [
    "###by status table"
   ]
  },
  {
   "cell_type": "code",
   "execution_count": 45,
   "metadata": {},
   "outputs": [
    {
     "name": "stdout",
     "output_type": "stream",
     "text": [
      "<class 'pandas.core.frame.DataFrame'>\n",
      "RangeIndex: 9 entries, 0 to 8\n",
      "Data columns (total 4 columns):\n",
      " #   Column           Non-Null Count  Dtype  \n",
      "---  ------           --------------  -----  \n",
      " 0   Year             9 non-null      object \n",
      " 1   legalWeedStatus  9 non-null      object \n",
      " 2   Pop              9 non-null      float64\n",
      " 3   Traffic_deaths   9 non-null      float64\n",
      "dtypes: float64(2), object(2)\n",
      "memory usage: 416.0+ bytes\n"
     ]
    }
   ],
   "source": [
    "status_join1.info()"
   ]
  },
  {
   "cell_type": "code",
   "execution_count": 60,
   "metadata": {},
   "outputs": [
    {
     "name": "stdout",
     "output_type": "stream",
     "text": [
      "<class 'pandas.core.frame.DataFrame'>\n",
      "RangeIndex: 9 entries, 0 to 8\n",
      "Data columns (total 6 columns):\n",
      " #   Column            Non-Null Count  Dtype  \n",
      "---  ------            --------------  -----  \n",
      " 0   Year              9 non-null      object \n",
      " 1   legalWeedStatus   9 non-null      object \n",
      " 2   Pop               9 non-null      float64\n",
      " 3   Traffic_deaths    9 non-null      float64\n",
      " 4   yearly_OD_deaths  9 non-null      float64\n",
      " 5   yearly_deaths     9 non-null      float64\n",
      "dtypes: float64(4), object(2)\n",
      "memory usage: 560.0+ bytes\n"
     ]
    }
   ],
   "source": [
    "total_joined_status = status_join1.join(Od_deaths_status_combined.set_index(['Year','legalWeedStatus']), on = ['Year','legalWeedStatus'], how='left')\n",
    "total_joined_status.info()"
   ]
  },
  {
   "cell_type": "code",
   "execution_count": 62,
   "metadata": {},
   "outputs": [
    {
     "ename": "AttributeError",
     "evalue": "'list' object has no attribute 'head'",
     "output_type": "error",
     "traceback": [
      "\u001b[1;31m---------------------------------------------------------------------------\u001b[0m",
      "\u001b[1;31mAttributeError\u001b[0m                            Traceback (most recent call last)",
      "\u001b[1;32m<ipython-input-62-d92e803a8e53>\u001b[0m in \u001b[0;36m<module>\u001b[1;34m\u001b[0m\n\u001b[0;32m      1\u001b[0m \u001b[0mOD_type_status\u001b[0m \u001b[1;33m=\u001b[0m \u001b[1;33m[\u001b[0m\u001b[1;33m[\u001b[0m\u001b[1;34m'Year'\u001b[0m\u001b[1;33m,\u001b[0m \u001b[0mtotal_joined_status\u001b[0m\u001b[1;33m.\u001b[0m\u001b[0mYear\u001b[0m\u001b[1;33m]\u001b[0m\u001b[1;33m]\u001b[0m\u001b[1;33m\u001b[0m\u001b[1;33m\u001b[0m\u001b[0m\n\u001b[1;32m----> 2\u001b[1;33m \u001b[0mOD_type_status\u001b[0m\u001b[1;33m.\u001b[0m\u001b[0mhead\u001b[0m\u001b[1;33m(\u001b[0m\u001b[1;33m)\u001b[0m\u001b[1;33m\u001b[0m\u001b[1;33m\u001b[0m\u001b[0m\n\u001b[0m",
      "\u001b[1;31mAttributeError\u001b[0m: 'list' object has no attribute 'head'"
     ]
    }
   ],
   "source": [
    "OD_type_status = [['Year', total_joined_status.Year]]\n",
    "OD_type_status.head()"
   ]
  },
  {
   "cell_type": "code",
   "execution_count": null,
   "metadata": {},
   "outputs": [],
   "source": []
  },
  {
   "cell_type": "code",
   "execution_count": null,
   "metadata": {},
   "outputs": [],
   "source": []
  },
  {
   "cell_type": "code",
   "execution_count": null,
   "metadata": {},
   "outputs": [],
   "source": []
  },
  {
   "cell_type": "code",
   "execution_count": null,
   "metadata": {},
   "outputs": [],
   "source": [
    "##into postgres"
   ]
  },
  {
   "cell_type": "code",
   "execution_count": 17,
   "metadata": {},
   "outputs": [
    {
     "ename": "ModuleNotFoundError",
     "evalue": "No module named 'psycopg2'",
     "output_type": "error",
     "traceback": [
      "\u001b[1;31m---------------------------------------------------------------------------\u001b[0m",
      "\u001b[1;31mModuleNotFoundError\u001b[0m                       Traceback (most recent call last)",
      "\u001b[1;32m<ipython-input-17-8808b66636f2>\u001b[0m in \u001b[0;36m<module>\u001b[1;34m\u001b[0m\n\u001b[0;32m      4\u001b[0m \u001b[0mdbuser\u001b[0m \u001b[1;33m=\u001b[0m \u001b[1;34m\"postgres\"\u001b[0m\u001b[1;33m\u001b[0m\u001b[1;33m\u001b[0m\u001b[0m\n\u001b[0;32m      5\u001b[0m \u001b[0mrds_connection_string\u001b[0m \u001b[1;33m=\u001b[0m \u001b[1;34mf\"{dbuser}:{password}@localhost:5432/project2\"\u001b[0m\u001b[1;33m\u001b[0m\u001b[1;33m\u001b[0m\u001b[0m\n\u001b[1;32m----> 6\u001b[1;33m \u001b[0mengine\u001b[0m \u001b[1;33m=\u001b[0m \u001b[0mcreate_engine\u001b[0m\u001b[1;33m(\u001b[0m\u001b[1;34mf'postgresql://{rds_connection_string}'\u001b[0m\u001b[1;33m)\u001b[0m\u001b[1;33m\u001b[0m\u001b[1;33m\u001b[0m\u001b[0m\n\u001b[0m",
      "\u001b[1;32m~\\Anaconda3\\lib\\site-packages\\sqlalchemy\\engine\\__init__.py\u001b[0m in \u001b[0;36mcreate_engine\u001b[1;34m(*args, **kwargs)\u001b[0m\n\u001b[0;32m    477\u001b[0m     \u001b[0mstrategy\u001b[0m \u001b[1;33m=\u001b[0m \u001b[0mkwargs\u001b[0m\u001b[1;33m.\u001b[0m\u001b[0mpop\u001b[0m\u001b[1;33m(\u001b[0m\u001b[1;34m\"strategy\"\u001b[0m\u001b[1;33m,\u001b[0m \u001b[0mdefault_strategy\u001b[0m\u001b[1;33m)\u001b[0m\u001b[1;33m\u001b[0m\u001b[1;33m\u001b[0m\u001b[0m\n\u001b[0;32m    478\u001b[0m     \u001b[0mstrategy\u001b[0m \u001b[1;33m=\u001b[0m \u001b[0mstrategies\u001b[0m\u001b[1;33m.\u001b[0m\u001b[0mstrategies\u001b[0m\u001b[1;33m[\u001b[0m\u001b[0mstrategy\u001b[0m\u001b[1;33m]\u001b[0m\u001b[1;33m\u001b[0m\u001b[1;33m\u001b[0m\u001b[0m\n\u001b[1;32m--> 479\u001b[1;33m     \u001b[1;32mreturn\u001b[0m \u001b[0mstrategy\u001b[0m\u001b[1;33m.\u001b[0m\u001b[0mcreate\u001b[0m\u001b[1;33m(\u001b[0m\u001b[1;33m*\u001b[0m\u001b[0margs\u001b[0m\u001b[1;33m,\u001b[0m \u001b[1;33m**\u001b[0m\u001b[0mkwargs\u001b[0m\u001b[1;33m)\u001b[0m\u001b[1;33m\u001b[0m\u001b[1;33m\u001b[0m\u001b[0m\n\u001b[0m\u001b[0;32m    480\u001b[0m \u001b[1;33m\u001b[0m\u001b[0m\n\u001b[0;32m    481\u001b[0m \u001b[1;33m\u001b[0m\u001b[0m\n",
      "\u001b[1;32m~\\Anaconda3\\lib\\site-packages\\sqlalchemy\\engine\\strategies.py\u001b[0m in \u001b[0;36mcreate\u001b[1;34m(self, name_or_url, **kwargs)\u001b[0m\n\u001b[0;32m     85\u001b[0m                 \u001b[1;32mif\u001b[0m \u001b[0mk\u001b[0m \u001b[1;32min\u001b[0m \u001b[0mkwargs\u001b[0m\u001b[1;33m:\u001b[0m\u001b[1;33m\u001b[0m\u001b[1;33m\u001b[0m\u001b[0m\n\u001b[0;32m     86\u001b[0m                     \u001b[0mdbapi_args\u001b[0m\u001b[1;33m[\u001b[0m\u001b[0mk\u001b[0m\u001b[1;33m]\u001b[0m \u001b[1;33m=\u001b[0m \u001b[0mpop_kwarg\u001b[0m\u001b[1;33m(\u001b[0m\u001b[0mk\u001b[0m\u001b[1;33m)\u001b[0m\u001b[1;33m\u001b[0m\u001b[1;33m\u001b[0m\u001b[0m\n\u001b[1;32m---> 87\u001b[1;33m             \u001b[0mdbapi\u001b[0m \u001b[1;33m=\u001b[0m \u001b[0mdialect_cls\u001b[0m\u001b[1;33m.\u001b[0m\u001b[0mdbapi\u001b[0m\u001b[1;33m(\u001b[0m\u001b[1;33m**\u001b[0m\u001b[0mdbapi_args\u001b[0m\u001b[1;33m)\u001b[0m\u001b[1;33m\u001b[0m\u001b[1;33m\u001b[0m\u001b[0m\n\u001b[0m\u001b[0;32m     88\u001b[0m \u001b[1;33m\u001b[0m\u001b[0m\n\u001b[0;32m     89\u001b[0m         \u001b[0mdialect_args\u001b[0m\u001b[1;33m[\u001b[0m\u001b[1;34m\"dbapi\"\u001b[0m\u001b[1;33m]\u001b[0m \u001b[1;33m=\u001b[0m \u001b[0mdbapi\u001b[0m\u001b[1;33m\u001b[0m\u001b[1;33m\u001b[0m\u001b[0m\n",
      "\u001b[1;32m~\\Anaconda3\\lib\\site-packages\\sqlalchemy\\dialects\\postgresql\\psycopg2.py\u001b[0m in \u001b[0;36mdbapi\u001b[1;34m(cls)\u001b[0m\n\u001b[0;32m    735\u001b[0m     \u001b[1;33m@\u001b[0m\u001b[0mclassmethod\u001b[0m\u001b[1;33m\u001b[0m\u001b[1;33m\u001b[0m\u001b[0m\n\u001b[0;32m    736\u001b[0m     \u001b[1;32mdef\u001b[0m \u001b[0mdbapi\u001b[0m\u001b[1;33m(\u001b[0m\u001b[0mcls\u001b[0m\u001b[1;33m)\u001b[0m\u001b[1;33m:\u001b[0m\u001b[1;33m\u001b[0m\u001b[1;33m\u001b[0m\u001b[0m\n\u001b[1;32m--> 737\u001b[1;33m         \u001b[1;32mimport\u001b[0m \u001b[0mpsycopg2\u001b[0m\u001b[1;33m\u001b[0m\u001b[1;33m\u001b[0m\u001b[0m\n\u001b[0m\u001b[0;32m    738\u001b[0m \u001b[1;33m\u001b[0m\u001b[0m\n\u001b[0;32m    739\u001b[0m         \u001b[1;32mreturn\u001b[0m \u001b[0mpsycopg2\u001b[0m\u001b[1;33m\u001b[0m\u001b[1;33m\u001b[0m\u001b[0m\n",
      "\u001b[1;31mModuleNotFoundError\u001b[0m: No module named 'psycopg2'"
     ]
    }
   ],
   "source": [
    "#rds_connection_string = f\"{dbuser}<insert user name>:<insert password>@localhost:5432/customer_db\"\n",
    "#engine = create_engine(f'postgresql://{rds_connection_string}')\n",
    "password = \"Hooch#12\"\n",
    "dbuser = \"postgres\"\n",
    "rds_connection_string = f\"{dbuser}:{password}@localhost:5432/project2\"\n",
    "engine = create_engine(f'postgresql://{rds_connection_string}')"
   ]
  },
  {
   "cell_type": "code",
   "execution_count": null,
   "metadata": {},
   "outputs": [],
   "source": [
    "###postgresSQL\n",
    "##push to server"
   ]
  },
  {
   "cell_type": "code",
   "execution_count": null,
   "metadata": {},
   "outputs": [],
   "source": [
    "engine.table_names()"
   ]
  },
  {
   "cell_type": "code",
   "execution_count": null,
   "metadata": {},
   "outputs": [],
   "source": [
    "#pushing Cluster,Bar,Line DATAFRAME to SQL\n",
    "years_trend.to_sql(name='guns_year', con=engine, if_exists='replace', index=False)\n",
    "deaths_2018_unindexed.to_sql(name='killings_injuries_2018', con=engine, if_exists='replace', index=False)"
   ]
  },
  {
   "cell_type": "code",
   "execution_count": null,
   "metadata": {},
   "outputs": [],
   "source": [
    "\n",
    "#Creating CSV's of Cluster,Bar,Line DATAFRAME\n",
    "years_trend.to_csv('year_trend_gun.csv')\n",
    "deaths_2018.to_csv('deaths_2018.csv')\n",
    "gun14_monthly.to_csv(\"gun2014onwrd.csv\")"
   ]
  }
 ],
 "metadata": {
  "kernelspec": {
   "display_name": "Python 3",
   "language": "python",
   "name": "python3"
  },
  "language_info": {
   "codemirror_mode": {
    "name": "ipython",
    "version": 3
   },
   "file_extension": ".py",
   "mimetype": "text/x-python",
   "name": "python",
   "nbconvert_exporter": "python",
   "pygments_lexer": "ipython3",
   "version": "3.7.6"
  }
 },
 "nbformat": 4,
 "nbformat_minor": 4
}
