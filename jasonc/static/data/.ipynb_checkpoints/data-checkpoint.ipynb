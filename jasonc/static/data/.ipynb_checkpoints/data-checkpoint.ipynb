{
 "cells": [
  {
   "cell_type": "code",
   "execution_count": 1,
   "metadata": {},
   "outputs": [],
   "source": [
    "# Dependencies\n",
    "from sqlalchemy import create_engine\n",
    "from datetime import timedelta, datetime, tzinfo\n",
    "from zipfile import ZipFile\n",
    "import collections\n",
    "#import psycopg2\n",
    "import requests\n",
    "import json\n",
    "import pandas as pd"
   ]
  },
  {
   "cell_type": "code",
   "execution_count": 2,
   "metadata": {},
   "outputs": [],
   "source": [
    "##Import the csv data"
   ]
  },
  {
   "cell_type": "code",
   "execution_count": 3,
   "metadata": {},
   "outputs": [],
   "source": [
    "#data frame for legal status and pop\n",
    "lgpure_df = pd.read_csv(\"legaldata.csv\")\n",
    "#data frame for mvr deaths\n",
    "MVR_df = pd.read_csv(\"mvdeaths.csv\")\n",
    "#data frame for overdose deaths\n",
    "overdose_df = pd.read_csv(\"overdose.csv\")"
   ]
  },
  {
   "cell_type": "code",
   "execution_count": 4,
   "metadata": {},
   "outputs": [],
   "source": [
    "####legal status for map"
   ]
  },
  {
   "cell_type": "code",
   "execution_count": 5,
   "metadata": {},
   "outputs": [
    {
     "data": {
      "text/html": [
       "<div>\n",
       "<style scoped>\n",
       "    .dataframe tbody tr th:only-of-type {\n",
       "        vertical-align: middle;\n",
       "    }\n",
       "\n",
       "    .dataframe tbody tr th {\n",
       "        vertical-align: top;\n",
       "    }\n",
       "\n",
       "    .dataframe thead th {\n",
       "        text-align: right;\n",
       "    }\n",
       "</style>\n",
       "<table border=\"1\" class=\"dataframe\">\n",
       "  <thead>\n",
       "    <tr style=\"text-align: right;\">\n",
       "      <th></th>\n",
       "      <th>State</th>\n",
       "      <th>Pop</th>\n",
       "      <th>legalWeedStatus</th>\n",
       "      <th>medicinalWeedStatus</th>\n",
       "      <th>decriminalizedWeedStatus</th>\n",
       "      <th>state</th>\n",
       "    </tr>\n",
       "  </thead>\n",
       "  <tbody>\n",
       "    <tr>\n",
       "      <th>0</th>\n",
       "      <td>Alabama</td>\n",
       "      <td>4908621</td>\n",
       "      <td>Fully Illegal</td>\n",
       "      <td>False</td>\n",
       "      <td>False</td>\n",
       "      <td>Alabama</td>\n",
       "    </tr>\n",
       "    <tr>\n",
       "      <th>1</th>\n",
       "      <td>Alaska</td>\n",
       "      <td>734002</td>\n",
       "      <td>Fully Legal</td>\n",
       "      <td>True</td>\n",
       "      <td>True</td>\n",
       "      <td>Alaska</td>\n",
       "    </tr>\n",
       "    <tr>\n",
       "      <th>2</th>\n",
       "      <td>Arizona</td>\n",
       "      <td>7378494</td>\n",
       "      <td>Mixed</td>\n",
       "      <td>True</td>\n",
       "      <td>False</td>\n",
       "      <td>Arizona</td>\n",
       "    </tr>\n",
       "  </tbody>\n",
       "</table>\n",
       "</div>"
      ],
      "text/plain": [
       "     State      Pop legalWeedStatus  medicinalWeedStatus  \\\n",
       "0  Alabama  4908621   Fully Illegal                False   \n",
       "1   Alaska   734002     Fully Legal                 True   \n",
       "2  Arizona  7378494           Mixed                 True   \n",
       "\n",
       "   decriminalizedWeedStatus    state  \n",
       "0                     False  Alabama  \n",
       "1                      True   Alaska  \n",
       "2                     False  Arizona  "
      ]
     },
     "execution_count": 5,
     "metadata": {},
     "output_type": "execute_result"
    }
   ],
   "source": [
    "lgpure_df.head(3)"
   ]
  },
  {
   "cell_type": "code",
   "execution_count": 6,
   "metadata": {},
   "outputs": [
    {
     "name": "stdout",
     "output_type": "stream",
     "text": [
      "<class 'pandas.core.frame.DataFrame'>\n",
      "RangeIndex: 51 entries, 0 to 50\n",
      "Data columns (total 6 columns):\n",
      " #   Column                    Non-Null Count  Dtype \n",
      "---  ------                    --------------  ----- \n",
      " 0   State                     51 non-null     object\n",
      " 1   Pop                       51 non-null     int64 \n",
      " 2   legalWeedStatus           51 non-null     object\n",
      " 3   medicinalWeedStatus       51 non-null     bool  \n",
      " 4   decriminalizedWeedStatus  51 non-null     bool  \n",
      " 5   state                     51 non-null     object\n",
      "dtypes: bool(2), int64(1), object(3)\n",
      "memory usage: 1.8+ KB\n"
     ]
    }
   ],
   "source": [
    "lgpure_df.info()"
   ]
  },
  {
   "cell_type": "code",
   "execution_count": 7,
   "metadata": {},
   "outputs": [
    {
     "name": "stdout",
     "output_type": "stream",
     "text": [
      "<class 'pandas.core.frame.DataFrame'>\n",
      "RangeIndex: 51 entries, 0 to 50\n",
      "Data columns (total 3 columns):\n",
      " #   Column           Non-Null Count  Dtype \n",
      "---  ------           --------------  ----- \n",
      " 0   State            51 non-null     object\n",
      " 1   Pop              51 non-null     int64 \n",
      " 2   legalWeedStatus  51 non-null     object\n",
      "dtypes: int64(1), object(2)\n",
      "memory usage: 1.3+ KB\n"
     ]
    }
   ],
   "source": [
    "##df to join to other df (MVR and Overdose)\n",
    "legal_df = lgpure_df.drop(columns=[\"state\",\"medicinalWeedStatus\",\"decriminalizedWeedStatus\"])\n",
    "legal_df.info()"
   ]
  },
  {
   "cell_type": "code",
   "execution_count": 8,
   "metadata": {},
   "outputs": [],
   "source": [
    "###df for legal map\n"
   ]
  },
  {
   "cell_type": "code",
   "execution_count": 9,
   "metadata": {},
   "outputs": [
    {
     "data": {
      "text/html": [
       "<div>\n",
       "<style scoped>\n",
       "    .dataframe tbody tr th:only-of-type {\n",
       "        vertical-align: middle;\n",
       "    }\n",
       "\n",
       "    .dataframe tbody tr th {\n",
       "        vertical-align: top;\n",
       "    }\n",
       "\n",
       "    .dataframe thead th {\n",
       "        text-align: right;\n",
       "    }\n",
       "</style>\n",
       "<table border=\"1\" class=\"dataframe\">\n",
       "  <thead>\n",
       "    <tr style=\"text-align: right;\">\n",
       "      <th></th>\n",
       "      <th>State</th>\n",
       "      <th>legalWeedStatus</th>\n",
       "    </tr>\n",
       "  </thead>\n",
       "  <tbody>\n",
       "    <tr>\n",
       "      <th>0</th>\n",
       "      <td>Alabama</td>\n",
       "      <td>Fully Illegal</td>\n",
       "    </tr>\n",
       "    <tr>\n",
       "      <th>1</th>\n",
       "      <td>Alaska</td>\n",
       "      <td>Fully Legal</td>\n",
       "    </tr>\n",
       "    <tr>\n",
       "      <th>2</th>\n",
       "      <td>Arizona</td>\n",
       "      <td>Mixed</td>\n",
       "    </tr>\n",
       "    <tr>\n",
       "      <th>3</th>\n",
       "      <td>Arkansas</td>\n",
       "      <td>Mixed</td>\n",
       "    </tr>\n",
       "    <tr>\n",
       "      <th>4</th>\n",
       "      <td>California</td>\n",
       "      <td>Fully Legal</td>\n",
       "    </tr>\n",
       "  </tbody>\n",
       "</table>\n",
       "</div>"
      ],
      "text/plain": [
       "        State legalWeedStatus\n",
       "0     Alabama   Fully Illegal\n",
       "1      Alaska     Fully Legal\n",
       "2     Arizona           Mixed\n",
       "3    Arkansas           Mixed\n",
       "4  California     Fully Legal"
      ]
     },
     "execution_count": 9,
     "metadata": {},
     "output_type": "execute_result"
    }
   ],
   "source": [
    "legal_mapdf = legal_df.drop(columns=[\"Pop\"])\n",
    "legal_mapdf.head()"
   ]
  },
  {
   "cell_type": "code",
   "execution_count": 10,
   "metadata": {},
   "outputs": [],
   "source": [
    "###export to csv\n",
    "legal_mapdf.to_csv(r'C:\\Users\\jcaravella\\Documents\\Project2\\Main_data\\state_status.csv', index = False,header=True)"
   ]
  },
  {
   "cell_type": "code",
   "execution_count": 11,
   "metadata": {},
   "outputs": [],
   "source": [
    "###############################################################################################################"
   ]
  },
  {
   "cell_type": "code",
   "execution_count": 12,
   "metadata": {},
   "outputs": [],
   "source": [
    "####MVR info"
   ]
  },
  {
   "cell_type": "code",
   "execution_count": 13,
   "metadata": {},
   "outputs": [
    {
     "name": "stdout",
     "output_type": "stream",
     "text": [
      "<class 'pandas.core.frame.DataFrame'>\n",
      "RangeIndex: 408 entries, 0 to 407\n",
      "Data columns (total 7 columns):\n",
      " #   Column                                          Non-Null Count  Dtype  \n",
      "---  ------                                          --------------  -----  \n",
      " 0   Year                                            408 non-null    int64  \n",
      " 1   State                                           408 non-null    object \n",
      " 2   Motor Vehicle Deaths - state of residence       408 non-null    int64  \n",
      " 3   Traffic deaths - state of incident              408 non-null    int64  \n",
      " 4   Deaths  per 100,000 population                  408 non-null    float64\n",
      " 5   Traffic deaths  per 10,000 motor vehicles       408 non-null    float64\n",
      " 6   Traffic deaths - per 100,000,000 vehicle miles  408 non-null    float64\n",
      "dtypes: float64(3), int64(3), object(1)\n",
      "memory usage: 22.4+ KB\n"
     ]
    }
   ],
   "source": [
    "MVR_df.info()"
   ]
  },
  {
   "cell_type": "code",
   "execution_count": 14,
   "metadata": {},
   "outputs": [
    {
     "data": {
      "text/html": [
       "<div>\n",
       "<style scoped>\n",
       "    .dataframe tbody tr th:only-of-type {\n",
       "        vertical-align: middle;\n",
       "    }\n",
       "\n",
       "    .dataframe tbody tr th {\n",
       "        vertical-align: top;\n",
       "    }\n",
       "\n",
       "    .dataframe thead th {\n",
       "        text-align: right;\n",
       "    }\n",
       "</style>\n",
       "<table border=\"1\" class=\"dataframe\">\n",
       "  <thead>\n",
       "    <tr style=\"text-align: right;\">\n",
       "      <th></th>\n",
       "      <th>Year</th>\n",
       "      <th>State</th>\n",
       "      <th>Motor Vehicle Deaths - state of residence</th>\n",
       "      <th>Traffic deaths - state of incident</th>\n",
       "      <th>Deaths  per 100,000 population</th>\n",
       "      <th>Traffic deaths  per 10,000 motor vehicles</th>\n",
       "      <th>Traffic deaths - per 100,000,000 vehicle miles</th>\n",
       "    </tr>\n",
       "  </thead>\n",
       "  <tbody>\n",
       "    <tr>\n",
       "      <th>0</th>\n",
       "      <td>2017</td>\n",
       "      <td>Alabama</td>\n",
       "      <td>1034</td>\n",
       "      <td>948</td>\n",
       "      <td>21.2</td>\n",
       "      <td>1.9</td>\n",
       "      <td>1.3</td>\n",
       "    </tr>\n",
       "    <tr>\n",
       "      <th>1</th>\n",
       "      <td>2016</td>\n",
       "      <td>Alabama</td>\n",
       "      <td>1158</td>\n",
       "      <td>1122</td>\n",
       "      <td>23.8</td>\n",
       "      <td>2.1</td>\n",
       "      <td>1.6</td>\n",
       "    </tr>\n",
       "    <tr>\n",
       "      <th>2</th>\n",
       "      <td>2015</td>\n",
       "      <td>Alabama</td>\n",
       "      <td>962</td>\n",
       "      <td>849</td>\n",
       "      <td>19.8</td>\n",
       "      <td>1.6</td>\n",
       "      <td>1.3</td>\n",
       "    </tr>\n",
       "    <tr>\n",
       "      <th>8</th>\n",
       "      <td>2017</td>\n",
       "      <td>Alaska</td>\n",
       "      <td>101</td>\n",
       "      <td>79</td>\n",
       "      <td>13.7</td>\n",
       "      <td>1.0</td>\n",
       "      <td>1.4</td>\n",
       "    </tr>\n",
       "    <tr>\n",
       "      <th>9</th>\n",
       "      <td>2016</td>\n",
       "      <td>Alaska</td>\n",
       "      <td>97</td>\n",
       "      <td>81</td>\n",
       "      <td>13.1</td>\n",
       "      <td>1.0</td>\n",
       "      <td>1.5</td>\n",
       "    </tr>\n",
       "  </tbody>\n",
       "</table>\n",
       "</div>"
      ],
      "text/plain": [
       "   Year    State  Motor Vehicle Deaths - state of residence  \\\n",
       "0  2017  Alabama                                       1034   \n",
       "1  2016  Alabama                                       1158   \n",
       "2  2015  Alabama                                        962   \n",
       "8  2017   Alaska                                        101   \n",
       "9  2016   Alaska                                         97   \n",
       "\n",
       "   Traffic deaths - state of incident  Deaths  per 100,000 population  \\\n",
       "0                                 948                            21.2   \n",
       "1                                1122                            23.8   \n",
       "2                                 849                            19.8   \n",
       "8                                  79                            13.7   \n",
       "9                                  81                            13.1   \n",
       "\n",
       "   Traffic deaths  per 10,000 motor vehicles  \\\n",
       "0                                        1.9   \n",
       "1                                        2.1   \n",
       "2                                        1.6   \n",
       "8                                        1.0   \n",
       "9                                        1.0   \n",
       "\n",
       "   Traffic deaths - per 100,000,000 vehicle miles  \n",
       "0                                             1.3  \n",
       "1                                             1.6  \n",
       "2                                             1.3  \n",
       "8                                             1.4  \n",
       "9                                             1.5  "
      ]
     },
     "execution_count": 14,
     "metadata": {},
     "output_type": "execute_result"
    }
   ],
   "source": [
    "##drop to the same years as of od deaths\n",
    "years = ['2015','2016','2017']\n",
    "mvr_neededyears =MVR_df[MVR_df.Year.isin(years)]\n",
    "mvr_neededyears.head()"
   ]
  },
  {
   "cell_type": "code",
   "execution_count": 15,
   "metadata": {},
   "outputs": [],
   "source": [
    "#####Filtering and joining"
   ]
  },
  {
   "cell_type": "code",
   "execution_count": 16,
   "metadata": {},
   "outputs": [
    {
     "data": {
      "text/html": [
       "<div>\n",
       "<style scoped>\n",
       "    .dataframe tbody tr th:only-of-type {\n",
       "        vertical-align: middle;\n",
       "    }\n",
       "\n",
       "    .dataframe tbody tr th {\n",
       "        vertical-align: top;\n",
       "    }\n",
       "\n",
       "    .dataframe thead th {\n",
       "        text-align: right;\n",
       "    }\n",
       "</style>\n",
       "<table border=\"1\" class=\"dataframe\">\n",
       "  <thead>\n",
       "    <tr style=\"text-align: right;\">\n",
       "      <th></th>\n",
       "      <th>Year</th>\n",
       "      <th>State</th>\n",
       "      <th>Motor Vehicle Deaths - state of residence</th>\n",
       "      <th>Traffic deaths - state of incident</th>\n",
       "      <th>Deaths  per 100,000 population</th>\n",
       "      <th>Traffic deaths  per 10,000 motor vehicles</th>\n",
       "      <th>Traffic deaths - per 100,000,000 vehicle miles</th>\n",
       "      <th>Pop</th>\n",
       "      <th>legalWeedStatus</th>\n",
       "    </tr>\n",
       "  </thead>\n",
       "  <tbody>\n",
       "    <tr>\n",
       "      <th>0</th>\n",
       "      <td>2017</td>\n",
       "      <td>Alabama</td>\n",
       "      <td>1034</td>\n",
       "      <td>948</td>\n",
       "      <td>21.2</td>\n",
       "      <td>1.9</td>\n",
       "      <td>1.3</td>\n",
       "      <td>4908621</td>\n",
       "      <td>Fully Illegal</td>\n",
       "    </tr>\n",
       "    <tr>\n",
       "      <th>1</th>\n",
       "      <td>2016</td>\n",
       "      <td>Alabama</td>\n",
       "      <td>1158</td>\n",
       "      <td>1122</td>\n",
       "      <td>23.8</td>\n",
       "      <td>2.1</td>\n",
       "      <td>1.6</td>\n",
       "      <td>4908621</td>\n",
       "      <td>Fully Illegal</td>\n",
       "    </tr>\n",
       "    <tr>\n",
       "      <th>2</th>\n",
       "      <td>2015</td>\n",
       "      <td>Alabama</td>\n",
       "      <td>962</td>\n",
       "      <td>849</td>\n",
       "      <td>19.8</td>\n",
       "      <td>1.6</td>\n",
       "      <td>1.3</td>\n",
       "      <td>4908621</td>\n",
       "      <td>Fully Illegal</td>\n",
       "    </tr>\n",
       "    <tr>\n",
       "      <th>8</th>\n",
       "      <td>2017</td>\n",
       "      <td>Alaska</td>\n",
       "      <td>101</td>\n",
       "      <td>79</td>\n",
       "      <td>13.7</td>\n",
       "      <td>1.0</td>\n",
       "      <td>1.4</td>\n",
       "      <td>734002</td>\n",
       "      <td>Fully Legal</td>\n",
       "    </tr>\n",
       "    <tr>\n",
       "      <th>9</th>\n",
       "      <td>2016</td>\n",
       "      <td>Alaska</td>\n",
       "      <td>97</td>\n",
       "      <td>81</td>\n",
       "      <td>13.1</td>\n",
       "      <td>1.0</td>\n",
       "      <td>1.5</td>\n",
       "      <td>734002</td>\n",
       "      <td>Fully Legal</td>\n",
       "    </tr>\n",
       "  </tbody>\n",
       "</table>\n",
       "</div>"
      ],
      "text/plain": [
       "   Year    State  Motor Vehicle Deaths - state of residence  \\\n",
       "0  2017  Alabama                                       1034   \n",
       "1  2016  Alabama                                       1158   \n",
       "2  2015  Alabama                                        962   \n",
       "8  2017   Alaska                                        101   \n",
       "9  2016   Alaska                                         97   \n",
       "\n",
       "   Traffic deaths - state of incident  Deaths  per 100,000 population  \\\n",
       "0                                 948                            21.2   \n",
       "1                                1122                            23.8   \n",
       "2                                 849                            19.8   \n",
       "8                                  79                            13.7   \n",
       "9                                  81                            13.1   \n",
       "\n",
       "   Traffic deaths  per 10,000 motor vehicles  \\\n",
       "0                                        1.9   \n",
       "1                                        2.1   \n",
       "2                                        1.6   \n",
       "8                                        1.0   \n",
       "9                                        1.0   \n",
       "\n",
       "   Traffic deaths - per 100,000,000 vehicle miles      Pop legalWeedStatus  \n",
       "0                                             1.3  4908621   Fully Illegal  \n",
       "1                                             1.6  4908621   Fully Illegal  \n",
       "2                                             1.3  4908621   Fully Illegal  \n",
       "8                                             1.4   734002     Fully Legal  \n",
       "9                                             1.5   734002     Fully Legal  "
      ]
     },
     "execution_count": 16,
     "metadata": {},
     "output_type": "execute_result"
    }
   ],
   "source": [
    "##Join legal status\n",
    "mvr_joined =  mvr_neededyears.join(legal_df.set_index(['State']), on=['State'], how='left')\n",
    "mvr_joined.head()\n",
    "#mvr_status = mvr_joined.drop.na()"
   ]
  },
  {
   "cell_type": "code",
   "execution_count": 17,
   "metadata": {},
   "outputs": [
    {
     "name": "stdout",
     "output_type": "stream",
     "text": [
      "<class 'pandas.core.frame.DataFrame'>\n",
      "Int64Index: 153 entries, 0 to 402\n",
      "Data columns (total 9 columns):\n",
      " #   Column                                          Non-Null Count  Dtype  \n",
      "---  ------                                          --------------  -----  \n",
      " 0   Year                                            153 non-null    int64  \n",
      " 1   State                                           153 non-null    object \n",
      " 2   Motor Vehicle Deaths - state of residence       153 non-null    int64  \n",
      " 3   Traffic deaths - state of incident              153 non-null    int64  \n",
      " 4   Deaths  per 100,000 population                  153 non-null    float64\n",
      " 5   Traffic deaths  per 10,000 motor vehicles       153 non-null    float64\n",
      " 6   Traffic deaths - per 100,000,000 vehicle miles  153 non-null    float64\n",
      " 7   Pop                                             153 non-null    int64  \n",
      " 8   legalWeedStatus                                 153 non-null    object \n",
      "dtypes: float64(3), int64(4), object(2)\n",
      "memory usage: 12.0+ KB\n"
     ]
    }
   ],
   "source": [
    "#drop na\n",
    "mvr_status = mvr_joined.dropna()\n",
    "mvr_status.info()\n"
   ]
  },
  {
   "cell_type": "code",
   "execution_count": 18,
   "metadata": {},
   "outputs": [
    {
     "data": {
      "text/html": [
       "<div>\n",
       "<style scoped>\n",
       "    .dataframe tbody tr th:only-of-type {\n",
       "        vertical-align: middle;\n",
       "    }\n",
       "\n",
       "    .dataframe tbody tr th {\n",
       "        vertical-align: top;\n",
       "    }\n",
       "\n",
       "    .dataframe thead th {\n",
       "        text-align: right;\n",
       "    }\n",
       "</style>\n",
       "<table border=\"1\" class=\"dataframe\">\n",
       "  <thead>\n",
       "    <tr style=\"text-align: right;\">\n",
       "      <th></th>\n",
       "      <th>Year</th>\n",
       "      <th>State</th>\n",
       "      <th>Motor Vehicle Deaths - state of residence</th>\n",
       "      <th>Traffic deaths - state of incident</th>\n",
       "      <th>Deaths  per 100,000 population</th>\n",
       "      <th>Traffic deaths  per 10,000 motor vehicles</th>\n",
       "      <th>Traffic deaths - per 100,000,000 vehicle miles</th>\n",
       "      <th>Pop</th>\n",
       "      <th>legalWeedStatus</th>\n",
       "    </tr>\n",
       "  </thead>\n",
       "  <tbody>\n",
       "    <tr>\n",
       "      <th>0</th>\n",
       "      <td>2017</td>\n",
       "      <td>Alabama</td>\n",
       "      <td>1034</td>\n",
       "      <td>948</td>\n",
       "      <td>21.2</td>\n",
       "      <td>1.9</td>\n",
       "      <td>1.3</td>\n",
       "      <td>4908621</td>\n",
       "      <td>Fully Illegal</td>\n",
       "    </tr>\n",
       "    <tr>\n",
       "      <th>1</th>\n",
       "      <td>2016</td>\n",
       "      <td>Alabama</td>\n",
       "      <td>1158</td>\n",
       "      <td>1122</td>\n",
       "      <td>23.8</td>\n",
       "      <td>2.1</td>\n",
       "      <td>1.6</td>\n",
       "      <td>4908621</td>\n",
       "      <td>Fully Illegal</td>\n",
       "    </tr>\n",
       "    <tr>\n",
       "      <th>2</th>\n",
       "      <td>2015</td>\n",
       "      <td>Alabama</td>\n",
       "      <td>962</td>\n",
       "      <td>849</td>\n",
       "      <td>19.8</td>\n",
       "      <td>1.6</td>\n",
       "      <td>1.3</td>\n",
       "      <td>4908621</td>\n",
       "      <td>Fully Illegal</td>\n",
       "    </tr>\n",
       "  </tbody>\n",
       "</table>\n",
       "</div>"
      ],
      "text/plain": [
       "   Year    State  Motor Vehicle Deaths - state of residence  \\\n",
       "0  2017  Alabama                                       1034   \n",
       "1  2016  Alabama                                       1158   \n",
       "2  2015  Alabama                                        962   \n",
       "\n",
       "   Traffic deaths - state of incident  Deaths  per 100,000 population  \\\n",
       "0                                 948                            21.2   \n",
       "1                                1122                            23.8   \n",
       "2                                 849                            19.8   \n",
       "\n",
       "   Traffic deaths  per 10,000 motor vehicles  \\\n",
       "0                                        1.9   \n",
       "1                                        2.1   \n",
       "2                                        1.6   \n",
       "\n",
       "   Traffic deaths - per 100,000,000 vehicle miles      Pop legalWeedStatus  \n",
       "0                                             1.3  4908621   Fully Illegal  \n",
       "1                                             1.6  4908621   Fully Illegal  \n",
       "2                                             1.3  4908621   Fully Illegal  "
      ]
     },
     "execution_count": 18,
     "metadata": {},
     "output_type": "execute_result"
    }
   ],
   "source": [
    "mvr_status.head(3)"
   ]
  },
  {
   "cell_type": "code",
   "execution_count": 19,
   "metadata": {},
   "outputs": [
    {
     "name": "stdout",
     "output_type": "stream",
     "text": [
      "<class 'pandas.core.frame.DataFrame'>\n",
      "Int64Index: 153 entries, 0 to 402\n",
      "Data columns (total 4 columns):\n",
      " #   Column           Non-Null Count  Dtype \n",
      "---  ------           --------------  ----- \n",
      " 0   Year             153 non-null    int64 \n",
      " 1   State            153 non-null    object\n",
      " 2   MV_Deaths        153 non-null    int64 \n",
      " 3   legalWeedStatus  153 non-null    object\n",
      "dtypes: int64(2), object(2)\n",
      "memory usage: 6.0+ KB\n"
     ]
    }
   ],
   "source": [
    "###Dropping all columuns I don't need\n",
    "mvr_state_yr = mvr_status.drop(columns=[\"Deaths  per 100,000 population\",\"Motor Vehicle Deaths - state of residence\",\"Traffic deaths  per 10,000 motor vehicles\",\"Traffic deaths - per 100,000,000 vehicle miles\",\"Pop\"])\n",
    "###Rename traffic deaths\n",
    "mvr_state_yr = mvr_state_yr.rename(columns={\"Traffic deaths - state of incident\":\"MV_Deaths\"})\n",
    "mvr_state_yr.info()  "
   ]
  },
  {
   "cell_type": "code",
   "execution_count": 20,
   "metadata": {},
   "outputs": [
    {
     "data": {
      "text/html": [
       "<div>\n",
       "<style scoped>\n",
       "    .dataframe tbody tr th:only-of-type {\n",
       "        vertical-align: middle;\n",
       "    }\n",
       "\n",
       "    .dataframe tbody tr th {\n",
       "        vertical-align: top;\n",
       "    }\n",
       "\n",
       "    .dataframe thead th {\n",
       "        text-align: right;\n",
       "    }\n",
       "</style>\n",
       "<table border=\"1\" class=\"dataframe\">\n",
       "  <thead>\n",
       "    <tr style=\"text-align: right;\">\n",
       "      <th></th>\n",
       "      <th>State</th>\n",
       "      <th>legalWeedStatus</th>\n",
       "      <th>MV_Deaths</th>\n",
       "    </tr>\n",
       "  </thead>\n",
       "  <tbody>\n",
       "    <tr>\n",
       "      <th>0</th>\n",
       "      <td>Alabama</td>\n",
       "      <td>Fully Illegal</td>\n",
       "      <td>2919</td>\n",
       "    </tr>\n",
       "    <tr>\n",
       "      <th>1</th>\n",
       "      <td>Alaska</td>\n",
       "      <td>Fully Legal</td>\n",
       "      <td>225</td>\n",
       "    </tr>\n",
       "    <tr>\n",
       "      <th>2</th>\n",
       "      <td>Arizona</td>\n",
       "      <td>Mixed</td>\n",
       "      <td>2821</td>\n",
       "    </tr>\n",
       "    <tr>\n",
       "      <th>3</th>\n",
       "      <td>Arkansas</td>\n",
       "      <td>Mixed</td>\n",
       "      <td>1608</td>\n",
       "    </tr>\n",
       "    <tr>\n",
       "      <th>4</th>\n",
       "      <td>California</td>\n",
       "      <td>Fully Legal</td>\n",
       "      <td>10779</td>\n",
       "    </tr>\n",
       "  </tbody>\n",
       "</table>\n",
       "</div>"
      ],
      "text/plain": [
       "        State legalWeedStatus  MV_Deaths\n",
       "0     Alabama   Fully Illegal       2919\n",
       "1      Alaska     Fully Legal        225\n",
       "2     Arizona           Mixed       2821\n",
       "3    Arkansas           Mixed       1608\n",
       "4  California     Fully Legal      10779"
      ]
     },
     "execution_count": 20,
     "metadata": {},
     "output_type": "execute_result"
    }
   ],
   "source": [
    "###Sum up the number of deaths\n",
    "mvr_state = mvr_state_yr.groupby(['State','legalWeedStatus'])['MV_Deaths'].sum().reset_index()\n",
    "mvr_state.head()"
   ]
  },
  {
   "cell_type": "code",
   "execution_count": 21,
   "metadata": {},
   "outputs": [
    {
     "data": {
      "text/html": [
       "<div>\n",
       "<style scoped>\n",
       "    .dataframe tbody tr th:only-of-type {\n",
       "        vertical-align: middle;\n",
       "    }\n",
       "\n",
       "    .dataframe tbody tr th {\n",
       "        vertical-align: top;\n",
       "    }\n",
       "\n",
       "    .dataframe thead th {\n",
       "        text-align: right;\n",
       "    }\n",
       "</style>\n",
       "<table border=\"1\" class=\"dataframe\">\n",
       "  <thead>\n",
       "    <tr style=\"text-align: right;\">\n",
       "      <th></th>\n",
       "      <th>Year</th>\n",
       "      <th>legalWeedStatus</th>\n",
       "      <th>MV_Deaths</th>\n",
       "    </tr>\n",
       "  </thead>\n",
       "  <tbody>\n",
       "    <tr>\n",
       "      <th>0</th>\n",
       "      <td>2015</td>\n",
       "      <td>Fully Illegal</td>\n",
       "      <td>7262</td>\n",
       "    </tr>\n",
       "    <tr>\n",
       "      <th>1</th>\n",
       "      <td>2015</td>\n",
       "      <td>Fully Legal</td>\n",
       "      <td>6632</td>\n",
       "    </tr>\n",
       "    <tr>\n",
       "      <th>2</th>\n",
       "      <td>2015</td>\n",
       "      <td>Mixed</td>\n",
       "      <td>21198</td>\n",
       "    </tr>\n",
       "    <tr>\n",
       "      <th>3</th>\n",
       "      <td>2016</td>\n",
       "      <td>Fully Illegal</td>\n",
       "      <td>8131</td>\n",
       "    </tr>\n",
       "    <tr>\n",
       "      <th>4</th>\n",
       "      <td>2016</td>\n",
       "      <td>Fully Legal</td>\n",
       "      <td>7752</td>\n",
       "    </tr>\n",
       "  </tbody>\n",
       "</table>\n",
       "</div>"
      ],
      "text/plain": [
       "   Year legalWeedStatus  MV_Deaths\n",
       "0  2015   Fully Illegal       7262\n",
       "1  2015     Fully Legal       6632\n",
       "2  2015           Mixed      21198\n",
       "3  2016   Fully Illegal       8131\n",
       "4  2016     Fully Legal       7752"
      ]
     },
     "execution_count": 21,
     "metadata": {},
     "output_type": "execute_result"
    }
   ],
   "source": [
    "###Sum year and status\n",
    "mvr_status = mvr_state_yr.groupby(['Year','legalWeedStatus'])['MV_Deaths'].sum().reset_index()\n",
    "mvr_status.head()"
   ]
  },
  {
   "cell_type": "code",
   "execution_count": 22,
   "metadata": {},
   "outputs": [
    {
     "name": "stdout",
     "output_type": "stream",
     "text": [
      "<class 'pandas.core.frame.DataFrame'>\n",
      "RangeIndex: 28224 entries, 0 to 28223\n",
      "Data columns (total 12 columns):\n",
      " #   Column                         Non-Null Count  Dtype  \n",
      "---  ------                         --------------  -----  \n",
      " 0   State                          28224 non-null  object \n",
      " 1   Year                           28224 non-null  int64  \n",
      " 2   Month                          28224 non-null  object \n",
      " 3   Period                         28224 non-null  object \n",
      " 4   Indicator                      28224 non-null  object \n",
      " 5   Data Value                     22892 non-null  float64\n",
      " 6   Percent Complete               28224 non-null  object \n",
      " 7   Percent Pending Investigation  28224 non-null  float64\n",
      " 8   State Name                     28224 non-null  object \n",
      " 9   Footnote                       28224 non-null  object \n",
      " 10  Footnote Symbol                28224 non-null  object \n",
      " 11  Predicted Value                17345 non-null  object \n",
      "dtypes: float64(2), int64(1), object(9)\n",
      "memory usage: 2.6+ MB\n"
     ]
    }
   ],
   "source": [
    "####Overdose info\n",
    "overdose_df.info()"
   ]
  },
  {
   "cell_type": "code",
   "execution_count": 23,
   "metadata": {},
   "outputs": [],
   "source": [
    "####Initial filter####"
   ]
  },
  {
   "cell_type": "code",
   "execution_count": 23,
   "metadata": {},
   "outputs": [
    {
     "name": "stdout",
     "output_type": "stream",
     "text": [
      "<class 'pandas.core.frame.DataFrame'>\n",
      "Int64Index: 18144 entries, 0 to 27983\n",
      "Data columns (total 6 columns):\n",
      " #   Column           Non-Null Count  Dtype  \n",
      "---  ------           --------------  -----  \n",
      " 0   Year             18144 non-null  int64  \n",
      " 1   Month            18144 non-null  object \n",
      " 2   Indicator        18144 non-null  object \n",
      " 3   Data Value       13702 non-null  float64\n",
      " 4   State Name       18144 non-null  object \n",
      " 5   legalWeedStatus  18144 non-null  object \n",
      "dtypes: float64(1), int64(1), object(4)\n",
      "memory usage: 992.2+ KB\n"
     ]
    }
   ],
   "source": [
    "###filter clean to only columns I need\n",
    "\n",
    "##od to the same years as mvr\n",
    "overdose = overdose_df[overdose_df.Year.isin(years)]\n",
    "#states, indicator, year\n",
    "od_drop_df_na = overdose.drop(columns=[\"Period\",\"State\",\"Percent Complete\",\"Percent Pending Investigation\",\"Footnote\",\"Footnote Symbol\",\"Footnote Symbol\",\"Predicted Value\"])\n",
    "#drop nan\n",
    "od_df = od_drop_df_na.dropna()\n",
    "\n",
    "\n",
    "###join the status\n",
    "od_df = od_drop_df_na.join(legal_mapdf.set_index(['State']), on=['State Name'],how='left')\n",
    "od_df.info()\n"
   ]
  },
  {
   "cell_type": "code",
   "execution_count": 24,
   "metadata": {},
   "outputs": [],
   "source": [
    "###Sum up by month"
   ]
  },
  {
   "cell_type": "code",
   "execution_count": 25,
   "metadata": {},
   "outputs": [
    {
     "name": "stdout",
     "output_type": "stream",
     "text": [
      "<class 'pandas.core.frame.DataFrame'>\n",
      "Int64Index: 1836 entries, 4 to 27977\n",
      "Data columns (total 5 columns):\n",
      " #   Column           Non-Null Count  Dtype  \n",
      "---  ------           --------------  -----  \n",
      " 0   Year             1836 non-null   int64  \n",
      " 1   Month            1836 non-null   object \n",
      " 2   Data Value       1836 non-null   float64\n",
      " 3   State Name       1836 non-null   object \n",
      " 4   legalWeedStatus  1836 non-null   object \n",
      "dtypes: float64(1), int64(1), object(3)\n",
      "memory usage: 86.1+ KB\n"
     ]
    }
   ],
   "source": [
    "####First filtor to needed indicators\n",
    "totaldeaths1 = od_df[od_df['Indicator']=='Number of Deaths']\n",
    "totaldeaths =  totaldeaths1.drop(columns=['Indicator'])\n",
    "totaldeaths.dropna()\n",
    "totaldeaths.info()\n"
   ]
  },
  {
   "cell_type": "code",
   "execution_count": 26,
   "metadata": {},
   "outputs": [],
   "source": [
    "#Change name of Colum for death counts"
   ]
  },
  {
   "cell_type": "code",
   "execution_count": 27,
   "metadata": {},
   "outputs": [
    {
     "data": {
      "text/html": [
       "<div>\n",
       "<style scoped>\n",
       "    .dataframe tbody tr th:only-of-type {\n",
       "        vertical-align: middle;\n",
       "    }\n",
       "\n",
       "    .dataframe tbody tr th {\n",
       "        vertical-align: top;\n",
       "    }\n",
       "\n",
       "    .dataframe thead th {\n",
       "        text-align: right;\n",
       "    }\n",
       "</style>\n",
       "<table border=\"1\" class=\"dataframe\">\n",
       "  <thead>\n",
       "    <tr style=\"text-align: right;\">\n",
       "      <th></th>\n",
       "      <th>Year</th>\n",
       "      <th>Month</th>\n",
       "      <th>Total_Deaths</th>\n",
       "      <th>State Name</th>\n",
       "      <th>legalWeedStatus</th>\n",
       "    </tr>\n",
       "  </thead>\n",
       "  <tbody>\n",
       "    <tr>\n",
       "      <th>4</th>\n",
       "      <td>2015</td>\n",
       "      <td>April</td>\n",
       "      <td>4133.0</td>\n",
       "      <td>Alaska</td>\n",
       "      <td>Fully Legal</td>\n",
       "    </tr>\n",
       "    <tr>\n",
       "      <th>16</th>\n",
       "      <td>2015</td>\n",
       "      <td>August</td>\n",
       "      <td>4222.0</td>\n",
       "      <td>Alaska</td>\n",
       "      <td>Fully Legal</td>\n",
       "    </tr>\n",
       "    <tr>\n",
       "      <th>30</th>\n",
       "      <td>2015</td>\n",
       "      <td>December</td>\n",
       "      <td>4193.0</td>\n",
       "      <td>Alaska</td>\n",
       "      <td>Fully Legal</td>\n",
       "    </tr>\n",
       "    <tr>\n",
       "      <th>45</th>\n",
       "      <td>2015</td>\n",
       "      <td>February</td>\n",
       "      <td>4084.0</td>\n",
       "      <td>Alaska</td>\n",
       "      <td>Fully Legal</td>\n",
       "    </tr>\n",
       "    <tr>\n",
       "      <th>49</th>\n",
       "      <td>2015</td>\n",
       "      <td>January</td>\n",
       "      <td>4034.0</td>\n",
       "      <td>Alaska</td>\n",
       "      <td>Fully Legal</td>\n",
       "    </tr>\n",
       "  </tbody>\n",
       "</table>\n",
       "</div>"
      ],
      "text/plain": [
       "    Year     Month  Total_Deaths State Name legalWeedStatus\n",
       "4   2015     April        4133.0     Alaska     Fully Legal\n",
       "16  2015    August        4222.0     Alaska     Fully Legal\n",
       "30  2015  December        4193.0     Alaska     Fully Legal\n",
       "45  2015  February        4084.0     Alaska     Fully Legal\n",
       "49  2015   January        4034.0     Alaska     Fully Legal"
      ]
     },
     "execution_count": 27,
     "metadata": {},
     "output_type": "execute_result"
    }
   ],
   "source": [
    "#rename column name\n",
    "totaldeaths = totaldeaths.rename(columns={\"Data Value\":\"Total_Deaths\"})\n",
    "\n",
    "totaldeaths.head()"
   ]
  },
  {
   "cell_type": "code",
   "execution_count": 28,
   "metadata": {},
   "outputs": [],
   "source": [
    "##sum by year and state"
   ]
  },
  {
   "cell_type": "code",
   "execution_count": 29,
   "metadata": {},
   "outputs": [
    {
     "data": {
      "text/html": [
       "<div>\n",
       "<style scoped>\n",
       "    .dataframe tbody tr th:only-of-type {\n",
       "        vertical-align: middle;\n",
       "    }\n",
       "\n",
       "    .dataframe tbody tr th {\n",
       "        vertical-align: top;\n",
       "    }\n",
       "\n",
       "    .dataframe thead th {\n",
       "        text-align: right;\n",
       "    }\n",
       "</style>\n",
       "<table border=\"1\" class=\"dataframe\">\n",
       "  <thead>\n",
       "    <tr style=\"text-align: right;\">\n",
       "      <th></th>\n",
       "      <th>State Name</th>\n",
       "      <th>Year</th>\n",
       "      <th>Total_Deaths</th>\n",
       "    </tr>\n",
       "  </thead>\n",
       "  <tbody>\n",
       "    <tr>\n",
       "      <th>0</th>\n",
       "      <td>Alabama</td>\n",
       "      <td>2015</td>\n",
       "      <td>607641.0</td>\n",
       "    </tr>\n",
       "    <tr>\n",
       "      <th>1</th>\n",
       "      <td>Alabama</td>\n",
       "      <td>2016</td>\n",
       "      <td>608611.0</td>\n",
       "    </tr>\n",
       "    <tr>\n",
       "      <th>2</th>\n",
       "      <td>Alabama</td>\n",
       "      <td>2017</td>\n",
       "      <td>623769.0</td>\n",
       "    </tr>\n",
       "    <tr>\n",
       "      <th>3</th>\n",
       "      <td>Alaska</td>\n",
       "      <td>2015</td>\n",
       "      <td>50086.0</td>\n",
       "    </tr>\n",
       "    <tr>\n",
       "      <th>4</th>\n",
       "      <td>Alaska</td>\n",
       "      <td>2016</td>\n",
       "      <td>51141.0</td>\n",
       "    </tr>\n",
       "  </tbody>\n",
       "</table>\n",
       "</div>"
      ],
      "text/plain": [
       "  State Name  Year  Total_Deaths\n",
       "0    Alabama  2015      607641.0\n",
       "1    Alabama  2016      608611.0\n",
       "2    Alabama  2017      623769.0\n",
       "3     Alaska  2015       50086.0\n",
       "4     Alaska  2016       51141.0"
      ]
     },
     "execution_count": 29,
     "metadata": {},
     "output_type": "execute_result"
    }
   ],
   "source": [
    "Deaths_yr_states = totaldeaths.groupby(['State Name','Year'])['Total_Deaths'].sum().reset_index()\n",
    "Deaths_yr_states.head()"
   ]
  },
  {
   "cell_type": "code",
   "execution_count": 30,
   "metadata": {},
   "outputs": [],
   "source": [
    "#sum by state no year"
   ]
  },
  {
   "cell_type": "code",
   "execution_count": 31,
   "metadata": {},
   "outputs": [
    {
     "data": {
      "text/html": [
       "<div>\n",
       "<style scoped>\n",
       "    .dataframe tbody tr th:only-of-type {\n",
       "        vertical-align: middle;\n",
       "    }\n",
       "\n",
       "    .dataframe tbody tr th {\n",
       "        vertical-align: top;\n",
       "    }\n",
       "\n",
       "    .dataframe thead th {\n",
       "        text-align: right;\n",
       "    }\n",
       "</style>\n",
       "<table border=\"1\" class=\"dataframe\">\n",
       "  <thead>\n",
       "    <tr style=\"text-align: right;\">\n",
       "      <th></th>\n",
       "      <th>State Name</th>\n",
       "      <th>Total_Deaths</th>\n",
       "    </tr>\n",
       "  </thead>\n",
       "  <tbody>\n",
       "    <tr>\n",
       "      <th>0</th>\n",
       "      <td>Alabama</td>\n",
       "      <td>1840021.0</td>\n",
       "    </tr>\n",
       "    <tr>\n",
       "      <th>1</th>\n",
       "      <td>Alaska</td>\n",
       "      <td>152824.0</td>\n",
       "    </tr>\n",
       "    <tr>\n",
       "      <th>2</th>\n",
       "      <td>Arizona</td>\n",
       "      <td>2007843.0</td>\n",
       "    </tr>\n",
       "    <tr>\n",
       "      <th>3</th>\n",
       "      <td>Arkansas</td>\n",
       "      <td>1112767.0</td>\n",
       "    </tr>\n",
       "    <tr>\n",
       "      <th>4</th>\n",
       "      <td>California</td>\n",
       "      <td>9398586.0</td>\n",
       "    </tr>\n",
       "  </tbody>\n",
       "</table>\n",
       "</div>"
      ],
      "text/plain": [
       "   State Name  Total_Deaths\n",
       "0     Alabama     1840021.0\n",
       "1      Alaska      152824.0\n",
       "2     Arizona     2007843.0\n",
       "3    Arkansas     1112767.0\n",
       "4  California     9398586.0"
      ]
     },
     "execution_count": 31,
     "metadata": {},
     "output_type": "execute_result"
    }
   ],
   "source": [
    "Deaths_states = totaldeaths.groupby(['State Name'])['Total_Deaths'].sum().reset_index()\n",
    "Deaths_states.head()"
   ]
  },
  {
   "cell_type": "code",
   "execution_count": 32,
   "metadata": {},
   "outputs": [],
   "source": [
    "#sum by status no state with year"
   ]
  },
  {
   "cell_type": "code",
   "execution_count": 34,
   "metadata": {},
   "outputs": [
    {
     "name": "stdout",
     "output_type": "stream",
     "text": [
      "<class 'pandas.core.frame.DataFrame'>\n",
      "RangeIndex: 9 entries, 0 to 8\n",
      "Data columns (total 3 columns):\n",
      " #   Column           Non-Null Count  Dtype  \n",
      "---  ------           --------------  -----  \n",
      " 0   legalWeedStatus  9 non-null      object \n",
      " 1   Year             9 non-null      int64  \n",
      " 2   Total_Deaths     9 non-null      float64\n",
      "dtypes: float64(1), int64(1), object(1)\n",
      "memory usage: 344.0+ bytes\n"
     ]
    }
   ],
   "source": [
    "Deaths_status_year = totaldeaths.groupby(['legalWeedStatus','Year'])['Total_Deaths'].sum().reset_index()\n",
    "Deaths_status_year.info()"
   ]
  },
  {
   "cell_type": "code",
   "execution_count": 33,
   "metadata": {},
   "outputs": [],
   "source": [
    "########################################"
   ]
  },
  {
   "cell_type": "code",
   "execution_count": 34,
   "metadata": {},
   "outputs": [],
   "source": [
    "################OD sum"
   ]
  },
  {
   "cell_type": "code",
   "execution_count": 35,
   "metadata": {},
   "outputs": [
    {
     "name": "stdout",
     "output_type": "stream",
     "text": [
      "<class 'pandas.core.frame.DataFrame'>\n",
      "Int64Index: 1836 entries, 0 to 27978\n",
      "Data columns (total 5 columns):\n",
      " #   Column           Non-Null Count  Dtype  \n",
      "---  ------           --------------  -----  \n",
      " 0   Year             1836 non-null   int64  \n",
      " 1   Month            1836 non-null   object \n",
      " 2   Data Value       1836 non-null   float64\n",
      " 3   State Name       1836 non-null   object \n",
      " 4   legalWeedStatus  1836 non-null   object \n",
      "dtypes: float64(1), int64(1), object(3)\n",
      "memory usage: 86.1+ KB\n"
     ]
    }
   ],
   "source": [
    "#Filter to OD\n",
    "OD1 = od_df[od_df['Indicator']=='Number of Drug Overdose Deaths']\n",
    "totalod =  OD1.drop(columns=['Indicator'])\n",
    "totalod.dropna()\n",
    "totalod.info()"
   ]
  },
  {
   "cell_type": "code",
   "execution_count": 36,
   "metadata": {},
   "outputs": [
    {
     "data": {
      "text/html": [
       "<div>\n",
       "<style scoped>\n",
       "    .dataframe tbody tr th:only-of-type {\n",
       "        vertical-align: middle;\n",
       "    }\n",
       "\n",
       "    .dataframe tbody tr th {\n",
       "        vertical-align: top;\n",
       "    }\n",
       "\n",
       "    .dataframe thead th {\n",
       "        text-align: right;\n",
       "    }\n",
       "</style>\n",
       "<table border=\"1\" class=\"dataframe\">\n",
       "  <thead>\n",
       "    <tr style=\"text-align: right;\">\n",
       "      <th></th>\n",
       "      <th>Year</th>\n",
       "      <th>Month</th>\n",
       "      <th>Total_OD_Deaths</th>\n",
       "      <th>State Name</th>\n",
       "      <th>legalWeedStatus</th>\n",
       "    </tr>\n",
       "  </thead>\n",
       "  <tbody>\n",
       "    <tr>\n",
       "      <th>0</th>\n",
       "      <td>2015</td>\n",
       "      <td>April</td>\n",
       "      <td>126.0</td>\n",
       "      <td>Alaska</td>\n",
       "      <td>Fully Legal</td>\n",
       "    </tr>\n",
       "    <tr>\n",
       "      <th>17</th>\n",
       "      <td>2015</td>\n",
       "      <td>August</td>\n",
       "      <td>124.0</td>\n",
       "      <td>Alaska</td>\n",
       "      <td>Fully Legal</td>\n",
       "    </tr>\n",
       "    <tr>\n",
       "      <th>25</th>\n",
       "      <td>2015</td>\n",
       "      <td>December</td>\n",
       "      <td>121.0</td>\n",
       "      <td>Alaska</td>\n",
       "      <td>Fully Legal</td>\n",
       "    </tr>\n",
       "    <tr>\n",
       "      <th>40</th>\n",
       "      <td>2015</td>\n",
       "      <td>February</td>\n",
       "      <td>127.0</td>\n",
       "      <td>Alaska</td>\n",
       "      <td>Fully Legal</td>\n",
       "    </tr>\n",
       "    <tr>\n",
       "      <th>50</th>\n",
       "      <td>2015</td>\n",
       "      <td>January</td>\n",
       "      <td>126.0</td>\n",
       "      <td>Alaska</td>\n",
       "      <td>Fully Legal</td>\n",
       "    </tr>\n",
       "  </tbody>\n",
       "</table>\n",
       "</div>"
      ],
      "text/plain": [
       "    Year     Month  Total_OD_Deaths State Name legalWeedStatus\n",
       "0   2015     April            126.0     Alaska     Fully Legal\n",
       "17  2015    August            124.0     Alaska     Fully Legal\n",
       "25  2015  December            121.0     Alaska     Fully Legal\n",
       "40  2015  February            127.0     Alaska     Fully Legal\n",
       "50  2015   January            126.0     Alaska     Fully Legal"
      ]
     },
     "execution_count": 36,
     "metadata": {},
     "output_type": "execute_result"
    }
   ],
   "source": [
    "#rename column name\n",
    "totalod = totalod.rename(columns={\"Data Value\":\"Total_OD_Deaths\"})\n",
    "\n",
    "totalod.head()"
   ]
  },
  {
   "cell_type": "code",
   "execution_count": 37,
   "metadata": {},
   "outputs": [
    {
     "data": {
      "text/html": [
       "<div>\n",
       "<style scoped>\n",
       "    .dataframe tbody tr th:only-of-type {\n",
       "        vertical-align: middle;\n",
       "    }\n",
       "\n",
       "    .dataframe tbody tr th {\n",
       "        vertical-align: top;\n",
       "    }\n",
       "\n",
       "    .dataframe thead th {\n",
       "        text-align: right;\n",
       "    }\n",
       "</style>\n",
       "<table border=\"1\" class=\"dataframe\">\n",
       "  <thead>\n",
       "    <tr style=\"text-align: right;\">\n",
       "      <th></th>\n",
       "      <th>State Name</th>\n",
       "      <th>Year</th>\n",
       "      <th>Total_OD_Deaths</th>\n",
       "    </tr>\n",
       "  </thead>\n",
       "  <tbody>\n",
       "    <tr>\n",
       "      <th>0</th>\n",
       "      <td>Alabama</td>\n",
       "      <td>2015</td>\n",
       "      <td>8818.0</td>\n",
       "    </tr>\n",
       "    <tr>\n",
       "      <th>1</th>\n",
       "      <td>Alabama</td>\n",
       "      <td>2016</td>\n",
       "      <td>8324.0</td>\n",
       "    </tr>\n",
       "    <tr>\n",
       "      <th>2</th>\n",
       "      <td>Alabama</td>\n",
       "      <td>2017</td>\n",
       "      <td>9551.0</td>\n",
       "    </tr>\n",
       "    <tr>\n",
       "      <th>3</th>\n",
       "      <td>Alaska</td>\n",
       "      <td>2015</td>\n",
       "      <td>1472.0</td>\n",
       "    </tr>\n",
       "    <tr>\n",
       "      <th>4</th>\n",
       "      <td>Alaska</td>\n",
       "      <td>2016</td>\n",
       "      <td>1594.0</td>\n",
       "    </tr>\n",
       "  </tbody>\n",
       "</table>\n",
       "</div>"
      ],
      "text/plain": [
       "  State Name  Year  Total_OD_Deaths\n",
       "0    Alabama  2015           8818.0\n",
       "1    Alabama  2016           8324.0\n",
       "2    Alabama  2017           9551.0\n",
       "3     Alaska  2015           1472.0\n",
       "4     Alaska  2016           1594.0"
      ]
     },
     "execution_count": 37,
     "metadata": {},
     "output_type": "execute_result"
    }
   ],
   "source": [
    "#sum by state year and status\n",
    "od_yr_states = totalod.groupby(['State Name','Year'])['Total_OD_Deaths'].sum().reset_index()\n",
    "od_yr_states.head()"
   ]
  },
  {
   "cell_type": "code",
   "execution_count": 38,
   "metadata": {},
   "outputs": [
    {
     "name": "stdout",
     "output_type": "stream",
     "text": [
      "<class 'pandas.core.frame.DataFrame'>\n",
      "RangeIndex: 9 entries, 0 to 8\n",
      "Data columns (total 3 columns):\n",
      " #   Column           Non-Null Count  Dtype  \n",
      "---  ------           --------------  -----  \n",
      " 0   legalWeedStatus  9 non-null      object \n",
      " 1   Year             9 non-null      int64  \n",
      " 2   Total_OD_Deaths  9 non-null      float64\n",
      "dtypes: float64(1), int64(1), object(1)\n",
      "memory usage: 344.0+ bytes\n"
     ]
    }
   ],
   "source": [
    "##sum by year legal\n",
    "od_status_year = totalod.groupby(['legalWeedStatus','Year'])['Total_OD_Deaths'].sum().reset_index()\n",
    "od_status_year.info()"
   ]
  },
  {
   "cell_type": "code",
   "execution_count": 39,
   "metadata": {},
   "outputs": [],
   "source": [
    "##sum by state"
   ]
  },
  {
   "cell_type": "code",
   "execution_count": 40,
   "metadata": {},
   "outputs": [
    {
     "data": {
      "text/html": [
       "<div>\n",
       "<style scoped>\n",
       "    .dataframe tbody tr th:only-of-type {\n",
       "        vertical-align: middle;\n",
       "    }\n",
       "\n",
       "    .dataframe tbody tr th {\n",
       "        vertical-align: top;\n",
       "    }\n",
       "\n",
       "    .dataframe thead th {\n",
       "        text-align: right;\n",
       "    }\n",
       "</style>\n",
       "<table border=\"1\" class=\"dataframe\">\n",
       "  <thead>\n",
       "    <tr style=\"text-align: right;\">\n",
       "      <th></th>\n",
       "      <th>State Name</th>\n",
       "      <th>Total_OD_Deaths</th>\n",
       "    </tr>\n",
       "  </thead>\n",
       "  <tbody>\n",
       "    <tr>\n",
       "      <th>0</th>\n",
       "      <td>Alabama</td>\n",
       "      <td>26693.0</td>\n",
       "    </tr>\n",
       "    <tr>\n",
       "      <th>1</th>\n",
       "      <td>Alaska</td>\n",
       "      <td>4637.0</td>\n",
       "    </tr>\n",
       "    <tr>\n",
       "      <th>2</th>\n",
       "      <td>Arizona</td>\n",
       "      <td>48545.0</td>\n",
       "    </tr>\n",
       "    <tr>\n",
       "      <th>3</th>\n",
       "      <td>Arkansas</td>\n",
       "      <td>13904.0</td>\n",
       "    </tr>\n",
       "    <tr>\n",
       "      <th>4</th>\n",
       "      <td>California</td>\n",
       "      <td>171561.0</td>\n",
       "    </tr>\n",
       "  </tbody>\n",
       "</table>\n",
       "</div>"
      ],
      "text/plain": [
       "   State Name  Total_OD_Deaths\n",
       "0     Alabama          26693.0\n",
       "1      Alaska           4637.0\n",
       "2     Arizona          48545.0\n",
       "3    Arkansas          13904.0\n",
       "4  California         171561.0"
      ]
     },
     "execution_count": 40,
     "metadata": {},
     "output_type": "execute_result"
    }
   ],
   "source": [
    "OD_states = totalod.groupby(['State Name'])['Total_OD_Deaths'].sum().reset_index()\n",
    "OD_states.head()"
   ]
  },
  {
   "cell_type": "code",
   "execution_count": 41,
   "metadata": {},
   "outputs": [],
   "source": [
    "#########Joins state tables#########"
   ]
  },
  {
   "cell_type": "code",
   "execution_count": 42,
   "metadata": {},
   "outputs": [],
   "source": [
    "###join all the status info into one table\n",
    "#status_join1 = status_pop.join(status_mvrtotal.set_index(['legalWeedStatus']),on=['legalWeedStatus'],how='left')\n",
    "#status_join1.head()"
   ]
  },
  {
   "cell_type": "code",
   "execution_count": 43,
   "metadata": {},
   "outputs": [
    {
     "name": "stdout",
     "output_type": "stream",
     "text": [
      "<class 'pandas.core.frame.DataFrame'>\n",
      "RangeIndex: 153 entries, 0 to 152\n",
      "Data columns (total 3 columns):\n",
      " #   Column        Non-Null Count  Dtype  \n",
      "---  ------        --------------  -----  \n",
      " 0   State Name    153 non-null    object \n",
      " 1   Year          153 non-null    int64  \n",
      " 2   Total_Deaths  153 non-null    float64\n",
      "dtypes: float64(1), int64(1), object(1)\n",
      "memory usage: 3.7+ KB\n"
     ]
    }
   ],
   "source": [
    "####OD and deaths\n",
    "Deaths_yr_states.info()"
   ]
  },
  {
   "cell_type": "code",
   "execution_count": 44,
   "metadata": {},
   "outputs": [
    {
     "name": "stdout",
     "output_type": "stream",
     "text": [
      "<class 'pandas.core.frame.DataFrame'>\n",
      "Int64Index: 153 entries, 0 to 402\n",
      "Data columns (total 4 columns):\n",
      " #   Column           Non-Null Count  Dtype \n",
      "---  ------           --------------  ----- \n",
      " 0   Year             153 non-null    int64 \n",
      " 1   State            153 non-null    object\n",
      " 2   MV_Deaths        153 non-null    int64 \n",
      " 3   legalWeedStatus  153 non-null    object\n",
      "dtypes: int64(2), object(2)\n",
      "memory usage: 6.0+ KB\n"
     ]
    }
   ],
   "source": [
    "mvr_state_yr.info()"
   ]
  },
  {
   "cell_type": "code",
   "execution_count": 45,
   "metadata": {},
   "outputs": [
    {
     "name": "stdout",
     "output_type": "stream",
     "text": [
      "<class 'pandas.core.frame.DataFrame'>\n",
      "RangeIndex: 153 entries, 0 to 152\n",
      "Data columns (total 3 columns):\n",
      " #   Column           Non-Null Count  Dtype  \n",
      "---  ------           --------------  -----  \n",
      " 0   State Name       153 non-null    object \n",
      " 1   Year             153 non-null    int64  \n",
      " 2   Total_OD_Deaths  153 non-null    float64\n",
      "dtypes: float64(1), int64(1), object(1)\n",
      "memory usage: 3.7+ KB\n"
     ]
    }
   ],
   "source": [
    "od_yr_states.info()"
   ]
  },
  {
   "cell_type": "code",
   "execution_count": 46,
   "metadata": {},
   "outputs": [],
   "source": [
    "####State Year\n",
    "\n",
    "State_year = mvr_state_yr.join(Deaths_yr_states.set_index(['Year','State Name']),on=['Year','State'],how='left')\n",
    "###Add #OD\n",
    "State_year_counts = State_year.join(od_yr_states.set_index(['Year','State Name']),on=['Year','State'],how='left')\n"
   ]
  },
  {
   "cell_type": "code",
   "execution_count": 47,
   "metadata": {},
   "outputs": [
    {
     "data": {
      "text/html": [
       "<div>\n",
       "<style scoped>\n",
       "    .dataframe tbody tr th:only-of-type {\n",
       "        vertical-align: middle;\n",
       "    }\n",
       "\n",
       "    .dataframe tbody tr th {\n",
       "        vertical-align: top;\n",
       "    }\n",
       "\n",
       "    .dataframe thead th {\n",
       "        text-align: right;\n",
       "    }\n",
       "</style>\n",
       "<table border=\"1\" class=\"dataframe\">\n",
       "  <thead>\n",
       "    <tr style=\"text-align: right;\">\n",
       "      <th></th>\n",
       "      <th>Year</th>\n",
       "      <th>State</th>\n",
       "      <th>MV_Deaths</th>\n",
       "      <th>legalWeedStatus</th>\n",
       "      <th>Total_Deaths</th>\n",
       "      <th>Total_OD_Deaths</th>\n",
       "    </tr>\n",
       "  </thead>\n",
       "  <tbody>\n",
       "    <tr>\n",
       "      <th>0</th>\n",
       "      <td>2017</td>\n",
       "      <td>Alabama</td>\n",
       "      <td>948</td>\n",
       "      <td>Fully Illegal</td>\n",
       "      <td>623769.0</td>\n",
       "      <td>9551.0</td>\n",
       "    </tr>\n",
       "    <tr>\n",
       "      <th>1</th>\n",
       "      <td>2016</td>\n",
       "      <td>Alabama</td>\n",
       "      <td>1122</td>\n",
       "      <td>Fully Illegal</td>\n",
       "      <td>608611.0</td>\n",
       "      <td>8324.0</td>\n",
       "    </tr>\n",
       "    <tr>\n",
       "      <th>2</th>\n",
       "      <td>2015</td>\n",
       "      <td>Alabama</td>\n",
       "      <td>849</td>\n",
       "      <td>Fully Illegal</td>\n",
       "      <td>607641.0</td>\n",
       "      <td>8818.0</td>\n",
       "    </tr>\n",
       "    <tr>\n",
       "      <th>8</th>\n",
       "      <td>2017</td>\n",
       "      <td>Alaska</td>\n",
       "      <td>79</td>\n",
       "      <td>Fully Legal</td>\n",
       "      <td>51597.0</td>\n",
       "      <td>1571.0</td>\n",
       "    </tr>\n",
       "    <tr>\n",
       "      <th>9</th>\n",
       "      <td>2016</td>\n",
       "      <td>Alaska</td>\n",
       "      <td>81</td>\n",
       "      <td>Fully Legal</td>\n",
       "      <td>51141.0</td>\n",
       "      <td>1594.0</td>\n",
       "    </tr>\n",
       "  </tbody>\n",
       "</table>\n",
       "</div>"
      ],
      "text/plain": [
       "   Year    State  MV_Deaths legalWeedStatus  Total_Deaths  Total_OD_Deaths\n",
       "0  2017  Alabama        948   Fully Illegal      623769.0           9551.0\n",
       "1  2016  Alabama       1122   Fully Illegal      608611.0           8324.0\n",
       "2  2015  Alabama        849   Fully Illegal      607641.0           8818.0\n",
       "8  2017   Alaska         79     Fully Legal       51597.0           1571.0\n",
       "9  2016   Alaska         81     Fully Legal       51141.0           1594.0"
      ]
     },
     "execution_count": 47,
     "metadata": {},
     "output_type": "execute_result"
    }
   ],
   "source": [
    "State_year_counts.head()"
   ]
  },
  {
   "cell_type": "code",
   "execution_count": 48,
   "metadata": {},
   "outputs": [
    {
     "data": {
      "text/html": [
       "<div>\n",
       "<style scoped>\n",
       "    .dataframe tbody tr th:only-of-type {\n",
       "        vertical-align: middle;\n",
       "    }\n",
       "\n",
       "    .dataframe tbody tr th {\n",
       "        vertical-align: top;\n",
       "    }\n",
       "\n",
       "    .dataframe thead th {\n",
       "        text-align: right;\n",
       "    }\n",
       "</style>\n",
       "<table border=\"1\" class=\"dataframe\">\n",
       "  <thead>\n",
       "    <tr style=\"text-align: right;\">\n",
       "      <th></th>\n",
       "      <th>legalWeedStatus</th>\n",
       "      <th>Year</th>\n",
       "      <th>MV_Deaths</th>\n",
       "      <th>Total_Deaths</th>\n",
       "      <th>Total_OD_Deaths</th>\n",
       "    </tr>\n",
       "  </thead>\n",
       "  <tbody>\n",
       "    <tr>\n",
       "      <th>0</th>\n",
       "      <td>Fully Illegal</td>\n",
       "      <td>2015</td>\n",
       "      <td>7262</td>\n",
       "      <td>5410542.0</td>\n",
       "      <td>89453.0</td>\n",
       "    </tr>\n",
       "    <tr>\n",
       "      <th>1</th>\n",
       "      <td>Fully Illegal</td>\n",
       "      <td>2016</td>\n",
       "      <td>8131</td>\n",
       "      <td>5441650.0</td>\n",
       "      <td>99669.0</td>\n",
       "    </tr>\n",
       "    <tr>\n",
       "      <th>2</th>\n",
       "      <td>Fully Illegal</td>\n",
       "      <td>2017</td>\n",
       "      <td>7658</td>\n",
       "      <td>5590371.0</td>\n",
       "      <td>114281.0</td>\n",
       "    </tr>\n",
       "    <tr>\n",
       "      <th>3</th>\n",
       "      <td>Fully Legal</td>\n",
       "      <td>2015</td>\n",
       "      <td>6632</td>\n",
       "      <td>7034178.0</td>\n",
       "      <td>141214.0</td>\n",
       "    </tr>\n",
       "    <tr>\n",
       "      <th>4</th>\n",
       "      <td>Fully Legal</td>\n",
       "      <td>2016</td>\n",
       "      <td>7752</td>\n",
       "      <td>7132055.0</td>\n",
       "      <td>154115.0</td>\n",
       "    </tr>\n",
       "  </tbody>\n",
       "</table>\n",
       "</div>"
      ],
      "text/plain": [
       "  legalWeedStatus  Year  MV_Deaths  Total_Deaths  Total_OD_Deaths\n",
       "0   Fully Illegal  2015       7262     5410542.0          89453.0\n",
       "1   Fully Illegal  2016       8131     5441650.0          99669.0\n",
       "2   Fully Illegal  2017       7658     5590371.0         114281.0\n",
       "3     Fully Legal  2015       6632     7034178.0         141214.0\n",
       "4     Fully Legal  2016       7752     7132055.0         154115.0"
      ]
     },
     "execution_count": 48,
     "metadata": {},
     "output_type": "execute_result"
    }
   ],
   "source": [
    "##sum by year legal\n",
    "Status_Counts =State_year_counts.groupby(['legalWeedStatus','Year']).sum().reset_index()\n",
    "Status_Counts.head()\n"
   ]
  },
  {
   "cell_type": "code",
   "execution_count": 58,
   "metadata": {},
   "outputs": [
    {
     "data": {
      "text/html": [
       "<div>\n",
       "<style scoped>\n",
       "    .dataframe tbody tr th:only-of-type {\n",
       "        vertical-align: middle;\n",
       "    }\n",
       "\n",
       "    .dataframe tbody tr th {\n",
       "        vertical-align: top;\n",
       "    }\n",
       "\n",
       "    .dataframe thead th {\n",
       "        text-align: right;\n",
       "    }\n",
       "</style>\n",
       "<table border=\"1\" class=\"dataframe\">\n",
       "  <thead>\n",
       "    <tr style=\"text-align: right;\">\n",
       "      <th></th>\n",
       "      <th>legalWeedStatus</th>\n",
       "      <th>State</th>\n",
       "      <th>Year</th>\n",
       "      <th>MV_Deaths</th>\n",
       "      <th>Total_Deaths</th>\n",
       "      <th>Total_OD_Deaths</th>\n",
       "      <th>OverdosePercent</th>\n",
       "      <th>MVPercent</th>\n",
       "    </tr>\n",
       "  </thead>\n",
       "  <tbody>\n",
       "    <tr>\n",
       "      <th>0</th>\n",
       "      <td>Fully Illegal</td>\n",
       "      <td>Alabama</td>\n",
       "      <td>6048</td>\n",
       "      <td>2919</td>\n",
       "      <td>1840021.0</td>\n",
       "      <td>26693.0</td>\n",
       "      <td>0.014507</td>\n",
       "      <td>0.001586</td>\n",
       "    </tr>\n",
       "    <tr>\n",
       "      <th>1</th>\n",
       "      <td>Fully Illegal</td>\n",
       "      <td>Idaho</td>\n",
       "      <td>6048</td>\n",
       "      <td>726</td>\n",
       "      <td>475742.0</td>\n",
       "      <td>8000.0</td>\n",
       "      <td>0.016816</td>\n",
       "      <td>0.001526</td>\n",
       "    </tr>\n",
       "    <tr>\n",
       "      <th>2</th>\n",
       "      <td>Fully Illegal</td>\n",
       "      <td>Kansas</td>\n",
       "      <td>6048</td>\n",
       "      <td>1231</td>\n",
       "      <td>925159.0</td>\n",
       "      <td>11471.0</td>\n",
       "      <td>0.012399</td>\n",
       "      <td>0.001331</td>\n",
       "    </tr>\n",
       "    <tr>\n",
       "      <th>3</th>\n",
       "      <td>Fully Illegal</td>\n",
       "      <td>Kentucky</td>\n",
       "      <td>6048</td>\n",
       "      <td>2349</td>\n",
       "      <td>1685606.0</td>\n",
       "      <td>49178.0</td>\n",
       "      <td>0.029175</td>\n",
       "      <td>0.001394</td>\n",
       "    </tr>\n",
       "    <tr>\n",
       "      <th>4</th>\n",
       "      <td>Fully Illegal</td>\n",
       "      <td>Mississippi</td>\n",
       "      <td>6048</td>\n",
       "      <td>2104</td>\n",
       "      <td>1110201.0</td>\n",
       "      <td>11751.0</td>\n",
       "      <td>0.010585</td>\n",
       "      <td>0.001895</td>\n",
       "    </tr>\n",
       "  </tbody>\n",
       "</table>\n",
       "</div>"
      ],
      "text/plain": [
       "  legalWeedStatus        State  Year  MV_Deaths  Total_Deaths  \\\n",
       "0   Fully Illegal      Alabama  6048       2919     1840021.0   \n",
       "1   Fully Illegal        Idaho  6048        726      475742.0   \n",
       "2   Fully Illegal       Kansas  6048       1231      925159.0   \n",
       "3   Fully Illegal     Kentucky  6048       2349     1685606.0   \n",
       "4   Fully Illegal  Mississippi  6048       2104     1110201.0   \n",
       "\n",
       "   Total_OD_Deaths  OverdosePercent  MVPercent  \n",
       "0          26693.0         0.014507   0.001586  \n",
       "1           8000.0         0.016816   0.001526  \n",
       "2          11471.0         0.012399   0.001331  \n",
       "3          49178.0         0.029175   0.001394  \n",
       "4          11751.0         0.010585   0.001895  "
      ]
     },
     "execution_count": 58,
     "metadata": {},
     "output_type": "execute_result"
    }
   ],
   "source": [
    "##sum by year legal\n",
    "State_Counts =State_year_counts.groupby(['legalWeedStatus','State']).sum().reset_index()\n",
    "State_Counts['OverdosePercent'] = State_Counts['Total_OD_Deaths']/State_Counts['Total_Deaths']\n",
    "State_Counts['MVPercent'] = State_Counts['MV_Deaths']/State_Counts['Total_Deaths']\n",
    "State_Counts.head()"
   ]
  },
  {
   "cell_type": "code",
   "execution_count": 59,
   "metadata": {},
   "outputs": [],
   "source": [
    "State_Counts.to_csv(r'C:\\Users\\jcaravella\\Documents\\Project2\\Main_data\\state_level.csv', index = False,header=True)"
   ]
  },
  {
   "cell_type": "code",
   "execution_count": 61,
   "metadata": {},
   "outputs": [
    {
     "data": {
      "text/html": [
       "<div>\n",
       "<style scoped>\n",
       "    .dataframe tbody tr th:only-of-type {\n",
       "        vertical-align: middle;\n",
       "    }\n",
       "\n",
       "    .dataframe tbody tr th {\n",
       "        vertical-align: top;\n",
       "    }\n",
       "\n",
       "    .dataframe thead th {\n",
       "        text-align: right;\n",
       "    }\n",
       "</style>\n",
       "<table border=\"1\" class=\"dataframe\">\n",
       "  <thead>\n",
       "    <tr style=\"text-align: right;\">\n",
       "      <th></th>\n",
       "      <th>legalWeedStatus</th>\n",
       "      <th>Year</th>\n",
       "      <th>MV_Deaths</th>\n",
       "      <th>Total_Deaths</th>\n",
       "      <th>Total_OD_Deaths</th>\n",
       "      <th>OverdosePercent</th>\n",
       "      <th>MVPercent</th>\n",
       "    </tr>\n",
       "  </thead>\n",
       "  <tbody>\n",
       "    <tr>\n",
       "      <th>0</th>\n",
       "      <td>Fully Illegal</td>\n",
       "      <td>2015</td>\n",
       "      <td>7262</td>\n",
       "      <td>5410542.0</td>\n",
       "      <td>89453.0</td>\n",
       "      <td>0.016533</td>\n",
       "      <td>0.001342</td>\n",
       "    </tr>\n",
       "    <tr>\n",
       "      <th>1</th>\n",
       "      <td>Fully Illegal</td>\n",
       "      <td>2016</td>\n",
       "      <td>8131</td>\n",
       "      <td>5441650.0</td>\n",
       "      <td>99669.0</td>\n",
       "      <td>0.018316</td>\n",
       "      <td>0.001494</td>\n",
       "    </tr>\n",
       "    <tr>\n",
       "      <th>2</th>\n",
       "      <td>Fully Illegal</td>\n",
       "      <td>2017</td>\n",
       "      <td>7658</td>\n",
       "      <td>5590371.0</td>\n",
       "      <td>114281.0</td>\n",
       "      <td>0.020442</td>\n",
       "      <td>0.001370</td>\n",
       "    </tr>\n",
       "    <tr>\n",
       "      <th>3</th>\n",
       "      <td>Fully Legal</td>\n",
       "      <td>2015</td>\n",
       "      <td>6632</td>\n",
       "      <td>7034178.0</td>\n",
       "      <td>141214.0</td>\n",
       "      <td>0.020075</td>\n",
       "      <td>0.000943</td>\n",
       "    </tr>\n",
       "    <tr>\n",
       "      <th>4</th>\n",
       "      <td>Fully Legal</td>\n",
       "      <td>2016</td>\n",
       "      <td>7752</td>\n",
       "      <td>7132055.0</td>\n",
       "      <td>154115.0</td>\n",
       "      <td>0.021609</td>\n",
       "      <td>0.001087</td>\n",
       "    </tr>\n",
       "  </tbody>\n",
       "</table>\n",
       "</div>"
      ],
      "text/plain": [
       "  legalWeedStatus  Year  MV_Deaths  Total_Deaths  Total_OD_Deaths  \\\n",
       "0   Fully Illegal  2015       7262     5410542.0          89453.0   \n",
       "1   Fully Illegal  2016       8131     5441650.0          99669.0   \n",
       "2   Fully Illegal  2017       7658     5590371.0         114281.0   \n",
       "3     Fully Legal  2015       6632     7034178.0         141214.0   \n",
       "4     Fully Legal  2016       7752     7132055.0         154115.0   \n",
       "\n",
       "   OverdosePercent  MVPercent  \n",
       "0         0.016533   0.001342  \n",
       "1         0.018316   0.001494  \n",
       "2         0.020442   0.001370  \n",
       "3         0.020075   0.000943  \n",
       "4         0.021609   0.001087  "
      ]
     },
     "execution_count": 61,
     "metadata": {},
     "output_type": "execute_result"
    }
   ],
   "source": [
    "##sum by year legal\n",
    "Status_Counts =State_year_counts.groupby(['legalWeedStatus','Year']).sum().reset_index()\n",
    "Status_Counts['OverdosePercent'] = Status_Counts['Total_OD_Deaths']/Status_Counts['Total_Deaths']\n",
    "Status_Counts['MVPercent'] = Status_Counts['MV_Deaths']/Status_Counts['Total_Deaths']\n",
    "Status_Counts.head()"
   ]
  },
  {
   "cell_type": "code",
   "execution_count": 62,
   "metadata": {},
   "outputs": [],
   "source": [
    "Status_Counts.to_csv(r'C:\\Users\\jcaravella\\Documents\\Project2\\Main_data\\legalstatus_level.csv', index = False,header=True)"
   ]
  },
  {
   "cell_type": "code",
   "execution_count": null,
   "metadata": {},
   "outputs": [],
   "source": []
  },
  {
   "cell_type": "code",
   "execution_count": null,
   "metadata": {},
   "outputs": [],
   "source": [
    "###od deaths / yearly deaths\n",
    "state_od_td_yr['%OD Deaths'] = state_od_td_yr['yearly_OD_deaths']/state_od_td_yr['yearly_deaths']"
   ]
  },
  {
   "cell_type": "code",
   "execution_count": null,
   "metadata": {},
   "outputs": [],
   "source": [
    "######Stop####"
   ]
  },
  {
   "cell_type": "code",
   "execution_count": 41,
   "metadata": {},
   "outputs": [
    {
     "name": "stdout",
     "output_type": "stream",
     "text": [
      "<class 'pandas.core.frame.DataFrame'>\n",
      "Int64Index: 153 entries, 1 to 155\n",
      "Data columns (total 3 columns):\n",
      " #   Column                              Non-Null Count  Dtype \n",
      "---  ------                              --------------  ----- \n",
      " 0   State                               153 non-null    object\n",
      " 1   Traffic deaths - state of incident  153 non-null    int64 \n",
      " 2   legalWeedStatus                     153 non-null    object\n",
      "dtypes: int64(1), object(2)\n",
      "memory usage: 4.8+ KB\n"
     ]
    }
   ],
   "source": [
    "####to get number of mvr deaths by state, dropping tables when not using year\n",
    "mvr_state_total_md = mvr_status.drop(columns=[\"Year\",\"Deaths  per 100,000 population\",\"Motor Vehicle Deaths - state of residence\",\"Traffic deaths  per 10,000 motor vehicles\",\"Traffic deaths - per 100,000,000 vehicle miles\",\"Pop\"])\n",
    "                   \n",
    "mvr_state_total_md.info()  "
   ]
  },
  {
   "cell_type": "code",
   "execution_count": 20,
   "metadata": {},
   "outputs": [
    {
     "name": "stdout",
     "output_type": "stream",
     "text": [
      "<class 'pandas.core.frame.DataFrame'>\n",
      "RangeIndex: 153 entries, 0 to 152\n",
      "Data columns (total 4 columns):\n",
      " #   Column                              Non-Null Count  Dtype  \n",
      "---  ------                              --------------  -----  \n",
      " 0   State                               153 non-null    object \n",
      " 1   legalWeedStatus                     153 non-null    object \n",
      " 2   Year                                153 non-null    float64\n",
      " 3   Traffic deaths - state of incident  153 non-null    int64  \n",
      "dtypes: float64(1), int64(1), object(2)\n",
      "memory usage: 4.9+ KB\n"
     ]
    }
   ],
   "source": [
    "####to get number of mvr deaths by state, dropping tables when using year\n",
    "mvr_yr_state_total_md = mvr_status.drop(columns=[\"Deaths  per 100,000 population\",\"Motor Vehicle Deaths - state of residence\",\"Traffic deaths  per 10,000 motor vehicles\",\"Traffic deaths - per 100,000,000 vehicle miles\",\"Pop\"])\n",
    "total_MVR_by_state_yr = mvr_yr_state_total_md.groupby(['State','legalWeedStatus','Year'])['Traffic deaths - state of incident'].sum().reset_index()                  \n",
    "total_MVR_by_state_yr.info() "
   ]
  },
  {
   "cell_type": "code",
   "execution_count": 21,
   "metadata": {},
   "outputs": [
    {
     "data": {
      "text/html": [
       "<div>\n",
       "<style scoped>\n",
       "    .dataframe tbody tr th:only-of-type {\n",
       "        vertical-align: middle;\n",
       "    }\n",
       "\n",
       "    .dataframe tbody tr th {\n",
       "        vertical-align: top;\n",
       "    }\n",
       "\n",
       "    .dataframe thead th {\n",
       "        text-align: right;\n",
       "    }\n",
       "</style>\n",
       "<table border=\"1\" class=\"dataframe\">\n",
       "  <thead>\n",
       "    <tr style=\"text-align: right;\">\n",
       "      <th></th>\n",
       "      <th>State</th>\n",
       "      <th>legalWeedStatus</th>\n",
       "      <th>Traffic deaths - state of incident</th>\n",
       "    </tr>\n",
       "  </thead>\n",
       "  <tbody>\n",
       "    <tr>\n",
       "      <th>0</th>\n",
       "      <td>Alabama</td>\n",
       "      <td>Fully Illegal</td>\n",
       "      <td>2919</td>\n",
       "    </tr>\n",
       "    <tr>\n",
       "      <th>1</th>\n",
       "      <td>Alaska</td>\n",
       "      <td>Fully Legal</td>\n",
       "      <td>225</td>\n",
       "    </tr>\n",
       "    <tr>\n",
       "      <th>2</th>\n",
       "      <td>Arizona</td>\n",
       "      <td>Mixed</td>\n",
       "      <td>2821</td>\n",
       "    </tr>\n",
       "    <tr>\n",
       "      <th>3</th>\n",
       "      <td>Arkansas</td>\n",
       "      <td>Mixed</td>\n",
       "      <td>1608</td>\n",
       "    </tr>\n",
       "    <tr>\n",
       "      <th>4</th>\n",
       "      <td>California</td>\n",
       "      <td>Fully Legal</td>\n",
       "      <td>10779</td>\n",
       "    </tr>\n",
       "  </tbody>\n",
       "</table>\n",
       "</div>"
      ],
      "text/plain": [
       "        State legalWeedStatus  Traffic deaths - state of incident\n",
       "0     Alabama   Fully Illegal                                2919\n",
       "1      Alaska     Fully Legal                                 225\n",
       "2     Arizona           Mixed                                2821\n",
       "3    Arkansas           Mixed                                1608\n",
       "4  California     Fully Legal                               10779"
      ]
     },
     "execution_count": 21,
     "metadata": {},
     "output_type": "execute_result"
    }
   ],
   "source": [
    "###Sum up the number of deaths\n",
    "total_MVR_by_state = mvr_state_total_md.groupby(['State','legalWeedStatus'])['Traffic deaths - state of incident'].sum().reset_index()\n",
    "total_MVR_by_state.head()\n"
   ]
  },
  {
   "cell_type": "code",
   "execution_count": 22,
   "metadata": {},
   "outputs": [
    {
     "data": {
      "text/html": [
       "<div>\n",
       "<style scoped>\n",
       "    .dataframe tbody tr th:only-of-type {\n",
       "        vertical-align: middle;\n",
       "    }\n",
       "\n",
       "    .dataframe tbody tr th {\n",
       "        vertical-align: top;\n",
       "    }\n",
       "\n",
       "    .dataframe thead th {\n",
       "        text-align: right;\n",
       "    }\n",
       "</style>\n",
       "<table border=\"1\" class=\"dataframe\">\n",
       "  <thead>\n",
       "    <tr style=\"text-align: right;\">\n",
       "      <th></th>\n",
       "      <th>Year</th>\n",
       "      <th>State</th>\n",
       "      <th>Deaths  per 100,000 population</th>\n",
       "      <th>legalWeedStatus</th>\n",
       "    </tr>\n",
       "  </thead>\n",
       "  <tbody>\n",
       "    <tr>\n",
       "      <th>1</th>\n",
       "      <td>2017.0</td>\n",
       "      <td>Alabama</td>\n",
       "      <td>21.2</td>\n",
       "      <td>Fully Illegal</td>\n",
       "    </tr>\n",
       "    <tr>\n",
       "      <th>2</th>\n",
       "      <td>2017.0</td>\n",
       "      <td>Alaska</td>\n",
       "      <td>13.7</td>\n",
       "      <td>Fully Legal</td>\n",
       "    </tr>\n",
       "    <tr>\n",
       "      <th>3</th>\n",
       "      <td>2017.0</td>\n",
       "      <td>Arizona</td>\n",
       "      <td>14.5</td>\n",
       "      <td>Mixed</td>\n",
       "    </tr>\n",
       "    <tr>\n",
       "      <th>4</th>\n",
       "      <td>2017.0</td>\n",
       "      <td>Arkansas</td>\n",
       "      <td>19.3</td>\n",
       "      <td>Mixed</td>\n",
       "    </tr>\n",
       "    <tr>\n",
       "      <th>5</th>\n",
       "      <td>2017.0</td>\n",
       "      <td>California</td>\n",
       "      <td>10.6</td>\n",
       "      <td>Fully Legal</td>\n",
       "    </tr>\n",
       "  </tbody>\n",
       "</table>\n",
       "</div>"
      ],
      "text/plain": [
       "     Year       State  Deaths  per 100,000 population legalWeedStatus\n",
       "1  2017.0     Alabama                            21.2   Fully Illegal\n",
       "2  2017.0      Alaska                            13.7     Fully Legal\n",
       "3  2017.0     Arizona                            14.5           Mixed\n",
       "4  2017.0    Arkansas                            19.3           Mixed\n",
       "5  2017.0  California                            10.6     Fully Legal"
      ]
     },
     "execution_count": 22,
     "metadata": {},
     "output_type": "execute_result"
    }
   ],
   "source": [
    "####Mvr state level table\n",
    "#drop columns I don't need for either state level tabel graph\n",
    "\n",
    "mvr_state = mvr_status.drop(columns=[\"Motor Vehicle Deaths - state of residence\",\"Traffic deaths - state of incident\",\"Traffic deaths  per 10,000 motor vehicles\",\"Traffic deaths - per 100,000,000 vehicle miles\",\"Pop\"])\n",
    "                   \n",
    "mvr_state.head()                                       \n"
   ]
  },
  {
   "cell_type": "code",
   "execution_count": 23,
   "metadata": {},
   "outputs": [],
   "source": [
    "##MVR deaths by legal status"
   ]
  },
  {
   "cell_type": "code",
   "execution_count": 24,
   "metadata": {},
   "outputs": [
    {
     "name": "stdout",
     "output_type": "stream",
     "text": [
      "<class 'pandas.core.frame.DataFrame'>\n",
      "Int64Index: 153 entries, 1 to 155\n",
      "Data columns (total 9 columns):\n",
      " #   Column                                          Non-Null Count  Dtype  \n",
      "---  ------                                          --------------  -----  \n",
      " 0   Year                                            153 non-null    float64\n",
      " 1   State                                           153 non-null    object \n",
      " 2   Motor Vehicle Deaths - state of residence       153 non-null    int64  \n",
      " 3   Traffic deaths - state of incident              153 non-null    int64  \n",
      " 4   Deaths  per 100,000 population                  153 non-null    float64\n",
      " 5   Traffic deaths  per 10,000 motor vehicles       153 non-null    float64\n",
      " 6   Traffic deaths - per 100,000,000 vehicle miles  153 non-null    float64\n",
      " 7   Pop                                             153 non-null    float64\n",
      " 8   legalWeedStatus                                 153 non-null    object \n",
      "dtypes: float64(5), int64(2), object(2)\n",
      "memory usage: 12.0+ KB\n"
     ]
    }
   ],
   "source": [
    "mvr_status.info()"
   ]
  },
  {
   "cell_type": "code",
   "execution_count": 25,
   "metadata": {},
   "outputs": [
    {
     "name": "stdout",
     "output_type": "stream",
     "text": [
      "<class 'pandas.core.frame.DataFrame'>\n",
      "Int64Index: 153 entries, 1 to 155\n",
      "Data columns (total 3 columns):\n",
      " #   Column                              Non-Null Count  Dtype  \n",
      "---  ------                              --------------  -----  \n",
      " 0   Year                                153 non-null    float64\n",
      " 1   Traffic deaths - state of incident  153 non-null    int64  \n",
      " 2   legalWeedStatus                     153 non-null    object \n",
      "dtypes: float64(1), int64(1), object(1)\n",
      "memory usage: 4.8+ KB\n"
     ]
    }
   ],
   "source": [
    "###drop columns I don't need when including the year\n",
    "\n",
    "data_legal = mvr_status.drop(columns=[\"State\",\"Pop\",\"Motor Vehicle Deaths - state of residence\",\"Deaths  per 100,000 population\",\"Traffic deaths  per 10,000 motor vehicles\",\"Traffic deaths - per 100,000,000 vehicle miles\"])\n",
    "#mvr_bystatus = totaldeaths.groupby(['State','Year','Indicator','State Name'])['Data Value'].sum().reset_index()\n",
    "data_legal.info()"
   ]
  },
  {
   "cell_type": "code",
   "execution_count": 26,
   "metadata": {},
   "outputs": [
    {
     "data": {
      "text/html": [
       "<div>\n",
       "<style scoped>\n",
       "    .dataframe tbody tr th:only-of-type {\n",
       "        vertical-align: middle;\n",
       "    }\n",
       "\n",
       "    .dataframe tbody tr th {\n",
       "        vertical-align: top;\n",
       "    }\n",
       "\n",
       "    .dataframe thead th {\n",
       "        text-align: right;\n",
       "    }\n",
       "</style>\n",
       "<table border=\"1\" class=\"dataframe\">\n",
       "  <thead>\n",
       "    <tr style=\"text-align: right;\">\n",
       "      <th></th>\n",
       "      <th>Year</th>\n",
       "      <th>legalWeedStatus</th>\n",
       "      <th>Traffic deaths - state of incident</th>\n",
       "    </tr>\n",
       "  </thead>\n",
       "  <tbody>\n",
       "    <tr>\n",
       "      <th>0</th>\n",
       "      <td>2015.0</td>\n",
       "      <td>Fully Illegal</td>\n",
       "      <td>7262</td>\n",
       "    </tr>\n",
       "    <tr>\n",
       "      <th>1</th>\n",
       "      <td>2015.0</td>\n",
       "      <td>Fully Legal</td>\n",
       "      <td>6632</td>\n",
       "    </tr>\n",
       "    <tr>\n",
       "      <th>2</th>\n",
       "      <td>2015.0</td>\n",
       "      <td>Mixed</td>\n",
       "      <td>21198</td>\n",
       "    </tr>\n",
       "    <tr>\n",
       "      <th>3</th>\n",
       "      <td>2016.0</td>\n",
       "      <td>Fully Illegal</td>\n",
       "      <td>8131</td>\n",
       "    </tr>\n",
       "    <tr>\n",
       "      <th>4</th>\n",
       "      <td>2016.0</td>\n",
       "      <td>Fully Legal</td>\n",
       "      <td>7752</td>\n",
       "    </tr>\n",
       "  </tbody>\n",
       "</table>\n",
       "</div>"
      ],
      "text/plain": [
       "     Year legalWeedStatus  Traffic deaths - state of incident\n",
       "0  2015.0   Fully Illegal                                7262\n",
       "1  2015.0     Fully Legal                                6632\n",
       "2  2015.0           Mixed                               21198\n",
       "3  2016.0   Fully Illegal                                8131\n",
       "4  2016.0     Fully Legal                                7752"
      ]
     },
     "execution_count": 26,
     "metadata": {},
     "output_type": "execute_result"
    }
   ],
   "source": [
    "#sums by legal status \n",
    "#pop sum\n",
    "status_MVR_death = data_legal.groupby(['Year','legalWeedStatus'])['Traffic deaths - state of incident'].sum().reset_index()\n",
    "status_MVR_death.head()"
   ]
  },
  {
   "cell_type": "code",
   "execution_count": 27,
   "metadata": {},
   "outputs": [],
   "source": [
    "###get pop by status\n",
    "status_pop = lgpure_df.groupby(['legalWeedStatus'])['Pop'].sum().reset_index()"
   ]
  },
  {
   "cell_type": "code",
   "execution_count": 28,
   "metadata": {},
   "outputs": [
    {
     "name": "stdout",
     "output_type": "stream",
     "text": [
      "<class 'pandas.core.frame.DataFrame'>\n",
      "RangeIndex: 3 entries, 0 to 2\n",
      "Data columns (total 2 columns):\n",
      " #   Column           Non-Null Count  Dtype \n",
      "---  ------           --------------  ----- \n",
      " 0   legalWeedStatus  3 non-null      object\n",
      " 1   Pop              3 non-null      int64 \n",
      "dtypes: int64(1), object(1)\n",
      "memory usage: 176.0+ bytes\n"
     ]
    }
   ],
   "source": [
    "status_pop.info()"
   ]
  },
  {
   "cell_type": "code",
   "execution_count": 29,
   "metadata": {},
   "outputs": [],
   "source": [
    "####add pop to MVR deaths"
   ]
  },
  {
   "cell_type": "code",
   "execution_count": 30,
   "metadata": {},
   "outputs": [
    {
     "data": {
      "text/html": [
       "<div>\n",
       "<style scoped>\n",
       "    .dataframe tbody tr th:only-of-type {\n",
       "        vertical-align: middle;\n",
       "    }\n",
       "\n",
       "    .dataframe tbody tr th {\n",
       "        vertical-align: top;\n",
       "    }\n",
       "\n",
       "    .dataframe thead th {\n",
       "        text-align: right;\n",
       "    }\n",
       "</style>\n",
       "<table border=\"1\" class=\"dataframe\">\n",
       "  <thead>\n",
       "    <tr style=\"text-align: right;\">\n",
       "      <th></th>\n",
       "      <th>Year</th>\n",
       "      <th>legalWeedStatus</th>\n",
       "      <th>Traffic deaths - state of incident</th>\n",
       "      <th>Pop</th>\n",
       "    </tr>\n",
       "  </thead>\n",
       "  <tbody>\n",
       "    <tr>\n",
       "      <th>0</th>\n",
       "      <td>2015.0</td>\n",
       "      <td>Fully Illegal</td>\n",
       "      <td>7262</td>\n",
       "      <td>49127995</td>\n",
       "    </tr>\n",
       "    <tr>\n",
       "      <th>1</th>\n",
       "      <td>2015.0</td>\n",
       "      <td>Fully Legal</td>\n",
       "      <td>6632</td>\n",
       "      <td>81471023</td>\n",
       "    </tr>\n",
       "    <tr>\n",
       "      <th>2</th>\n",
       "      <td>2015.0</td>\n",
       "      <td>Mixed</td>\n",
       "      <td>21198</td>\n",
       "      <td>200719974</td>\n",
       "    </tr>\n",
       "    <tr>\n",
       "      <th>3</th>\n",
       "      <td>2016.0</td>\n",
       "      <td>Fully Illegal</td>\n",
       "      <td>8131</td>\n",
       "      <td>49127995</td>\n",
       "    </tr>\n",
       "    <tr>\n",
       "      <th>4</th>\n",
       "      <td>2016.0</td>\n",
       "      <td>Fully Legal</td>\n",
       "      <td>7752</td>\n",
       "      <td>81471023</td>\n",
       "    </tr>\n",
       "  </tbody>\n",
       "</table>\n",
       "</div>"
      ],
      "text/plain": [
       "     Year legalWeedStatus  Traffic deaths - state of incident        Pop\n",
       "0  2015.0   Fully Illegal                                7262   49127995\n",
       "1  2015.0     Fully Legal                                6632   81471023\n",
       "2  2015.0           Mixed                               21198  200719974\n",
       "3  2016.0   Fully Illegal                                8131   49127995\n",
       "4  2016.0     Fully Legal                                7752   81471023"
      ]
     },
     "execution_count": 30,
     "metadata": {},
     "output_type": "execute_result"
    }
   ],
   "source": [
    "####add pop to MVR deaths\n",
    "status_pop_mvr =  status_MVR_death.join(status_pop.set_index(['legalWeedStatus']), on=['legalWeedStatus'], how='left')\n",
    "status_pop_mvr.head()"
   ]
  },
  {
   "cell_type": "code",
   "execution_count": 31,
   "metadata": {},
   "outputs": [
    {
     "data": {
      "text/html": [
       "<div>\n",
       "<style scoped>\n",
       "    .dataframe tbody tr th:only-of-type {\n",
       "        vertical-align: middle;\n",
       "    }\n",
       "\n",
       "    .dataframe tbody tr th {\n",
       "        vertical-align: top;\n",
       "    }\n",
       "\n",
       "    .dataframe thead th {\n",
       "        text-align: right;\n",
       "    }\n",
       "</style>\n",
       "<table border=\"1\" class=\"dataframe\">\n",
       "  <thead>\n",
       "    <tr style=\"text-align: right;\">\n",
       "      <th></th>\n",
       "      <th>Year</th>\n",
       "      <th>Traffic deaths - state of incident</th>\n",
       "      <th>legalWeedStatus</th>\n",
       "    </tr>\n",
       "  </thead>\n",
       "  <tbody>\n",
       "    <tr>\n",
       "      <th>1</th>\n",
       "      <td>2017.0</td>\n",
       "      <td>948</td>\n",
       "      <td>Fully Illegal</td>\n",
       "    </tr>\n",
       "    <tr>\n",
       "      <th>2</th>\n",
       "      <td>2017.0</td>\n",
       "      <td>79</td>\n",
       "      <td>Fully Legal</td>\n",
       "    </tr>\n",
       "    <tr>\n",
       "      <th>3</th>\n",
       "      <td>2017.0</td>\n",
       "      <td>1000</td>\n",
       "      <td>Mixed</td>\n",
       "    </tr>\n",
       "    <tr>\n",
       "      <th>4</th>\n",
       "      <td>2017.0</td>\n",
       "      <td>493</td>\n",
       "      <td>Mixed</td>\n",
       "    </tr>\n",
       "    <tr>\n",
       "      <th>5</th>\n",
       "      <td>2017.0</td>\n",
       "      <td>3602</td>\n",
       "      <td>Fully Legal</td>\n",
       "    </tr>\n",
       "  </tbody>\n",
       "</table>\n",
       "</div>"
      ],
      "text/plain": [
       "     Year  Traffic deaths - state of incident legalWeedStatus\n",
       "1  2017.0                                 948   Fully Illegal\n",
       "2  2017.0                                  79     Fully Legal\n",
       "3  2017.0                                1000           Mixed\n",
       "4  2017.0                                 493           Mixed\n",
       "5  2017.0                                3602     Fully Legal"
      ]
     },
     "execution_count": 31,
     "metadata": {},
     "output_type": "execute_result"
    }
   ],
   "source": [
    "##MVR Sum\n",
    "data_legal.head()"
   ]
  },
  {
   "cell_type": "code",
   "execution_count": 32,
   "metadata": {},
   "outputs": [
    {
     "data": {
      "text/html": [
       "<div>\n",
       "<style scoped>\n",
       "    .dataframe tbody tr th:only-of-type {\n",
       "        vertical-align: middle;\n",
       "    }\n",
       "\n",
       "    .dataframe tbody tr th {\n",
       "        vertical-align: top;\n",
       "    }\n",
       "\n",
       "    .dataframe thead th {\n",
       "        text-align: right;\n",
       "    }\n",
       "</style>\n",
       "<table border=\"1\" class=\"dataframe\">\n",
       "  <thead>\n",
       "    <tr style=\"text-align: right;\">\n",
       "      <th></th>\n",
       "      <th>Year</th>\n",
       "      <th>Traffic_deaths</th>\n",
       "      <th>legalWeedStatus</th>\n",
       "    </tr>\n",
       "  </thead>\n",
       "  <tbody>\n",
       "    <tr>\n",
       "      <th>1</th>\n",
       "      <td>2017.0</td>\n",
       "      <td>948</td>\n",
       "      <td>Fully Illegal</td>\n",
       "    </tr>\n",
       "    <tr>\n",
       "      <th>2</th>\n",
       "      <td>2017.0</td>\n",
       "      <td>79</td>\n",
       "      <td>Fully Legal</td>\n",
       "    </tr>\n",
       "    <tr>\n",
       "      <th>3</th>\n",
       "      <td>2017.0</td>\n",
       "      <td>1000</td>\n",
       "      <td>Mixed</td>\n",
       "    </tr>\n",
       "    <tr>\n",
       "      <th>4</th>\n",
       "      <td>2017.0</td>\n",
       "      <td>493</td>\n",
       "      <td>Mixed</td>\n",
       "    </tr>\n",
       "    <tr>\n",
       "      <th>5</th>\n",
       "      <td>2017.0</td>\n",
       "      <td>3602</td>\n",
       "      <td>Fully Legal</td>\n",
       "    </tr>\n",
       "  </tbody>\n",
       "</table>\n",
       "</div>"
      ],
      "text/plain": [
       "     Year  Traffic_deaths legalWeedStatus\n",
       "1  2017.0             948   Fully Illegal\n",
       "2  2017.0              79     Fully Legal\n",
       "3  2017.0            1000           Mixed\n",
       "4  2017.0             493           Mixed\n",
       "5  2017.0            3602     Fully Legal"
      ]
     },
     "execution_count": 32,
     "metadata": {},
     "output_type": "execute_result"
    }
   ],
   "source": [
    "#rename column name\n",
    "d2 = data_legal.rename(columns={\"Traffic deaths - state of incident\":\"Traffic_deaths\"})\n",
    "\n",
    "d2.head()\n",
    "\n"
   ]
  },
  {
   "cell_type": "code",
   "execution_count": 33,
   "metadata": {},
   "outputs": [
    {
     "name": "stdout",
     "output_type": "stream",
     "text": [
      "<class 'pandas.core.frame.DataFrame'>\n",
      "RangeIndex: 9 entries, 0 to 8\n",
      "Data columns (total 3 columns):\n",
      " #   Column           Non-Null Count  Dtype  \n",
      "---  ------           --------------  -----  \n",
      " 0   Year             9 non-null      float64\n",
      " 1   legalWeedStatus  9 non-null      object \n",
      " 2   Traffic_deaths   9 non-null      int64  \n",
      "dtypes: float64(1), int64(1), object(1)\n",
      "memory usage: 344.0+ bytes\n"
     ]
    }
   ],
   "source": [
    "#MVR sums by legal status\n",
    "\n",
    "status_mvrtotal = d2.groupby(['Year','legalWeedStatus'])['Traffic_deaths'].sum().reset_index()\n",
    "status_mvrtotal.info()"
   ]
  },
  {
   "cell_type": "code",
   "execution_count": 34,
   "metadata": {},
   "outputs": [],
   "source": [
    "#status_mvrtotal.head()"
   ]
  },
  {
   "cell_type": "code",
   "execution_count": 35,
   "metadata": {},
   "outputs": [],
   "source": [
    "#first join for by status table"
   ]
  },
  {
   "cell_type": "code",
   "execution_count": 36,
   "metadata": {},
   "outputs": [
    {
     "name": "stdout",
     "output_type": "stream",
     "text": [
      "<class 'pandas.core.frame.DataFrame'>\n",
      "RangeIndex: 9 entries, 0 to 8\n",
      "Data columns (total 3 columns):\n",
      " #   Column           Non-Null Count  Dtype  \n",
      "---  ------           --------------  -----  \n",
      " 0   Year             9 non-null      float64\n",
      " 1   legalWeedStatus  9 non-null      object \n",
      " 2   Traffic_deaths   9 non-null      int64  \n",
      "dtypes: float64(1), int64(1), object(1)\n",
      "memory usage: 344.0+ bytes\n"
     ]
    }
   ],
   "source": [
    "status_mvrtotal.info()"
   ]
  },
  {
   "cell_type": "code",
   "execution_count": 37,
   "metadata": {},
   "outputs": [
    {
     "name": "stdout",
     "output_type": "stream",
     "text": [
      "<class 'pandas.core.frame.DataFrame'>\n",
      "RangeIndex: 3 entries, 0 to 2\n",
      "Data columns (total 2 columns):\n",
      " #   Column           Non-Null Count  Dtype \n",
      "---  ------           --------------  ----- \n",
      " 0   legalWeedStatus  3 non-null      object\n",
      " 1   Pop              3 non-null      int64 \n",
      "dtypes: int64(1), object(1)\n",
      "memory usage: 176.0+ bytes\n"
     ]
    }
   ],
   "source": [
    "status_pop.info()"
   ]
  },
  {
   "cell_type": "code",
   "execution_count": 39,
   "metadata": {},
   "outputs": [
    {
     "data": {
      "text/html": [
       "<div>\n",
       "<style scoped>\n",
       "    .dataframe tbody tr th:only-of-type {\n",
       "        vertical-align: middle;\n",
       "    }\n",
       "\n",
       "    .dataframe tbody tr th {\n",
       "        vertical-align: top;\n",
       "    }\n",
       "\n",
       "    .dataframe thead th {\n",
       "        text-align: right;\n",
       "    }\n",
       "</style>\n",
       "<table border=\"1\" class=\"dataframe\">\n",
       "  <thead>\n",
       "    <tr style=\"text-align: right;\">\n",
       "      <th></th>\n",
       "      <th>legalWeedStatus</th>\n",
       "      <th>Pop</th>\n",
       "      <th>Year</th>\n",
       "      <th>Traffic_deaths</th>\n",
       "    </tr>\n",
       "  </thead>\n",
       "  <tbody>\n",
       "    <tr>\n",
       "      <th>0</th>\n",
       "      <td>Fully Illegal</td>\n",
       "      <td>49127995</td>\n",
       "      <td>2015.0</td>\n",
       "      <td>7262</td>\n",
       "    </tr>\n",
       "    <tr>\n",
       "      <th>0</th>\n",
       "      <td>Fully Illegal</td>\n",
       "      <td>49127995</td>\n",
       "      <td>2016.0</td>\n",
       "      <td>8131</td>\n",
       "    </tr>\n",
       "    <tr>\n",
       "      <th>0</th>\n",
       "      <td>Fully Illegal</td>\n",
       "      <td>49127995</td>\n",
       "      <td>2017.0</td>\n",
       "      <td>7658</td>\n",
       "    </tr>\n",
       "    <tr>\n",
       "      <th>1</th>\n",
       "      <td>Fully Legal</td>\n",
       "      <td>81471023</td>\n",
       "      <td>2015.0</td>\n",
       "      <td>6632</td>\n",
       "    </tr>\n",
       "    <tr>\n",
       "      <th>1</th>\n",
       "      <td>Fully Legal</td>\n",
       "      <td>81471023</td>\n",
       "      <td>2016.0</td>\n",
       "      <td>7752</td>\n",
       "    </tr>\n",
       "  </tbody>\n",
       "</table>\n",
       "</div>"
      ],
      "text/plain": [
       "  legalWeedStatus       Pop    Year  Traffic_deaths\n",
       "0   Fully Illegal  49127995  2015.0            7262\n",
       "0   Fully Illegal  49127995  2016.0            8131\n",
       "0   Fully Illegal  49127995  2017.0            7658\n",
       "1     Fully Legal  81471023  2015.0            6632\n",
       "1     Fully Legal  81471023  2016.0            7752"
      ]
     },
     "execution_count": 39,
     "metadata": {},
     "output_type": "execute_result"
    }
   ],
   "source": [
    "###join all the status info into one table\n",
    "status_join1 = status_pop.join(status_mvrtotal.set_index(['legalWeedStatus']),on=['legalWeedStatus'],how='left')\n",
    "status_join1.head()\n"
   ]
  },
  {
   "cell_type": "code",
   "execution_count": 40,
   "metadata": {},
   "outputs": [
    {
     "data": {
      "text/html": [
       "<div>\n",
       "<style scoped>\n",
       "    .dataframe tbody tr th:only-of-type {\n",
       "        vertical-align: middle;\n",
       "    }\n",
       "\n",
       "    .dataframe tbody tr th {\n",
       "        vertical-align: top;\n",
       "    }\n",
       "\n",
       "    .dataframe thead th {\n",
       "        text-align: right;\n",
       "    }\n",
       "</style>\n",
       "<table border=\"1\" class=\"dataframe\">\n",
       "  <thead>\n",
       "    <tr style=\"text-align: right;\">\n",
       "      <th></th>\n",
       "      <th>legalWeedStatus</th>\n",
       "      <th>Pop</th>\n",
       "      <th>Year</th>\n",
       "      <th>Traffic_deaths</th>\n",
       "      <th>d_p</th>\n",
       "    </tr>\n",
       "  </thead>\n",
       "  <tbody>\n",
       "    <tr>\n",
       "      <th>0</th>\n",
       "      <td>Fully Illegal</td>\n",
       "      <td>49127995</td>\n",
       "      <td>2015.0</td>\n",
       "      <td>7262</td>\n",
       "      <td>0.000148</td>\n",
       "    </tr>\n",
       "    <tr>\n",
       "      <th>0</th>\n",
       "      <td>Fully Illegal</td>\n",
       "      <td>49127995</td>\n",
       "      <td>2016.0</td>\n",
       "      <td>8131</td>\n",
       "      <td>0.000166</td>\n",
       "    </tr>\n",
       "    <tr>\n",
       "      <th>0</th>\n",
       "      <td>Fully Illegal</td>\n",
       "      <td>49127995</td>\n",
       "      <td>2017.0</td>\n",
       "      <td>7658</td>\n",
       "      <td>0.000156</td>\n",
       "    </tr>\n",
       "    <tr>\n",
       "      <th>1</th>\n",
       "      <td>Fully Legal</td>\n",
       "      <td>81471023</td>\n",
       "      <td>2015.0</td>\n",
       "      <td>6632</td>\n",
       "      <td>0.000081</td>\n",
       "    </tr>\n",
       "    <tr>\n",
       "      <th>1</th>\n",
       "      <td>Fully Legal</td>\n",
       "      <td>81471023</td>\n",
       "      <td>2016.0</td>\n",
       "      <td>7752</td>\n",
       "      <td>0.000095</td>\n",
       "    </tr>\n",
       "  </tbody>\n",
       "</table>\n",
       "</div>"
      ],
      "text/plain": [
       "  legalWeedStatus       Pop    Year  Traffic_deaths       d_p\n",
       "0   Fully Illegal  49127995  2015.0            7262  0.000148\n",
       "0   Fully Illegal  49127995  2016.0            8131  0.000166\n",
       "0   Fully Illegal  49127995  2017.0            7658  0.000156\n",
       "1     Fully Legal  81471023  2015.0            6632  0.000081\n",
       "1     Fully Legal  81471023  2016.0            7752  0.000095"
      ]
     },
     "execution_count": 40,
     "metadata": {},
     "output_type": "execute_result"
    }
   ],
   "source": [
    "#status_join1['d_p'] =  status_join1['Traffic_deaths']/status_join1['Pop']\n",
    "#status_join1.head()"
   ]
  },
  {
   "cell_type": "code",
   "execution_count": 32,
   "metadata": {},
   "outputs": [],
   "source": [
    "###Overdose Info###"
   ]
  },
  {
   "cell_type": "code",
   "execution_count": 41,
   "metadata": {},
   "outputs": [
    {
     "name": "stdout",
     "output_type": "stream",
     "text": [
      "<class 'pandas.core.frame.DataFrame'>\n",
      "RangeIndex: 29568 entries, 0 to 29567\n",
      "Data columns (total 12 columns):\n",
      " #   Column                         Non-Null Count  Dtype  \n",
      "---  ------                         --------------  -----  \n",
      " 0   State                          29568 non-null  object \n",
      " 1   Year                           29568 non-null  float64\n",
      " 2   Month                          29568 non-null  object \n",
      " 3   Period                         29568 non-null  object \n",
      " 4   Indicator                      29568 non-null  object \n",
      " 5   Data Value                     24236 non-null  float64\n",
      " 6   Percent Complete               29568 non-null  object \n",
      " 7   Percent Pending Investigation  29568 non-null  float64\n",
      " 8   State Name                     29568 non-null  object \n",
      " 9   Footnote                       29568 non-null  object \n",
      " 10  Footnote Symbol                29568 non-null  object \n",
      " 11  Predicted Value                18465 non-null  object \n",
      "dtypes: float64(3), object(9)\n",
      "memory usage: 2.7+ MB\n"
     ]
    }
   ],
   "source": [
    "overdose_df.info()"
   ]
  },
  {
   "cell_type": "code",
   "execution_count": 43,
   "metadata": {},
   "outputs": [],
   "source": [
    "###Total deaths"
   ]
  },
  {
   "cell_type": "code",
   "execution_count": 46,
   "metadata": {},
   "outputs": [
    {
     "data": {
      "text/html": [
       "<div>\n",
       "<style scoped>\n",
       "    .dataframe tbody tr th:only-of-type {\n",
       "        vertical-align: middle;\n",
       "    }\n",
       "\n",
       "    .dataframe tbody tr th {\n",
       "        vertical-align: top;\n",
       "    }\n",
       "\n",
       "    .dataframe thead th {\n",
       "        text-align: right;\n",
       "    }\n",
       "</style>\n",
       "<table border=\"1\" class=\"dataframe\">\n",
       "  <thead>\n",
       "    <tr style=\"text-align: right;\">\n",
       "      <th></th>\n",
       "      <th>State</th>\n",
       "      <th>Year</th>\n",
       "      <th>State Name</th>\n",
       "      <th>legalWeedStatus</th>\n",
       "      <th>yearly_deaths</th>\n",
       "    </tr>\n",
       "  </thead>\n",
       "  <tbody>\n",
       "    <tr>\n",
       "      <th>0</th>\n",
       "      <td>AK</td>\n",
       "      <td>2015.0</td>\n",
       "      <td>Alaska</td>\n",
       "      <td>Fully Legal</td>\n",
       "      <td>50086.0</td>\n",
       "    </tr>\n",
       "    <tr>\n",
       "      <th>1</th>\n",
       "      <td>AK</td>\n",
       "      <td>2016.0</td>\n",
       "      <td>Alaska</td>\n",
       "      <td>Fully Legal</td>\n",
       "      <td>51141.0</td>\n",
       "    </tr>\n",
       "    <tr>\n",
       "      <th>2</th>\n",
       "      <td>AK</td>\n",
       "      <td>2017.0</td>\n",
       "      <td>Alaska</td>\n",
       "      <td>Fully Legal</td>\n",
       "      <td>51597.0</td>\n",
       "    </tr>\n",
       "    <tr>\n",
       "      <th>3</th>\n",
       "      <td>AL</td>\n",
       "      <td>2015.0</td>\n",
       "      <td>Alabama</td>\n",
       "      <td>Fully Illegal</td>\n",
       "      <td>607641.0</td>\n",
       "    </tr>\n",
       "    <tr>\n",
       "      <th>4</th>\n",
       "      <td>AL</td>\n",
       "      <td>2016.0</td>\n",
       "      <td>Alabama</td>\n",
       "      <td>Fully Illegal</td>\n",
       "      <td>608611.0</td>\n",
       "    </tr>\n",
       "  </tbody>\n",
       "</table>\n",
       "</div>"
      ],
      "text/plain": [
       "  State    Year State Name legalWeedStatus  yearly_deaths\n",
       "0    AK  2015.0     Alaska     Fully Legal        50086.0\n",
       "1    AK  2016.0     Alaska     Fully Legal        51141.0\n",
       "2    AK  2017.0     Alaska     Fully Legal        51597.0\n",
       "3    AL  2015.0    Alabama   Fully Illegal       607641.0\n",
       "4    AL  2016.0    Alabama   Fully Illegal       608611.0"
      ]
     },
     "execution_count": 46,
     "metadata": {},
     "output_type": "execute_result"
    }
   ],
   "source": [
    "state_yr_deaths.head()\n",
    "\n"
   ]
  },
  {
   "cell_type": "code",
   "execution_count": 47,
   "metadata": {},
   "outputs": [
    {
     "name": "stdout",
     "output_type": "stream",
     "text": [
      "<class 'pandas.core.frame.DataFrame'>\n",
      "RangeIndex: 51 entries, 0 to 50\n",
      "Data columns (total 4 columns):\n",
      " #   Column           Non-Null Count  Dtype  \n",
      "---  ------           --------------  -----  \n",
      " 0   State            51 non-null     object \n",
      " 1   State Name       51 non-null     object \n",
      " 2   legalWeedStatus  51 non-null     object \n",
      " 3   yearly_deaths    51 non-null     float64\n",
      "dtypes: float64(1), object(3)\n",
      "memory usage: 1.7+ KB\n"
     ]
    }
   ],
   "source": [
    "##State years combined\n",
    "state_deaths = state_yr_deaths.groupby(['State', 'State Name','legalWeedStatus'])['yearly_deaths'].sum().reset_index()\n",
    "#state_deaths = state_yr_deaths1.rename(columns={\"Data Value\":\"yearly_deaths\"})\n",
    "\n",
    "state_deaths.info()"
   ]
  },
  {
   "cell_type": "code",
   "execution_count": null,
   "metadata": {},
   "outputs": [],
   "source": []
  },
  {
   "cell_type": "code",
   "execution_count": 40,
   "metadata": {},
   "outputs": [],
   "source": [
    "####deaths by legal status"
   ]
  },
  {
   "cell_type": "code",
   "execution_count": 39,
   "metadata": {},
   "outputs": [
    {
     "data": {
      "text/html": [
       "<div>\n",
       "<style scoped>\n",
       "    .dataframe tbody tr th:only-of-type {\n",
       "        vertical-align: middle;\n",
       "    }\n",
       "\n",
       "    .dataframe tbody tr th {\n",
       "        vertical-align: top;\n",
       "    }\n",
       "\n",
       "    .dataframe thead th {\n",
       "        text-align: right;\n",
       "    }\n",
       "</style>\n",
       "<table border=\"1\" class=\"dataframe\">\n",
       "  <thead>\n",
       "    <tr style=\"text-align: right;\">\n",
       "      <th></th>\n",
       "      <th>Year</th>\n",
       "      <th>legalWeedStatus</th>\n",
       "      <th>yearly_deaths</th>\n",
       "    </tr>\n",
       "  </thead>\n",
       "  <tbody>\n",
       "    <tr>\n",
       "      <th>0</th>\n",
       "      <td>2015.0</td>\n",
       "      <td>Fully Illegal</td>\n",
       "      <td>5410542.0</td>\n",
       "    </tr>\n",
       "    <tr>\n",
       "      <th>1</th>\n",
       "      <td>2015.0</td>\n",
       "      <td>Fully Legal</td>\n",
       "      <td>7034178.0</td>\n",
       "    </tr>\n",
       "    <tr>\n",
       "      <th>2</th>\n",
       "      <td>2015.0</td>\n",
       "      <td>Mixed</td>\n",
       "      <td>19335816.0</td>\n",
       "    </tr>\n",
       "    <tr>\n",
       "      <th>3</th>\n",
       "      <td>2016.0</td>\n",
       "      <td>Fully Illegal</td>\n",
       "      <td>5441650.0</td>\n",
       "    </tr>\n",
       "    <tr>\n",
       "      <th>4</th>\n",
       "      <td>2016.0</td>\n",
       "      <td>Fully Legal</td>\n",
       "      <td>7132055.0</td>\n",
       "    </tr>\n",
       "  </tbody>\n",
       "</table>\n",
       "</div>"
      ],
      "text/plain": [
       "     Year legalWeedStatus  yearly_deaths\n",
       "0  2015.0   Fully Illegal      5410542.0\n",
       "1  2015.0     Fully Legal      7034178.0\n",
       "2  2015.0           Mixed     19335816.0\n",
       "3  2016.0   Fully Illegal      5441650.0\n",
       "4  2016.0     Fully Legal      7132055.0"
      ]
     },
     "execution_count": 39,
     "metadata": {},
     "output_type": "execute_result"
    }
   ],
   "source": [
    "status_deaths = state_yr_deaths.groupby(['Year','legalWeedStatus'])['yearly_deaths'].sum().reset_index()\n",
    "status_deaths.head()"
   ]
  },
  {
   "cell_type": "code",
   "execution_count": 40,
   "metadata": {},
   "outputs": [
    {
     "name": "stdout",
     "output_type": "stream",
     "text": [
      "<class 'pandas.core.frame.DataFrame'>\n",
      "RangeIndex: 9 entries, 0 to 8\n",
      "Data columns (total 3 columns):\n",
      " #   Column           Non-Null Count  Dtype  \n",
      "---  ------           --------------  -----  \n",
      " 0   Year             9 non-null      float64\n",
      " 1   legalWeedStatus  9 non-null      object \n",
      " 2   yearly_deaths    9 non-null      float64\n",
      "dtypes: float64(2), object(1)\n",
      "memory usage: 344.0+ bytes\n"
     ]
    }
   ],
   "source": [
    "status_deaths.info()"
   ]
  },
  {
   "cell_type": "code",
   "execution_count": null,
   "metadata": {},
   "outputs": [],
   "source": []
  },
  {
   "cell_type": "code",
   "execution_count": 58,
   "metadata": {},
   "outputs": [],
   "source": [
    "####overdose totals"
   ]
  },
  {
   "cell_type": "code",
   "execution_count": 59,
   "metadata": {},
   "outputs": [
    {
     "name": "stdout",
     "output_type": "stream",
     "text": [
      "<class 'pandas.core.frame.DataFrame'>\n",
      "Int64Index: 1908 entries, 0 to 29322\n",
      "Data columns (total 7 columns):\n",
      " #   Column           Non-Null Count  Dtype  \n",
      "---  ------           --------------  -----  \n",
      " 0   State            1908 non-null   object \n",
      " 1   Year             1908 non-null   float64\n",
      " 2   Month            1908 non-null   object \n",
      " 3   Indicator        1908 non-null   object \n",
      " 4   Data Value       1908 non-null   float64\n",
      " 5   State Name       1908 non-null   object \n",
      " 6   legalWeedStatus  1836 non-null   object \n",
      "dtypes: float64(2), object(5)\n",
      "memory usage: 119.2+ KB\n"
     ]
    }
   ],
   "source": [
    "totalod = od_df[od_df['Indicator']=='Number of Drug Overdose Deaths']\n",
    "totalod.info()"
   ]
  },
  {
   "cell_type": "code",
   "execution_count": 60,
   "metadata": {},
   "outputs": [
    {
     "data": {
      "text/html": [
       "<div>\n",
       "<style scoped>\n",
       "    .dataframe tbody tr th:only-of-type {\n",
       "        vertical-align: middle;\n",
       "    }\n",
       "\n",
       "    .dataframe tbody tr th {\n",
       "        vertical-align: top;\n",
       "    }\n",
       "\n",
       "    .dataframe thead th {\n",
       "        text-align: right;\n",
       "    }\n",
       "</style>\n",
       "<table border=\"1\" class=\"dataframe\">\n",
       "  <thead>\n",
       "    <tr style=\"text-align: right;\">\n",
       "      <th></th>\n",
       "      <th>Year</th>\n",
       "      <th>legalWeedStatus</th>\n",
       "      <th>State Name</th>\n",
       "      <th>yearly_OD_deaths</th>\n",
       "    </tr>\n",
       "  </thead>\n",
       "  <tbody>\n",
       "    <tr>\n",
       "      <th>0</th>\n",
       "      <td>2015.0</td>\n",
       "      <td>Fully Illegal</td>\n",
       "      <td>Alabama</td>\n",
       "      <td>8818.0</td>\n",
       "    </tr>\n",
       "    <tr>\n",
       "      <th>1</th>\n",
       "      <td>2015.0</td>\n",
       "      <td>Fully Illegal</td>\n",
       "      <td>Idaho</td>\n",
       "      <td>2570.0</td>\n",
       "    </tr>\n",
       "    <tr>\n",
       "      <th>2</th>\n",
       "      <td>2015.0</td>\n",
       "      <td>Fully Illegal</td>\n",
       "      <td>Kansas</td>\n",
       "      <td>3926.0</td>\n",
       "    </tr>\n",
       "    <tr>\n",
       "      <th>3</th>\n",
       "      <td>2015.0</td>\n",
       "      <td>Fully Illegal</td>\n",
       "      <td>Kentucky</td>\n",
       "      <td>14286.0</td>\n",
       "    </tr>\n",
       "    <tr>\n",
       "      <th>4</th>\n",
       "      <td>2015.0</td>\n",
       "      <td>Fully Illegal</td>\n",
       "      <td>Mississippi</td>\n",
       "      <td>3907.0</td>\n",
       "    </tr>\n",
       "  </tbody>\n",
       "</table>\n",
       "</div>"
      ],
      "text/plain": [
       "     Year legalWeedStatus   State Name  yearly_OD_deaths\n",
       "0  2015.0   Fully Illegal      Alabama            8818.0\n",
       "1  2015.0   Fully Illegal        Idaho            2570.0\n",
       "2  2015.0   Fully Illegal       Kansas            3926.0\n",
       "3  2015.0   Fully Illegal     Kentucky           14286.0\n",
       "4  2015.0   Fully Illegal  Mississippi            3907.0"
      ]
     },
     "execution_count": 60,
     "metadata": {},
     "output_type": "execute_result"
    }
   ],
   "source": [
    "state_yr_od1 = totalod.groupby(['Year','legalWeedStatus','State Name'])['Data Value'].sum().reset_index()\n",
    "state_yr_od = state_yr_od1.rename(columns={\"Data Value\":\"yearly_OD_deaths\"})\n",
    "state_yr_od.head()"
   ]
  },
  {
   "cell_type": "code",
   "execution_count": 61,
   "metadata": {},
   "outputs": [
    {
     "data": {
      "text/html": [
       "<div>\n",
       "<style scoped>\n",
       "    .dataframe tbody tr th:only-of-type {\n",
       "        vertical-align: middle;\n",
       "    }\n",
       "\n",
       "    .dataframe tbody tr th {\n",
       "        vertical-align: top;\n",
       "    }\n",
       "\n",
       "    .dataframe thead th {\n",
       "        text-align: right;\n",
       "    }\n",
       "</style>\n",
       "<table border=\"1\" class=\"dataframe\">\n",
       "  <thead>\n",
       "    <tr style=\"text-align: right;\">\n",
       "      <th></th>\n",
       "      <th>legalWeedStatus</th>\n",
       "      <th>State Name</th>\n",
       "      <th>yearly_OD_deaths</th>\n",
       "    </tr>\n",
       "  </thead>\n",
       "  <tbody>\n",
       "    <tr>\n",
       "      <th>0</th>\n",
       "      <td>Fully Illegal</td>\n",
       "      <td>Alabama</td>\n",
       "      <td>26693.0</td>\n",
       "    </tr>\n",
       "    <tr>\n",
       "      <th>1</th>\n",
       "      <td>Fully Illegal</td>\n",
       "      <td>Idaho</td>\n",
       "      <td>8000.0</td>\n",
       "    </tr>\n",
       "    <tr>\n",
       "      <th>2</th>\n",
       "      <td>Fully Illegal</td>\n",
       "      <td>Kansas</td>\n",
       "      <td>11471.0</td>\n",
       "    </tr>\n",
       "    <tr>\n",
       "      <th>3</th>\n",
       "      <td>Fully Illegal</td>\n",
       "      <td>Kentucky</td>\n",
       "      <td>49178.0</td>\n",
       "    </tr>\n",
       "    <tr>\n",
       "      <th>4</th>\n",
       "      <td>Fully Illegal</td>\n",
       "      <td>Mississippi</td>\n",
       "      <td>11751.0</td>\n",
       "    </tr>\n",
       "  </tbody>\n",
       "</table>\n",
       "</div>"
      ],
      "text/plain": [
       "  legalWeedStatus   State Name  yearly_OD_deaths\n",
       "0   Fully Illegal      Alabama           26693.0\n",
       "1   Fully Illegal        Idaho            8000.0\n",
       "2   Fully Illegal       Kansas           11471.0\n",
       "3   Fully Illegal     Kentucky           49178.0\n",
       "4   Fully Illegal  Mississippi           11751.0"
      ]
     },
     "execution_count": 61,
     "metadata": {},
     "output_type": "execute_result"
    }
   ],
   "source": [
    "####state od combined years\n",
    "\n",
    "state_od1 = totalod.groupby(['legalWeedStatus','State Name'])['Data Value'].sum().reset_index()\n",
    "state_od = state_od1.rename(columns={\"Data Value\":\"yearly_OD_deaths\"})\n",
    "state_od.head()"
   ]
  },
  {
   "cell_type": "code",
   "execution_count": 62,
   "metadata": {},
   "outputs": [],
   "source": [
    "##Join OD deaths to yearly deaths by state"
   ]
  },
  {
   "cell_type": "code",
   "execution_count": 63,
   "metadata": {},
   "outputs": [
    {
     "name": "stdout",
     "output_type": "stream",
     "text": [
      "<class 'pandas.core.frame.DataFrame'>\n",
      "RangeIndex: 153 entries, 0 to 152\n",
      "Data columns (total 6 columns):\n",
      " #   Column            Non-Null Count  Dtype  \n",
      "---  ------            --------------  -----  \n",
      " 0   State             153 non-null    object \n",
      " 1   Year              153 non-null    float64\n",
      " 2   State Name        153 non-null    object \n",
      " 3   legalWeedStatus   153 non-null    object \n",
      " 4   yearly_deaths     153 non-null    float64\n",
      " 5   yearly_OD_deaths  153 non-null    float64\n",
      "dtypes: float64(3), object(3)\n",
      "memory usage: 7.3+ KB\n"
     ]
    }
   ],
   "source": [
    "##Join OD deaths to yearly deaths by state\n",
    "state_od_td_yr = state_yr_deaths.join(state_yr_od.set_index(['Year','State Name','legalWeedStatus']), on = ['Year','State Name','legalWeedStatus'], how='left')\n",
    "state_od_td_yr.info()     "
   ]
  },
  {
   "cell_type": "code",
   "execution_count": 71,
   "metadata": {},
   "outputs": [
    {
     "data": {
      "text/html": [
       "<div>\n",
       "<style scoped>\n",
       "    .dataframe tbody tr th:only-of-type {\n",
       "        vertical-align: middle;\n",
       "    }\n",
       "\n",
       "    .dataframe tbody tr th {\n",
       "        vertical-align: top;\n",
       "    }\n",
       "\n",
       "    .dataframe thead th {\n",
       "        text-align: right;\n",
       "    }\n",
       "</style>\n",
       "<table border=\"1\" class=\"dataframe\">\n",
       "  <thead>\n",
       "    <tr style=\"text-align: right;\">\n",
       "      <th></th>\n",
       "      <th>State</th>\n",
       "      <th>legalWeedStatus</th>\n",
       "      <th>Year</th>\n",
       "      <th>MVR_Deaths</th>\n",
       "    </tr>\n",
       "  </thead>\n",
       "  <tbody>\n",
       "    <tr>\n",
       "      <th>0</th>\n",
       "      <td>Alabama</td>\n",
       "      <td>Fully Illegal</td>\n",
       "      <td>2015.0</td>\n",
       "      <td>849</td>\n",
       "    </tr>\n",
       "    <tr>\n",
       "      <th>1</th>\n",
       "      <td>Alabama</td>\n",
       "      <td>Fully Illegal</td>\n",
       "      <td>2016.0</td>\n",
       "      <td>1122</td>\n",
       "    </tr>\n",
       "    <tr>\n",
       "      <th>2</th>\n",
       "      <td>Alabama</td>\n",
       "      <td>Fully Illegal</td>\n",
       "      <td>2017.0</td>\n",
       "      <td>948</td>\n",
       "    </tr>\n",
       "    <tr>\n",
       "      <th>3</th>\n",
       "      <td>Alaska</td>\n",
       "      <td>Fully Legal</td>\n",
       "      <td>2015.0</td>\n",
       "      <td>65</td>\n",
       "    </tr>\n",
       "    <tr>\n",
       "      <th>4</th>\n",
       "      <td>Alaska</td>\n",
       "      <td>Fully Legal</td>\n",
       "      <td>2016.0</td>\n",
       "      <td>81</td>\n",
       "    </tr>\n",
       "  </tbody>\n",
       "</table>\n",
       "</div>"
      ],
      "text/plain": [
       "     State legalWeedStatus    Year  MVR_Deaths\n",
       "0  Alabama   Fully Illegal  2015.0         849\n",
       "1  Alabama   Fully Illegal  2016.0        1122\n",
       "2  Alabama   Fully Illegal  2017.0         948\n",
       "3   Alaska     Fully Legal  2015.0          65\n",
       "4   Alaska     Fully Legal  2016.0          81"
      ]
     },
     "execution_count": 71,
     "metadata": {},
     "output_type": "execute_result"
    }
   ],
   "source": [
    "total_MVR_state_year = total_MVR_by_state_yr.rename(columns={\"Traffic deaths - state of incident\":\"MVR_Deaths\"})\n",
    "\n",
    "total_MVR_state_year.head()"
   ]
  },
  {
   "cell_type": "code",
   "execution_count": 72,
   "metadata": {},
   "outputs": [
    {
     "name": "stdout",
     "output_type": "stream",
     "text": [
      "<class 'pandas.core.frame.DataFrame'>\n",
      "RangeIndex: 153 entries, 0 to 152\n",
      "Data columns (total 8 columns):\n",
      " #   Column                              Non-Null Count  Dtype  \n",
      "---  ------                              --------------  -----  \n",
      " 0   State                               153 non-null    object \n",
      " 1   Year                                153 non-null    float64\n",
      " 2   State Name                          153 non-null    object \n",
      " 3   legalWeedStatus                     153 non-null    object \n",
      " 4   yearly_deaths                       153 non-null    float64\n",
      " 5   yearly_OD_deaths                    153 non-null    float64\n",
      " 6   Traffic deaths - state of incident  0 non-null      float64\n",
      " 7   MVR_Deaths                          0 non-null      float64\n",
      "dtypes: float64(5), object(3)\n",
      "memory usage: 9.7+ KB\n"
     ]
    }
   ],
   "source": [
    "state_od_td_yr = state_od_td_yr.join(total_MVR_state_year.set_index(['Year','State','legalWeedStatus']), on = ['Year','State','legalWeedStatus'], how='left')\n",
    "state_od_td_yr.info()     "
   ]
  },
  {
   "cell_type": "code",
   "execution_count": null,
   "metadata": {},
   "outputs": [],
   "source": [
    "#add yearly MVR deaths\n",
    "#then /0d /mvr/deaths\n",
    "#push by state\n",
    "#then o without year"
   ]
  },
  {
   "cell_type": "code",
   "execution_count": null,
   "metadata": {},
   "outputs": [],
   "source": []
  },
  {
   "cell_type": "code",
   "execution_count": null,
   "metadata": {},
   "outputs": [],
   "source": [
    "###State totals with and w/out state"
   ]
  },
  {
   "cell_type": "code",
   "execution_count": 55,
   "metadata": {},
   "outputs": [
    {
     "name": "stdout",
     "output_type": "stream",
     "text": [
      "<class 'pandas.core.frame.DataFrame'>\n",
      "RangeIndex: 153 entries, 0 to 152\n",
      "Data columns (total 7 columns):\n",
      " #   Column                              Non-Null Count  Dtype  \n",
      "---  ------                              --------------  -----  \n",
      " 0   State                               153 non-null    object \n",
      " 1   Year                                153 non-null    float64\n",
      " 2   State Name                          153 non-null    object \n",
      " 3   legalWeedStatus                     153 non-null    object \n",
      " 4   yearly_deaths                       153 non-null    float64\n",
      " 5   yearly_OD_deaths                    153 non-null    float64\n",
      " 6   Traffic deaths - state of incident  0 non-null      float64\n",
      "dtypes: float64(4), object(3)\n",
      "memory usage: 8.5+ KB\n"
     ]
    }
   ],
   "source": [
    "####add MVRdeaths\n",
    "state_year_totals = state_od_td_yr.join(total_MVR_by_state_yr.set_index(['Year','State','legalWeedStatus']), on = ['Year','State','legalWeedStatus'], how='left')\n",
    "state_year_totals.info()"
   ]
  },
  {
   "cell_type": "code",
   "execution_count": null,
   "metadata": {},
   "outputs": [],
   "source": []
  },
  {
   "cell_type": "code",
   "execution_count": null,
   "metadata": {},
   "outputs": [],
   "source": []
  },
  {
   "cell_type": "code",
   "execution_count": 48,
   "metadata": {},
   "outputs": [],
   "source": [
    "###od deaths / yearly deaths\n",
    "state_od_td_yr['%OD Deaths'] = state_od_td_yr['yearly_OD_deaths']/state_od_td_yr['yearly_deaths']"
   ]
  },
  {
   "cell_type": "code",
   "execution_count": 49,
   "metadata": {},
   "outputs": [
    {
     "name": "stdout",
     "output_type": "stream",
     "text": [
      "<class 'pandas.core.frame.DataFrame'>\n",
      "RangeIndex: 153 entries, 0 to 152\n",
      "Data columns (total 7 columns):\n",
      " #   Column            Non-Null Count  Dtype  \n",
      "---  ------            --------------  -----  \n",
      " 0   State             153 non-null    object \n",
      " 1   Year              153 non-null    float64\n",
      " 2   State Name        153 non-null    object \n",
      " 3   legalWeedStatus   153 non-null    object \n",
      " 4   yearly_deaths     153 non-null    float64\n",
      " 5   yearly_OD_deaths  153 non-null    float64\n",
      " 6   %OD Deaths        153 non-null    float64\n",
      "dtypes: float64(4), object(3)\n",
      "memory usage: 8.5+ KB\n"
     ]
    }
   ],
   "source": [
    "state_od_td_yr.info()  "
   ]
  },
  {
   "cell_type": "code",
   "execution_count": null,
   "metadata": {},
   "outputs": [],
   "source": []
  },
  {
   "cell_type": "code",
   "execution_count": 50,
   "metadata": {},
   "outputs": [
    {
     "name": "stdout",
     "output_type": "stream",
     "text": [
      "<class 'pandas.core.frame.DataFrame'>\n",
      "Int64Index: 153 entries, 1 to 155\n",
      "Data columns (total 4 columns):\n",
      " #   Column                          Non-Null Count  Dtype  \n",
      "---  ------                          --------------  -----  \n",
      " 0   Year                            153 non-null    float64\n",
      " 1   State                           153 non-null    object \n",
      " 2   Deaths  per 100,000 population  153 non-null    float64\n",
      " 3   legalWeedStatus                 153 non-null    object \n",
      "dtypes: float64(2), object(2)\n",
      "memory usage: 6.0+ KB\n"
     ]
    }
   ],
   "source": [
    "mvr_state.info()"
   ]
  },
  {
   "cell_type": "code",
   "execution_count": 52,
   "metadata": {},
   "outputs": [
    {
     "name": "stdout",
     "output_type": "stream",
     "text": [
      "<class 'pandas.core.frame.DataFrame'>\n",
      "RangeIndex: 153 entries, 0 to 152\n",
      "Data columns (total 8 columns):\n",
      " #   Column                          Non-Null Count  Dtype  \n",
      "---  ------                          --------------  -----  \n",
      " 0   State                           153 non-null    object \n",
      " 1   Year                            153 non-null    float64\n",
      " 2   State Name                      153 non-null    object \n",
      " 3   legalWeedStatus                 153 non-null    object \n",
      " 4   yearly_deaths                   153 non-null    float64\n",
      " 5   yearly_OD_deaths                153 non-null    float64\n",
      " 6   %OD Deaths                      153 non-null    float64\n",
      " 7   Deaths  per 100,000 population  153 non-null    float64\n",
      "dtypes: float64(5), object(3)\n",
      "memory usage: 9.7+ KB\n"
     ]
    }
   ],
   "source": [
    "##Join MVR deaths to yearly deaths by state\n",
    "state_total_yr = state_od_td_yr.join(mvr_state.set_index(['Year','State','legalWeedStatus']), on = ['Year','State Name','legalWeedStatus'], how='left')\n",
    "state_total_yr.info()     "
   ]
  },
  {
   "cell_type": "code",
   "execution_count": null,
   "metadata": {},
   "outputs": [],
   "source": []
  },
  {
   "cell_type": "code",
   "execution_count": null,
   "metadata": {},
   "outputs": [],
   "source": []
  },
  {
   "cell_type": "code",
   "execution_count": null,
   "metadata": {},
   "outputs": [],
   "source": []
  },
  {
   "cell_type": "code",
   "execution_count": null,
   "metadata": {},
   "outputs": [],
   "source": []
  },
  {
   "cell_type": "code",
   "execution_count": null,
   "metadata": {},
   "outputs": [],
   "source": []
  },
  {
   "cell_type": "code",
   "execution_count": null,
   "metadata": {},
   "outputs": [],
   "source": []
  },
  {
   "cell_type": "code",
   "execution_count": 53,
   "metadata": {},
   "outputs": [],
   "source": [
    "###export to csv\n",
    "state_total_yr.to_csv(r'C:\\Users\\jcaravella\\Documents\\Project2\\Main_data\\state_total_yr.csv', index = False,header=True)"
   ]
  },
  {
   "cell_type": "code",
   "execution_count": null,
   "metadata": {},
   "outputs": [],
   "source": []
  },
  {
   "cell_type": "code",
   "execution_count": null,
   "metadata": {},
   "outputs": [],
   "source": []
  },
  {
   "cell_type": "code",
   "execution_count": null,
   "metadata": {},
   "outputs": [],
   "source": []
  },
  {
   "cell_type": "code",
   "execution_count": null,
   "metadata": {},
   "outputs": [],
   "source": []
  },
  {
   "cell_type": "code",
   "execution_count": null,
   "metadata": {},
   "outputs": [],
   "source": []
  },
  {
   "cell_type": "code",
   "execution_count": null,
   "metadata": {},
   "outputs": [],
   "source": []
  },
  {
   "cell_type": "code",
   "execution_count": null,
   "metadata": {},
   "outputs": [],
   "source": []
  },
  {
   "cell_type": "code",
   "execution_count": null,
   "metadata": {},
   "outputs": [],
   "source": []
  },
  {
   "cell_type": "code",
   "execution_count": 55,
   "metadata": {},
   "outputs": [
    {
     "data": {
      "text/html": [
       "<div>\n",
       "<style scoped>\n",
       "    .dataframe tbody tr th:only-of-type {\n",
       "        vertical-align: middle;\n",
       "    }\n",
       "\n",
       "    .dataframe tbody tr th {\n",
       "        vertical-align: top;\n",
       "    }\n",
       "\n",
       "    .dataframe thead th {\n",
       "        text-align: right;\n",
       "    }\n",
       "</style>\n",
       "<table border=\"1\" class=\"dataframe\">\n",
       "  <thead>\n",
       "    <tr style=\"text-align: right;\">\n",
       "      <th></th>\n",
       "      <th>State</th>\n",
       "      <th>Year</th>\n",
       "      <th>State Name</th>\n",
       "      <th>legalWeedStatus</th>\n",
       "      <th>yearly_deaths</th>\n",
       "      <th>yearly_OD_deaths</th>\n",
       "      <th>%OD Deaths</th>\n",
       "      <th>Deaths  per 100,000 population</th>\n",
       "    </tr>\n",
       "  </thead>\n",
       "  <tbody>\n",
       "    <tr>\n",
       "      <th>0</th>\n",
       "      <td>AK</td>\n",
       "      <td>2015.0</td>\n",
       "      <td>Alaska</td>\n",
       "      <td>Fully Legal</td>\n",
       "      <td>50086.0</td>\n",
       "      <td>1472.0</td>\n",
       "      <td>0.029389</td>\n",
       "      <td>10.0</td>\n",
       "    </tr>\n",
       "    <tr>\n",
       "      <th>1</th>\n",
       "      <td>AK</td>\n",
       "      <td>2016.0</td>\n",
       "      <td>Alaska</td>\n",
       "      <td>Fully Legal</td>\n",
       "      <td>51141.0</td>\n",
       "      <td>1594.0</td>\n",
       "      <td>0.031169</td>\n",
       "      <td>13.1</td>\n",
       "    </tr>\n",
       "    <tr>\n",
       "      <th>2</th>\n",
       "      <td>AK</td>\n",
       "      <td>2017.0</td>\n",
       "      <td>Alaska</td>\n",
       "      <td>Fully Legal</td>\n",
       "      <td>51597.0</td>\n",
       "      <td>1571.0</td>\n",
       "      <td>0.030448</td>\n",
       "      <td>13.7</td>\n",
       "    </tr>\n",
       "    <tr>\n",
       "      <th>3</th>\n",
       "      <td>AL</td>\n",
       "      <td>2015.0</td>\n",
       "      <td>Alabama</td>\n",
       "      <td>Fully Illegal</td>\n",
       "      <td>607641.0</td>\n",
       "      <td>8818.0</td>\n",
       "      <td>0.014512</td>\n",
       "      <td>19.8</td>\n",
       "    </tr>\n",
       "    <tr>\n",
       "      <th>4</th>\n",
       "      <td>AL</td>\n",
       "      <td>2016.0</td>\n",
       "      <td>Alabama</td>\n",
       "      <td>Fully Illegal</td>\n",
       "      <td>608611.0</td>\n",
       "      <td>8324.0</td>\n",
       "      <td>0.013677</td>\n",
       "      <td>23.8</td>\n",
       "    </tr>\n",
       "  </tbody>\n",
       "</table>\n",
       "</div>"
      ],
      "text/plain": [
       "  State    Year State Name legalWeedStatus  yearly_deaths  yearly_OD_deaths  \\\n",
       "0    AK  2015.0     Alaska     Fully Legal        50086.0            1472.0   \n",
       "1    AK  2016.0     Alaska     Fully Legal        51141.0            1594.0   \n",
       "2    AK  2017.0     Alaska     Fully Legal        51597.0            1571.0   \n",
       "3    AL  2015.0    Alabama   Fully Illegal       607641.0            8818.0   \n",
       "4    AL  2016.0    Alabama   Fully Illegal       608611.0            8324.0   \n",
       "\n",
       "   %OD Deaths  Deaths  per 100,000 population  \n",
       "0    0.029389                            10.0  \n",
       "1    0.031169                            13.1  \n",
       "2    0.030448                            13.7  \n",
       "3    0.014512                            19.8  \n",
       "4    0.013677                            23.8  "
      ]
     },
     "execution_count": 55,
     "metadata": {},
     "output_type": "execute_result"
    }
   ],
   "source": [
    "state_total_yr.head()"
   ]
  },
  {
   "cell_type": "code",
   "execution_count": null,
   "metadata": {},
   "outputs": [],
   "source": []
  },
  {
   "cell_type": "code",
   "execution_count": null,
   "metadata": {},
   "outputs": [],
   "source": [
    "#####od's by legal status####"
   ]
  },
  {
   "cell_type": "code",
   "execution_count": 54,
   "metadata": {},
   "outputs": [
    {
     "name": "stdout",
     "output_type": "stream",
     "text": [
      "<class 'pandas.core.frame.DataFrame'>\n",
      "RangeIndex: 9 entries, 0 to 8\n",
      "Data columns (total 3 columns):\n",
      " #   Column            Non-Null Count  Dtype  \n",
      "---  ------            --------------  -----  \n",
      " 0   Year              9 non-null      int64  \n",
      " 1   legalWeedStatus   9 non-null      object \n",
      " 2   yearly_OD_deaths  9 non-null      float64\n",
      "dtypes: float64(1), int64(1), object(1)\n",
      "memory usage: 344.0+ bytes\n"
     ]
    }
   ],
   "source": [
    "#drop state\n",
    "#legal_deaths = state_yr_deaths.drop(columns=[\"State\",\"State Name\"])\n",
    "####sum by legal type\n",
    "OD_by_legal_type = state_yr_od.groupby(['Year','legalWeedStatus'])['yearly_OD_deaths'].sum().reset_index()\n",
    "OD_by_legal_type.info()"
   ]
  },
  {
   "cell_type": "code",
   "execution_count": null,
   "metadata": {},
   "outputs": [],
   "source": []
  },
  {
   "cell_type": "code",
   "execution_count": 57,
   "metadata": {},
   "outputs": [
    {
     "name": "stdout",
     "output_type": "stream",
     "text": [
      "<class 'pandas.core.frame.DataFrame'>\n",
      "RangeIndex: 9 entries, 0 to 8\n",
      "Data columns (total 4 columns):\n",
      " #   Column            Non-Null Count  Dtype  \n",
      "---  ------            --------------  -----  \n",
      " 0   Year              9 non-null      int64  \n",
      " 1   legalWeedStatus   9 non-null      object \n",
      " 2   yearly_OD_deaths  9 non-null      float64\n",
      " 3   yearly_deaths     9 non-null      float64\n",
      "dtypes: float64(2), int64(1), object(1)\n",
      "memory usage: 416.0+ bytes\n"
     ]
    }
   ],
   "source": [
    "#joins the two together into one\n",
    "Od_deaths_status_combined = OD_by_legal_type.join(status_deaths.set_index(['Year','legalWeedStatus']), on = ['Year','legalWeedStatus'], how='left')\n",
    "Od_deaths_status_combined.info()                                                 "
   ]
  },
  {
   "cell_type": "code",
   "execution_count": 58,
   "metadata": {},
   "outputs": [],
   "source": [
    "Od_deaths_status_combined['Year'] = Od_deaths_status_combined['Year'].astype(str)"
   ]
  },
  {
   "cell_type": "code",
   "execution_count": 59,
   "metadata": {},
   "outputs": [
    {
     "name": "stdout",
     "output_type": "stream",
     "text": [
      "<class 'pandas.core.frame.DataFrame'>\n",
      "RangeIndex: 9 entries, 0 to 8\n",
      "Data columns (total 4 columns):\n",
      " #   Column            Non-Null Count  Dtype  \n",
      "---  ------            --------------  -----  \n",
      " 0   Year              9 non-null      object \n",
      " 1   legalWeedStatus   9 non-null      object \n",
      " 2   yearly_OD_deaths  9 non-null      float64\n",
      " 3   yearly_deaths     9 non-null      float64\n",
      "dtypes: float64(2), object(2)\n",
      "memory usage: 416.0+ bytes\n"
     ]
    }
   ],
   "source": [
    "Od_deaths_status_combined.info()   "
   ]
  },
  {
   "cell_type": "code",
   "execution_count": 66,
   "metadata": {},
   "outputs": [
    {
     "data": {
      "text/plain": [
       "0    0.016533\n",
       "1    0.020075\n",
       "2    0.018626\n",
       "3    0.018316\n",
       "4    0.021609\n",
       "5    0.022112\n",
       "6    0.020442\n",
       "7    0.022897\n",
       "8    0.026359\n",
       "dtype: float64"
      ]
     },
     "execution_count": 66,
     "metadata": {},
     "output_type": "execute_result"
    }
   ],
   "source": [
    "od_per_death = Od_deaths_status_combined['yearly_OD_deaths']/Od_deaths_status_combined['yearly_deaths']\n",
    "od_per_death"
   ]
  },
  {
   "cell_type": "code",
   "execution_count": null,
   "metadata": {},
   "outputs": [],
   "source": [
    "###by status table"
   ]
  },
  {
   "cell_type": "code",
   "execution_count": 45,
   "metadata": {},
   "outputs": [
    {
     "name": "stdout",
     "output_type": "stream",
     "text": [
      "<class 'pandas.core.frame.DataFrame'>\n",
      "RangeIndex: 9 entries, 0 to 8\n",
      "Data columns (total 4 columns):\n",
      " #   Column           Non-Null Count  Dtype  \n",
      "---  ------           --------------  -----  \n",
      " 0   Year             9 non-null      object \n",
      " 1   legalWeedStatus  9 non-null      object \n",
      " 2   Pop              9 non-null      float64\n",
      " 3   Traffic_deaths   9 non-null      float64\n",
      "dtypes: float64(2), object(2)\n",
      "memory usage: 416.0+ bytes\n"
     ]
    }
   ],
   "source": [
    "status_join1.info()"
   ]
  },
  {
   "cell_type": "code",
   "execution_count": 60,
   "metadata": {},
   "outputs": [
    {
     "name": "stdout",
     "output_type": "stream",
     "text": [
      "<class 'pandas.core.frame.DataFrame'>\n",
      "RangeIndex: 9 entries, 0 to 8\n",
      "Data columns (total 6 columns):\n",
      " #   Column            Non-Null Count  Dtype  \n",
      "---  ------            --------------  -----  \n",
      " 0   Year              9 non-null      object \n",
      " 1   legalWeedStatus   9 non-null      object \n",
      " 2   Pop               9 non-null      float64\n",
      " 3   Traffic_deaths    9 non-null      float64\n",
      " 4   yearly_OD_deaths  9 non-null      float64\n",
      " 5   yearly_deaths     9 non-null      float64\n",
      "dtypes: float64(4), object(2)\n",
      "memory usage: 560.0+ bytes\n"
     ]
    }
   ],
   "source": [
    "total_joined_status = status_join1.join(Od_deaths_status_combined.set_index(['Year','legalWeedStatus']), on = ['Year','legalWeedStatus'], how='left')\n",
    "total_joined_status.info()"
   ]
  },
  {
   "cell_type": "code",
   "execution_count": 62,
   "metadata": {},
   "outputs": [
    {
     "ename": "AttributeError",
     "evalue": "'list' object has no attribute 'head'",
     "output_type": "error",
     "traceback": [
      "\u001b[1;31m---------------------------------------------------------------------------\u001b[0m",
      "\u001b[1;31mAttributeError\u001b[0m                            Traceback (most recent call last)",
      "\u001b[1;32m<ipython-input-62-d92e803a8e53>\u001b[0m in \u001b[0;36m<module>\u001b[1;34m\u001b[0m\n\u001b[0;32m      1\u001b[0m \u001b[0mOD_type_status\u001b[0m \u001b[1;33m=\u001b[0m \u001b[1;33m[\u001b[0m\u001b[1;33m[\u001b[0m\u001b[1;34m'Year'\u001b[0m\u001b[1;33m,\u001b[0m \u001b[0mtotal_joined_status\u001b[0m\u001b[1;33m.\u001b[0m\u001b[0mYear\u001b[0m\u001b[1;33m]\u001b[0m\u001b[1;33m]\u001b[0m\u001b[1;33m\u001b[0m\u001b[1;33m\u001b[0m\u001b[0m\n\u001b[1;32m----> 2\u001b[1;33m \u001b[0mOD_type_status\u001b[0m\u001b[1;33m.\u001b[0m\u001b[0mhead\u001b[0m\u001b[1;33m(\u001b[0m\u001b[1;33m)\u001b[0m\u001b[1;33m\u001b[0m\u001b[1;33m\u001b[0m\u001b[0m\n\u001b[0m",
      "\u001b[1;31mAttributeError\u001b[0m: 'list' object has no attribute 'head'"
     ]
    }
   ],
   "source": [
    "OD_type_status = [['Year', total_joined_status.Year]]\n",
    "OD_type_status.head()"
   ]
  },
  {
   "cell_type": "code",
   "execution_count": null,
   "metadata": {},
   "outputs": [],
   "source": []
  },
  {
   "cell_type": "code",
   "execution_count": null,
   "metadata": {},
   "outputs": [],
   "source": []
  },
  {
   "cell_type": "code",
   "execution_count": null,
   "metadata": {},
   "outputs": [],
   "source": []
  },
  {
   "cell_type": "code",
   "execution_count": null,
   "metadata": {},
   "outputs": [],
   "source": [
    "##into postgres"
   ]
  },
  {
   "cell_type": "code",
   "execution_count": 17,
   "metadata": {},
   "outputs": [
    {
     "ename": "ModuleNotFoundError",
     "evalue": "No module named 'psycopg2'",
     "output_type": "error",
     "traceback": [
      "\u001b[1;31m---------------------------------------------------------------------------\u001b[0m",
      "\u001b[1;31mModuleNotFoundError\u001b[0m                       Traceback (most recent call last)",
      "\u001b[1;32m<ipython-input-17-8808b66636f2>\u001b[0m in \u001b[0;36m<module>\u001b[1;34m\u001b[0m\n\u001b[0;32m      4\u001b[0m \u001b[0mdbuser\u001b[0m \u001b[1;33m=\u001b[0m \u001b[1;34m\"postgres\"\u001b[0m\u001b[1;33m\u001b[0m\u001b[1;33m\u001b[0m\u001b[0m\n\u001b[0;32m      5\u001b[0m \u001b[0mrds_connection_string\u001b[0m \u001b[1;33m=\u001b[0m \u001b[1;34mf\"{dbuser}:{password}@localhost:5432/project2\"\u001b[0m\u001b[1;33m\u001b[0m\u001b[1;33m\u001b[0m\u001b[0m\n\u001b[1;32m----> 6\u001b[1;33m \u001b[0mengine\u001b[0m \u001b[1;33m=\u001b[0m \u001b[0mcreate_engine\u001b[0m\u001b[1;33m(\u001b[0m\u001b[1;34mf'postgresql://{rds_connection_string}'\u001b[0m\u001b[1;33m)\u001b[0m\u001b[1;33m\u001b[0m\u001b[1;33m\u001b[0m\u001b[0m\n\u001b[0m",
      "\u001b[1;32m~\\Anaconda3\\lib\\site-packages\\sqlalchemy\\engine\\__init__.py\u001b[0m in \u001b[0;36mcreate_engine\u001b[1;34m(*args, **kwargs)\u001b[0m\n\u001b[0;32m    477\u001b[0m     \u001b[0mstrategy\u001b[0m \u001b[1;33m=\u001b[0m \u001b[0mkwargs\u001b[0m\u001b[1;33m.\u001b[0m\u001b[0mpop\u001b[0m\u001b[1;33m(\u001b[0m\u001b[1;34m\"strategy\"\u001b[0m\u001b[1;33m,\u001b[0m \u001b[0mdefault_strategy\u001b[0m\u001b[1;33m)\u001b[0m\u001b[1;33m\u001b[0m\u001b[1;33m\u001b[0m\u001b[0m\n\u001b[0;32m    478\u001b[0m     \u001b[0mstrategy\u001b[0m \u001b[1;33m=\u001b[0m \u001b[0mstrategies\u001b[0m\u001b[1;33m.\u001b[0m\u001b[0mstrategies\u001b[0m\u001b[1;33m[\u001b[0m\u001b[0mstrategy\u001b[0m\u001b[1;33m]\u001b[0m\u001b[1;33m\u001b[0m\u001b[1;33m\u001b[0m\u001b[0m\n\u001b[1;32m--> 479\u001b[1;33m     \u001b[1;32mreturn\u001b[0m \u001b[0mstrategy\u001b[0m\u001b[1;33m.\u001b[0m\u001b[0mcreate\u001b[0m\u001b[1;33m(\u001b[0m\u001b[1;33m*\u001b[0m\u001b[0margs\u001b[0m\u001b[1;33m,\u001b[0m \u001b[1;33m**\u001b[0m\u001b[0mkwargs\u001b[0m\u001b[1;33m)\u001b[0m\u001b[1;33m\u001b[0m\u001b[1;33m\u001b[0m\u001b[0m\n\u001b[0m\u001b[0;32m    480\u001b[0m \u001b[1;33m\u001b[0m\u001b[0m\n\u001b[0;32m    481\u001b[0m \u001b[1;33m\u001b[0m\u001b[0m\n",
      "\u001b[1;32m~\\Anaconda3\\lib\\site-packages\\sqlalchemy\\engine\\strategies.py\u001b[0m in \u001b[0;36mcreate\u001b[1;34m(self, name_or_url, **kwargs)\u001b[0m\n\u001b[0;32m     85\u001b[0m                 \u001b[1;32mif\u001b[0m \u001b[0mk\u001b[0m \u001b[1;32min\u001b[0m \u001b[0mkwargs\u001b[0m\u001b[1;33m:\u001b[0m\u001b[1;33m\u001b[0m\u001b[1;33m\u001b[0m\u001b[0m\n\u001b[0;32m     86\u001b[0m                     \u001b[0mdbapi_args\u001b[0m\u001b[1;33m[\u001b[0m\u001b[0mk\u001b[0m\u001b[1;33m]\u001b[0m \u001b[1;33m=\u001b[0m \u001b[0mpop_kwarg\u001b[0m\u001b[1;33m(\u001b[0m\u001b[0mk\u001b[0m\u001b[1;33m)\u001b[0m\u001b[1;33m\u001b[0m\u001b[1;33m\u001b[0m\u001b[0m\n\u001b[1;32m---> 87\u001b[1;33m             \u001b[0mdbapi\u001b[0m \u001b[1;33m=\u001b[0m \u001b[0mdialect_cls\u001b[0m\u001b[1;33m.\u001b[0m\u001b[0mdbapi\u001b[0m\u001b[1;33m(\u001b[0m\u001b[1;33m**\u001b[0m\u001b[0mdbapi_args\u001b[0m\u001b[1;33m)\u001b[0m\u001b[1;33m\u001b[0m\u001b[1;33m\u001b[0m\u001b[0m\n\u001b[0m\u001b[0;32m     88\u001b[0m \u001b[1;33m\u001b[0m\u001b[0m\n\u001b[0;32m     89\u001b[0m         \u001b[0mdialect_args\u001b[0m\u001b[1;33m[\u001b[0m\u001b[1;34m\"dbapi\"\u001b[0m\u001b[1;33m]\u001b[0m \u001b[1;33m=\u001b[0m \u001b[0mdbapi\u001b[0m\u001b[1;33m\u001b[0m\u001b[1;33m\u001b[0m\u001b[0m\n",
      "\u001b[1;32m~\\Anaconda3\\lib\\site-packages\\sqlalchemy\\dialects\\postgresql\\psycopg2.py\u001b[0m in \u001b[0;36mdbapi\u001b[1;34m(cls)\u001b[0m\n\u001b[0;32m    735\u001b[0m     \u001b[1;33m@\u001b[0m\u001b[0mclassmethod\u001b[0m\u001b[1;33m\u001b[0m\u001b[1;33m\u001b[0m\u001b[0m\n\u001b[0;32m    736\u001b[0m     \u001b[1;32mdef\u001b[0m \u001b[0mdbapi\u001b[0m\u001b[1;33m(\u001b[0m\u001b[0mcls\u001b[0m\u001b[1;33m)\u001b[0m\u001b[1;33m:\u001b[0m\u001b[1;33m\u001b[0m\u001b[1;33m\u001b[0m\u001b[0m\n\u001b[1;32m--> 737\u001b[1;33m         \u001b[1;32mimport\u001b[0m \u001b[0mpsycopg2\u001b[0m\u001b[1;33m\u001b[0m\u001b[1;33m\u001b[0m\u001b[0m\n\u001b[0m\u001b[0;32m    738\u001b[0m \u001b[1;33m\u001b[0m\u001b[0m\n\u001b[0;32m    739\u001b[0m         \u001b[1;32mreturn\u001b[0m \u001b[0mpsycopg2\u001b[0m\u001b[1;33m\u001b[0m\u001b[1;33m\u001b[0m\u001b[0m\n",
      "\u001b[1;31mModuleNotFoundError\u001b[0m: No module named 'psycopg2'"
     ]
    }
   ],
   "source": [
    "#rds_connection_string = f\"{dbuser}<insert user name>:<insert password>@localhost:5432/customer_db\"\n",
    "#engine = create_engine(f'postgresql://{rds_connection_string}')\n",
    "password = \"Hooch#12\"\n",
    "dbuser = \"postgres\"\n",
    "rds_connection_string = f\"{dbuser}:{password}@localhost:5432/project2\"\n",
    "engine = create_engine(f'postgresql://{rds_connection_string}')"
   ]
  },
  {
   "cell_type": "code",
   "execution_count": null,
   "metadata": {},
   "outputs": [],
   "source": [
    "###postgresSQL\n",
    "##push to server"
   ]
  },
  {
   "cell_type": "code",
   "execution_count": null,
   "metadata": {},
   "outputs": [],
   "source": [
    "engine.table_names()"
   ]
  },
  {
   "cell_type": "code",
   "execution_count": null,
   "metadata": {},
   "outputs": [],
   "source": [
    "#pushing Cluster,Bar,Line DATAFRAME to SQL\n",
    "years_trend.to_sql(name='guns_year', con=engine, if_exists='replace', index=False)\n",
    "deaths_2018_unindexed.to_sql(name='killings_injuries_2018', con=engine, if_exists='replace', index=False)"
   ]
  },
  {
   "cell_type": "code",
   "execution_count": null,
   "metadata": {},
   "outputs": [],
   "source": [
    "\n",
    "#Creating CSV's of Cluster,Bar,Line DATAFRAME\n",
    "years_trend.to_csv('year_trend_gun.csv')\n",
    "deaths_2018.to_csv('deaths_2018.csv')\n",
    "gun14_monthly.to_csv(\"gun2014onwrd.csv\")"
   ]
  },
  {
   "cell_type": "code",
   "execution_count": 26,
   "metadata": {},
   "outputs": [
    {
     "ename": "NameError",
     "evalue": "name 'status_pop' is not defined",
     "output_type": "error",
     "traceback": [
      "\u001b[1;31m---------------------------------------------------------------------------\u001b[0m",
      "\u001b[1;31mNameError\u001b[0m                                 Traceback (most recent call last)",
      "\u001b[1;32m<ipython-input-26-d4c63d416518>\u001b[0m in \u001b[0;36m<module>\u001b[1;34m\u001b[0m\n\u001b[1;32m----> 1\u001b[1;33m \u001b[0mstatus_pop\u001b[0m\u001b[1;33m.\u001b[0m\u001b[0minfo\u001b[0m\u001b[1;33m(\u001b[0m\u001b[1;33m)\u001b[0m\u001b[1;33m\u001b[0m\u001b[1;33m\u001b[0m\u001b[0m\n\u001b[0m",
      "\u001b[1;31mNameError\u001b[0m: name 'status_pop' is not defined"
     ]
    }
   ],
   "source": [
    "status_pop.info()"
   ]
  }
 ],
 "metadata": {
  "kernelspec": {
   "display_name": "Python 3",
   "language": "python",
   "name": "python3"
  },
  "language_info": {
   "codemirror_mode": {
    "name": "ipython",
    "version": 3
   },
   "file_extension": ".py",
   "mimetype": "text/x-python",
   "name": "python",
   "nbconvert_exporter": "python",
   "pygments_lexer": "ipython3",
   "version": "3.7.6"
  }
 },
 "nbformat": 4,
 "nbformat_minor": 4
}
