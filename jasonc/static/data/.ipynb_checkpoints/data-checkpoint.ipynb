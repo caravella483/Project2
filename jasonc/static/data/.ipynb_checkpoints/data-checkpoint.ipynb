{
 "cells": [
  {
   "cell_type": "code",
   "execution_count": 18,
   "metadata": {},
   "outputs": [
    {
     "ename": "ModuleNotFoundError",
     "evalue": "No module named 'psycopg2'",
     "output_type": "error",
     "traceback": [
      "\u001b[1;31m---------------------------------------------------------------------------\u001b[0m",
      "\u001b[1;31mModuleNotFoundError\u001b[0m                       Traceback (most recent call last)",
      "\u001b[1;32m<ipython-input-18-599420daea1e>\u001b[0m in \u001b[0;36m<module>\u001b[1;34m\u001b[0m\n\u001b[0;32m      4\u001b[0m \u001b[1;32mfrom\u001b[0m \u001b[0mzipfile\u001b[0m \u001b[1;32mimport\u001b[0m \u001b[0mZipFile\u001b[0m\u001b[1;33m\u001b[0m\u001b[1;33m\u001b[0m\u001b[0m\n\u001b[0;32m      5\u001b[0m \u001b[1;32mimport\u001b[0m \u001b[0mcollections\u001b[0m\u001b[1;33m\u001b[0m\u001b[1;33m\u001b[0m\u001b[0m\n\u001b[1;32m----> 6\u001b[1;33m \u001b[1;32mimport\u001b[0m \u001b[0mpsycopg2\u001b[0m\u001b[1;33m\u001b[0m\u001b[1;33m\u001b[0m\u001b[0m\n\u001b[0m",
      "\u001b[1;31mModuleNotFoundError\u001b[0m: No module named 'psycopg2'"
     ]
    }
   ],
   "source": [
    "#imports\n",
    "from sqlalchemy import create_engine\n",
    "from datetime import timedelta, datetime, tzinfo\n",
    "from zipfile import ZipFile\n",
    "import collections\n",
    "import psycopg2\n"
   ]
  },
  {
   "cell_type": "code",
   "execution_count": 3,
   "metadata": {},
   "outputs": [],
   "source": [
    "#data frame for legal status and pop\n",
    "legal_df = pd.read_csv(\"legaldata.csv\")"
   ]
  },
  {
   "cell_type": "code",
   "execution_count": 4,
   "metadata": {},
   "outputs": [
    {
     "data": {
      "text/html": [
       "<div>\n",
       "<style scoped>\n",
       "    .dataframe tbody tr th:only-of-type {\n",
       "        vertical-align: middle;\n",
       "    }\n",
       "\n",
       "    .dataframe tbody tr th {\n",
       "        vertical-align: top;\n",
       "    }\n",
       "\n",
       "    .dataframe thead th {\n",
       "        text-align: right;\n",
       "    }\n",
       "</style>\n",
       "<table border=\"1\" class=\"dataframe\">\n",
       "  <thead>\n",
       "    <tr style=\"text-align: right;\">\n",
       "      <th></th>\n",
       "      <th>State</th>\n",
       "      <th>Pop</th>\n",
       "      <th>legalWeedStatus</th>\n",
       "      <th>medicinalWeedStatus</th>\n",
       "      <th>decriminalizedWeedStatus</th>\n",
       "      <th>state</th>\n",
       "    </tr>\n",
       "  </thead>\n",
       "  <tbody>\n",
       "    <tr>\n",
       "      <th>0</th>\n",
       "      <td>Alabama</td>\n",
       "      <td>4908621</td>\n",
       "      <td>Fully Illegal</td>\n",
       "      <td>False</td>\n",
       "      <td>False</td>\n",
       "      <td>Alabama</td>\n",
       "    </tr>\n",
       "    <tr>\n",
       "      <th>1</th>\n",
       "      <td>Alaska</td>\n",
       "      <td>734002</td>\n",
       "      <td>Fully Legal</td>\n",
       "      <td>True</td>\n",
       "      <td>True</td>\n",
       "      <td>Alaska</td>\n",
       "    </tr>\n",
       "    <tr>\n",
       "      <th>2</th>\n",
       "      <td>Arizona</td>\n",
       "      <td>7378494</td>\n",
       "      <td>Mixed</td>\n",
       "      <td>True</td>\n",
       "      <td>False</td>\n",
       "      <td>Arizona</td>\n",
       "    </tr>\n",
       "  </tbody>\n",
       "</table>\n",
       "</div>"
      ],
      "text/plain": [
       "     State      Pop legalWeedStatus  medicinalWeedStatus  \\\n",
       "0  Alabama  4908621   Fully Illegal                False   \n",
       "1   Alaska   734002     Fully Legal                 True   \n",
       "2  Arizona  7378494           Mixed                 True   \n",
       "\n",
       "   decriminalizedWeedStatus    state  \n",
       "0                     False  Alabama  \n",
       "1                      True   Alaska  \n",
       "2                     False  Arizona  "
      ]
     },
     "execution_count": 4,
     "metadata": {},
     "output_type": "execute_result"
    }
   ],
   "source": [
    "legal_df.head(3)"
   ]
  },
  {
   "cell_type": "code",
   "execution_count": 5,
   "metadata": {},
   "outputs": [],
   "source": [
    "#data frame for legal status and pop\n",
    "MVR_df = pd.read_csv(\"mvdeaths.csv\")"
   ]
  },
  {
   "cell_type": "code",
   "execution_count": 6,
   "metadata": {},
   "outputs": [
    {
     "data": {
      "text/html": [
       "<div>\n",
       "<style scoped>\n",
       "    .dataframe tbody tr th:only-of-type {\n",
       "        vertical-align: middle;\n",
       "    }\n",
       "\n",
       "    .dataframe tbody tr th {\n",
       "        vertical-align: top;\n",
       "    }\n",
       "\n",
       "    .dataframe thead th {\n",
       "        text-align: right;\n",
       "    }\n",
       "</style>\n",
       "<table border=\"1\" class=\"dataframe\">\n",
       "  <thead>\n",
       "    <tr style=\"text-align: right;\">\n",
       "      <th></th>\n",
       "      <th>Year</th>\n",
       "      <th>State</th>\n",
       "      <th>Motor Vehicle Deaths - state of residence</th>\n",
       "      <th>Traffic deaths - state of incident</th>\n",
       "      <th>Deaths  per 100,000 population</th>\n",
       "      <th>Traffic deaths  per 10,000 motor vehicles</th>\n",
       "      <th>Traffic deaths - per 100,000,000 vehicle miles</th>\n",
       "    </tr>\n",
       "  </thead>\n",
       "  <tbody>\n",
       "    <tr>\n",
       "      <th>0</th>\n",
       "      <td>2017</td>\n",
       "      <td>U.S. Total</td>\n",
       "      <td>40,231</td>\n",
       "      <td>37,133</td>\n",
       "      <td>12.4</td>\n",
       "      <td>1.4</td>\n",
       "      <td>1.2</td>\n",
       "    </tr>\n",
       "    <tr>\n",
       "      <th>1</th>\n",
       "      <td>2017</td>\n",
       "      <td>Alabama</td>\n",
       "      <td>1,034</td>\n",
       "      <td>948</td>\n",
       "      <td>21.2</td>\n",
       "      <td>1.9</td>\n",
       "      <td>1.3</td>\n",
       "    </tr>\n",
       "    <tr>\n",
       "      <th>2</th>\n",
       "      <td>2017</td>\n",
       "      <td>Alaska</td>\n",
       "      <td>101</td>\n",
       "      <td>79</td>\n",
       "      <td>13.7</td>\n",
       "      <td>1.0</td>\n",
       "      <td>1.4</td>\n",
       "    </tr>\n",
       "    <tr>\n",
       "      <th>3</th>\n",
       "      <td>2017</td>\n",
       "      <td>Arizona</td>\n",
       "      <td>1,017</td>\n",
       "      <td>1,000</td>\n",
       "      <td>14.5</td>\n",
       "      <td>1.7</td>\n",
       "      <td>1.5</td>\n",
       "    </tr>\n",
       "  </tbody>\n",
       "</table>\n",
       "</div>"
      ],
      "text/plain": [
       "   Year       State Motor Vehicle Deaths - state of residence  \\\n",
       "0  2017  U.S. Total                                    40,231   \n",
       "1  2017     Alabama                                     1,034   \n",
       "2  2017      Alaska                                       101   \n",
       "3  2017     Arizona                                     1,017   \n",
       "\n",
       "  Traffic deaths - state of incident  Deaths  per 100,000 population  \\\n",
       "0                             37,133                            12.4   \n",
       "1                                948                            21.2   \n",
       "2                                 79                            13.7   \n",
       "3                              1,000                            14.5   \n",
       "\n",
       "   Traffic deaths  per 10,000 motor vehicles  \\\n",
       "0                                        1.4   \n",
       "1                                        1.9   \n",
       "2                                        1.0   \n",
       "3                                        1.7   \n",
       "\n",
       "   Traffic deaths - per 100,000,000 vehicle miles  \n",
       "0                                             1.2  \n",
       "1                                             1.3  \n",
       "2                                             1.4  \n",
       "3                                             1.5  "
      ]
     },
     "execution_count": 6,
     "metadata": {},
     "output_type": "execute_result"
    }
   ],
   "source": [
    "MVR_df.head(4)"
   ]
  },
  {
   "cell_type": "code",
   "execution_count": 7,
   "metadata": {},
   "outputs": [],
   "source": [
    "#data frame for legal status and pop\n",
    "overdose_df = pd.read_csv(\"overdose.csv\")"
   ]
  },
  {
   "cell_type": "code",
   "execution_count": 8,
   "metadata": {},
   "outputs": [
    {
     "name": "stdout",
     "output_type": "stream",
     "text": [
      "<class 'pandas.core.frame.DataFrame'>\n",
      "RangeIndex: 29568 entries, 0 to 29567\n",
      "Data columns (total 12 columns):\n",
      " #   Column                         Non-Null Count  Dtype  \n",
      "---  ------                         --------------  -----  \n",
      " 0   State                          29568 non-null  object \n",
      " 1   Year                           29568 non-null  int64  \n",
      " 2   Month                          29568 non-null  object \n",
      " 3   Period                         29568 non-null  object \n",
      " 4   Indicator                      29568 non-null  object \n",
      " 5   Data Value                     24236 non-null  float64\n",
      " 6   Percent Complete               29568 non-null  object \n",
      " 7   Percent Pending Investigation  29568 non-null  float64\n",
      " 8   State Name                     29568 non-null  object \n",
      " 9   Footnote                       29568 non-null  object \n",
      " 10  Footnote Symbol                29568 non-null  object \n",
      " 11  Predicted Value                18465 non-null  object \n",
      "dtypes: float64(2), int64(1), object(9)\n",
      "memory usage: 2.7+ MB\n"
     ]
    }
   ],
   "source": [
    "overdose_df.info()"
   ]
  },
  {
   "cell_type": "code",
   "execution_count": 9,
   "metadata": {},
   "outputs": [
    {
     "name": "stdout",
     "output_type": "stream",
     "text": [
      "<class 'pandas.core.frame.DataFrame'>\n",
      "RangeIndex: 29568 entries, 0 to 29567\n",
      "Data columns (total 6 columns):\n",
      " #   Column      Non-Null Count  Dtype  \n",
      "---  ------      --------------  -----  \n",
      " 0   State       29568 non-null  object \n",
      " 1   Year        29568 non-null  int64  \n",
      " 2   Month       29568 non-null  object \n",
      " 3   Indicator   29568 non-null  object \n",
      " 4   Data Value  24236 non-null  float64\n",
      " 5   State Name  29568 non-null  object \n",
      "dtypes: float64(1), int64(1), object(4)\n",
      "memory usage: 1.4+ MB\n"
     ]
    }
   ],
   "source": [
    "###filter clean to only columns I need\n",
    "#states, indicator, year\n",
    "od_df = overdose_df.drop(columns=[\"Period\",\"Percent Complete\",\"Percent Pending Investigation\",\"Footnote\",\"Footnote Symbol\",\"Footnote Symbol\",\"Predicted Value\"])\n",
    "od_df.info()\n"
   ]
  },
  {
   "cell_type": "code",
   "execution_count": 10,
   "metadata": {},
   "outputs": [
    {
     "name": "stdout",
     "output_type": "stream",
     "text": [
      "<class 'pandas.core.frame.DataFrame'>\n",
      "Int64Index: 2968 entries, 4 to 29562\n",
      "Data columns (total 6 columns):\n",
      " #   Column      Non-Null Count  Dtype  \n",
      "---  ------      --------------  -----  \n",
      " 0   State       2968 non-null   object \n",
      " 1   Year        2968 non-null   int64  \n",
      " 2   Month       2968 non-null   object \n",
      " 3   Indicator   2968 non-null   object \n",
      " 4   Data Value  2968 non-null   float64\n",
      " 5   State Name  2968 non-null   object \n",
      "dtypes: float64(1), int64(1), object(4)\n",
      "memory usage: 162.3+ KB\n"
     ]
    }
   ],
   "source": [
    "###Total deaths\n",
    "\n",
    "totaldeaths = od_df[od_df['Indicator']=='Number of Deaths']\n",
    "totaldeaths.info()"
   ]
  },
  {
   "cell_type": "code",
   "execution_count": 11,
   "metadata": {},
   "outputs": [
    {
     "name": "stdout",
     "output_type": "stream",
     "text": [
      "<class 'pandas.core.frame.DataFrame'>\n",
      "RangeIndex: 265 entries, 0 to 264\n",
      "Data columns (total 5 columns):\n",
      " #   Column      Non-Null Count  Dtype  \n",
      "---  ------      --------------  -----  \n",
      " 0   State       265 non-null    object \n",
      " 1   Year        265 non-null    int64  \n",
      " 2   Indicator   265 non-null    object \n",
      " 3   State Name  265 non-null    object \n",
      " 4   Data Value  265 non-null    float64\n",
      "dtypes: float64(1), int64(1), object(3)\n",
      "memory usage: 10.5+ KB\n"
     ]
    }
   ],
   "source": [
    "yr_deaths = totaldeaths.groupby(['State','Year','Indicator','State Name'])['Data Value'].sum().reset_index()\n",
    "yr_deaths.info()"
   ]
  },
  {
   "cell_type": "code",
   "execution_count": 12,
   "metadata": {},
   "outputs": [
    {
     "data": {
      "text/html": [
       "<div>\n",
       "<style scoped>\n",
       "    .dataframe tbody tr th:only-of-type {\n",
       "        vertical-align: middle;\n",
       "    }\n",
       "\n",
       "    .dataframe tbody tr th {\n",
       "        vertical-align: top;\n",
       "    }\n",
       "\n",
       "    .dataframe thead th {\n",
       "        text-align: right;\n",
       "    }\n",
       "</style>\n",
       "<table border=\"1\" class=\"dataframe\">\n",
       "  <thead>\n",
       "    <tr style=\"text-align: right;\">\n",
       "      <th></th>\n",
       "      <th>State</th>\n",
       "      <th>Year</th>\n",
       "      <th>Indicator</th>\n",
       "      <th>State Name</th>\n",
       "      <th>Data Value</th>\n",
       "    </tr>\n",
       "  </thead>\n",
       "  <tbody>\n",
       "    <tr>\n",
       "      <th>0</th>\n",
       "      <td>AK</td>\n",
       "      <td>2015</td>\n",
       "      <td>Number of Deaths</td>\n",
       "      <td>Alaska</td>\n",
       "      <td>50086.0</td>\n",
       "    </tr>\n",
       "    <tr>\n",
       "      <th>1</th>\n",
       "      <td>AK</td>\n",
       "      <td>2016</td>\n",
       "      <td>Number of Deaths</td>\n",
       "      <td>Alaska</td>\n",
       "      <td>51141.0</td>\n",
       "    </tr>\n",
       "    <tr>\n",
       "      <th>2</th>\n",
       "      <td>AK</td>\n",
       "      <td>2017</td>\n",
       "      <td>Number of Deaths</td>\n",
       "      <td>Alaska</td>\n",
       "      <td>51597.0</td>\n",
       "    </tr>\n",
       "    <tr>\n",
       "      <th>3</th>\n",
       "      <td>AK</td>\n",
       "      <td>2018</td>\n",
       "      <td>Number of Deaths</td>\n",
       "      <td>Alaska</td>\n",
       "      <td>51865.0</td>\n",
       "    </tr>\n",
       "    <tr>\n",
       "      <th>4</th>\n",
       "      <td>AK</td>\n",
       "      <td>2019</td>\n",
       "      <td>Number of Deaths</td>\n",
       "      <td>Alaska</td>\n",
       "      <td>35511.0</td>\n",
       "    </tr>\n",
       "  </tbody>\n",
       "</table>\n",
       "</div>"
      ],
      "text/plain": [
       "  State  Year         Indicator State Name  Data Value\n",
       "0    AK  2015  Number of Deaths     Alaska     50086.0\n",
       "1    AK  2016  Number of Deaths     Alaska     51141.0\n",
       "2    AK  2017  Number of Deaths     Alaska     51597.0\n",
       "3    AK  2018  Number of Deaths     Alaska     51865.0\n",
       "4    AK  2019  Number of Deaths     Alaska     35511.0"
      ]
     },
     "execution_count": 12,
     "metadata": {},
     "output_type": "execute_result"
    }
   ],
   "source": [
    "yr_deaths.head()\n",
    "\n"
   ]
  },
  {
   "cell_type": "code",
   "execution_count": 13,
   "metadata": {},
   "outputs": [
    {
     "data": {
      "text/html": [
       "<div>\n",
       "<style scoped>\n",
       "    .dataframe tbody tr th:only-of-type {\n",
       "        vertical-align: middle;\n",
       "    }\n",
       "\n",
       "    .dataframe tbody tr th {\n",
       "        vertical-align: top;\n",
       "    }\n",
       "\n",
       "    .dataframe thead th {\n",
       "        text-align: right;\n",
       "    }\n",
       "</style>\n",
       "<table border=\"1\" class=\"dataframe\">\n",
       "  <thead>\n",
       "    <tr style=\"text-align: right;\">\n",
       "      <th></th>\n",
       "      <th>State</th>\n",
       "      <th>Year</th>\n",
       "      <th>Month</th>\n",
       "      <th>Indicator</th>\n",
       "      <th>Data Value</th>\n",
       "      <th>State Name</th>\n",
       "    </tr>\n",
       "  </thead>\n",
       "  <tbody>\n",
       "    <tr>\n",
       "      <th>4</th>\n",
       "      <td>AK</td>\n",
       "      <td>2015</td>\n",
       "      <td>April</td>\n",
       "      <td>Number of Deaths</td>\n",
       "      <td>4133.0</td>\n",
       "      <td>Alaska</td>\n",
       "    </tr>\n",
       "    <tr>\n",
       "      <th>16</th>\n",
       "      <td>AK</td>\n",
       "      <td>2015</td>\n",
       "      <td>August</td>\n",
       "      <td>Number of Deaths</td>\n",
       "      <td>4222.0</td>\n",
       "      <td>Alaska</td>\n",
       "    </tr>\n",
       "    <tr>\n",
       "      <th>30</th>\n",
       "      <td>AK</td>\n",
       "      <td>2015</td>\n",
       "      <td>December</td>\n",
       "      <td>Number of Deaths</td>\n",
       "      <td>4193.0</td>\n",
       "      <td>Alaska</td>\n",
       "    </tr>\n",
       "    <tr>\n",
       "      <th>45</th>\n",
       "      <td>AK</td>\n",
       "      <td>2015</td>\n",
       "      <td>February</td>\n",
       "      <td>Number of Deaths</td>\n",
       "      <td>4084.0</td>\n",
       "      <td>Alaska</td>\n",
       "    </tr>\n",
       "    <tr>\n",
       "      <th>49</th>\n",
       "      <td>AK</td>\n",
       "      <td>2015</td>\n",
       "      <td>January</td>\n",
       "      <td>Number of Deaths</td>\n",
       "      <td>4034.0</td>\n",
       "      <td>Alaska</td>\n",
       "    </tr>\n",
       "  </tbody>\n",
       "</table>\n",
       "</div>"
      ],
      "text/plain": [
       "   State  Year     Month         Indicator  Data Value State Name\n",
       "4     AK  2015     April  Number of Deaths      4133.0     Alaska\n",
       "16    AK  2015    August  Number of Deaths      4222.0     Alaska\n",
       "30    AK  2015  December  Number of Deaths      4193.0     Alaska\n",
       "45    AK  2015  February  Number of Deaths      4084.0     Alaska\n",
       "49    AK  2015   January  Number of Deaths      4034.0     Alaska"
      ]
     },
     "execution_count": 13,
     "metadata": {},
     "output_type": "execute_result"
    }
   ],
   "source": [
    "totaldeaths.head(5)"
   ]
  },
  {
   "cell_type": "code",
   "execution_count": 14,
   "metadata": {},
   "outputs": [
    {
     "name": "stdout",
     "output_type": "stream",
     "text": [
      "<class 'pandas.core.frame.DataFrame'>\n",
      "Int64Index: 2968 entries, 0 to 29560\n",
      "Data columns (total 6 columns):\n",
      " #   Column      Non-Null Count  Dtype  \n",
      "---  ------      --------------  -----  \n",
      " 0   State       2968 non-null   object \n",
      " 1   Year        2968 non-null   int64  \n",
      " 2   Month       2968 non-null   object \n",
      " 3   Indicator   2968 non-null   object \n",
      " 4   Data Value  2968 non-null   float64\n",
      " 5   State Name  2968 non-null   object \n",
      "dtypes: float64(1), int64(1), object(4)\n",
      "memory usage: 162.3+ KB\n"
     ]
    }
   ],
   "source": [
    "totalod = od_df[od_df['Indicator']=='Number of Drug Overdose Deaths']\n",
    "totalod.info()"
   ]
  },
  {
   "cell_type": "code",
   "execution_count": 15,
   "metadata": {},
   "outputs": [
    {
     "name": "stdout",
     "output_type": "stream",
     "text": [
      "<class 'pandas.core.frame.DataFrame'>\n",
      "RangeIndex: 265 entries, 0 to 264\n",
      "Data columns (total 5 columns):\n",
      " #   Column      Non-Null Count  Dtype  \n",
      "---  ------      --------------  -----  \n",
      " 0   State       265 non-null    object \n",
      " 1   Year        265 non-null    int64  \n",
      " 2   Indicator   265 non-null    object \n",
      " 3   State Name  265 non-null    object \n",
      " 4   Data Value  265 non-null    float64\n",
      "dtypes: float64(1), int64(1), object(3)\n",
      "memory usage: 10.5+ KB\n"
     ]
    }
   ],
   "source": [
    "yr_od = totalod.groupby(['State','Year','Indicator','State Name'])['Data Value'].sum().reset_index()\n",
    "yr_od.info()"
   ]
  },
  {
   "cell_type": "code",
   "execution_count": null,
   "metadata": {},
   "outputs": [],
   "source": [
    "pd.merge(yr_od,yr_deaths, how ='inner', on = state,year, left_on=yr_od)"
   ]
  },
  {
   "cell_type": "code",
   "execution_count": null,
   "metadata": {},
   "outputs": [],
   "source": []
  },
  {
   "cell_type": "code",
   "execution_count": null,
   "metadata": {},
   "outputs": [],
   "source": []
  },
  {
   "cell_type": "code",
   "execution_count": null,
   "metadata": {},
   "outputs": [],
   "source": [
    "##clean up data for each"
   ]
  },
  {
   "cell_type": "code",
   "execution_count": 17,
   "metadata": {},
   "outputs": [
    {
     "ename": "ModuleNotFoundError",
     "evalue": "No module named 'psycopg2'",
     "output_type": "error",
     "traceback": [
      "\u001b[1;31m---------------------------------------------------------------------------\u001b[0m",
      "\u001b[1;31mModuleNotFoundError\u001b[0m                       Traceback (most recent call last)",
      "\u001b[1;32m<ipython-input-17-8808b66636f2>\u001b[0m in \u001b[0;36m<module>\u001b[1;34m\u001b[0m\n\u001b[0;32m      4\u001b[0m \u001b[0mdbuser\u001b[0m \u001b[1;33m=\u001b[0m \u001b[1;34m\"postgres\"\u001b[0m\u001b[1;33m\u001b[0m\u001b[1;33m\u001b[0m\u001b[0m\n\u001b[0;32m      5\u001b[0m \u001b[0mrds_connection_string\u001b[0m \u001b[1;33m=\u001b[0m \u001b[1;34mf\"{dbuser}:{password}@localhost:5432/project2\"\u001b[0m\u001b[1;33m\u001b[0m\u001b[1;33m\u001b[0m\u001b[0m\n\u001b[1;32m----> 6\u001b[1;33m \u001b[0mengine\u001b[0m \u001b[1;33m=\u001b[0m \u001b[0mcreate_engine\u001b[0m\u001b[1;33m(\u001b[0m\u001b[1;34mf'postgresql://{rds_connection_string}'\u001b[0m\u001b[1;33m)\u001b[0m\u001b[1;33m\u001b[0m\u001b[1;33m\u001b[0m\u001b[0m\n\u001b[0m",
      "\u001b[1;32m~\\Anaconda3\\lib\\site-packages\\sqlalchemy\\engine\\__init__.py\u001b[0m in \u001b[0;36mcreate_engine\u001b[1;34m(*args, **kwargs)\u001b[0m\n\u001b[0;32m    477\u001b[0m     \u001b[0mstrategy\u001b[0m \u001b[1;33m=\u001b[0m \u001b[0mkwargs\u001b[0m\u001b[1;33m.\u001b[0m\u001b[0mpop\u001b[0m\u001b[1;33m(\u001b[0m\u001b[1;34m\"strategy\"\u001b[0m\u001b[1;33m,\u001b[0m \u001b[0mdefault_strategy\u001b[0m\u001b[1;33m)\u001b[0m\u001b[1;33m\u001b[0m\u001b[1;33m\u001b[0m\u001b[0m\n\u001b[0;32m    478\u001b[0m     \u001b[0mstrategy\u001b[0m \u001b[1;33m=\u001b[0m \u001b[0mstrategies\u001b[0m\u001b[1;33m.\u001b[0m\u001b[0mstrategies\u001b[0m\u001b[1;33m[\u001b[0m\u001b[0mstrategy\u001b[0m\u001b[1;33m]\u001b[0m\u001b[1;33m\u001b[0m\u001b[1;33m\u001b[0m\u001b[0m\n\u001b[1;32m--> 479\u001b[1;33m     \u001b[1;32mreturn\u001b[0m \u001b[0mstrategy\u001b[0m\u001b[1;33m.\u001b[0m\u001b[0mcreate\u001b[0m\u001b[1;33m(\u001b[0m\u001b[1;33m*\u001b[0m\u001b[0margs\u001b[0m\u001b[1;33m,\u001b[0m \u001b[1;33m**\u001b[0m\u001b[0mkwargs\u001b[0m\u001b[1;33m)\u001b[0m\u001b[1;33m\u001b[0m\u001b[1;33m\u001b[0m\u001b[0m\n\u001b[0m\u001b[0;32m    480\u001b[0m \u001b[1;33m\u001b[0m\u001b[0m\n\u001b[0;32m    481\u001b[0m \u001b[1;33m\u001b[0m\u001b[0m\n",
      "\u001b[1;32m~\\Anaconda3\\lib\\site-packages\\sqlalchemy\\engine\\strategies.py\u001b[0m in \u001b[0;36mcreate\u001b[1;34m(self, name_or_url, **kwargs)\u001b[0m\n\u001b[0;32m     85\u001b[0m                 \u001b[1;32mif\u001b[0m \u001b[0mk\u001b[0m \u001b[1;32min\u001b[0m \u001b[0mkwargs\u001b[0m\u001b[1;33m:\u001b[0m\u001b[1;33m\u001b[0m\u001b[1;33m\u001b[0m\u001b[0m\n\u001b[0;32m     86\u001b[0m                     \u001b[0mdbapi_args\u001b[0m\u001b[1;33m[\u001b[0m\u001b[0mk\u001b[0m\u001b[1;33m]\u001b[0m \u001b[1;33m=\u001b[0m \u001b[0mpop_kwarg\u001b[0m\u001b[1;33m(\u001b[0m\u001b[0mk\u001b[0m\u001b[1;33m)\u001b[0m\u001b[1;33m\u001b[0m\u001b[1;33m\u001b[0m\u001b[0m\n\u001b[1;32m---> 87\u001b[1;33m             \u001b[0mdbapi\u001b[0m \u001b[1;33m=\u001b[0m \u001b[0mdialect_cls\u001b[0m\u001b[1;33m.\u001b[0m\u001b[0mdbapi\u001b[0m\u001b[1;33m(\u001b[0m\u001b[1;33m**\u001b[0m\u001b[0mdbapi_args\u001b[0m\u001b[1;33m)\u001b[0m\u001b[1;33m\u001b[0m\u001b[1;33m\u001b[0m\u001b[0m\n\u001b[0m\u001b[0;32m     88\u001b[0m \u001b[1;33m\u001b[0m\u001b[0m\n\u001b[0;32m     89\u001b[0m         \u001b[0mdialect_args\u001b[0m\u001b[1;33m[\u001b[0m\u001b[1;34m\"dbapi\"\u001b[0m\u001b[1;33m]\u001b[0m \u001b[1;33m=\u001b[0m \u001b[0mdbapi\u001b[0m\u001b[1;33m\u001b[0m\u001b[1;33m\u001b[0m\u001b[0m\n",
      "\u001b[1;32m~\\Anaconda3\\lib\\site-packages\\sqlalchemy\\dialects\\postgresql\\psycopg2.py\u001b[0m in \u001b[0;36mdbapi\u001b[1;34m(cls)\u001b[0m\n\u001b[0;32m    735\u001b[0m     \u001b[1;33m@\u001b[0m\u001b[0mclassmethod\u001b[0m\u001b[1;33m\u001b[0m\u001b[1;33m\u001b[0m\u001b[0m\n\u001b[0;32m    736\u001b[0m     \u001b[1;32mdef\u001b[0m \u001b[0mdbapi\u001b[0m\u001b[1;33m(\u001b[0m\u001b[0mcls\u001b[0m\u001b[1;33m)\u001b[0m\u001b[1;33m:\u001b[0m\u001b[1;33m\u001b[0m\u001b[1;33m\u001b[0m\u001b[0m\n\u001b[1;32m--> 737\u001b[1;33m         \u001b[1;32mimport\u001b[0m \u001b[0mpsycopg2\u001b[0m\u001b[1;33m\u001b[0m\u001b[1;33m\u001b[0m\u001b[0m\n\u001b[0m\u001b[0;32m    738\u001b[0m \u001b[1;33m\u001b[0m\u001b[0m\n\u001b[0;32m    739\u001b[0m         \u001b[1;32mreturn\u001b[0m \u001b[0mpsycopg2\u001b[0m\u001b[1;33m\u001b[0m\u001b[1;33m\u001b[0m\u001b[0m\n",
      "\u001b[1;31mModuleNotFoundError\u001b[0m: No module named 'psycopg2'"
     ]
    }
   ],
   "source": [
    "#rds_connection_string = f\"{dbuser}<insert user name>:<insert password>@localhost:5432/customer_db\"\n",
    "#engine = create_engine(f'postgresql://{rds_connection_string}')\n",
    "password = \"Hooch#12\"\n",
    "dbuser = \"postgres\"\n",
    "rds_connection_string = f\"{dbuser}:{password}@localhost:5432/project2\"\n",
    "engine = create_engine(f'postgresql://{rds_connection_string}')"
   ]
  },
  {
   "cell_type": "code",
   "execution_count": null,
   "metadata": {},
   "outputs": [],
   "source": [
    "###postgresSQL\n",
    "##push to server"
   ]
  },
  {
   "cell_type": "code",
   "execution_count": null,
   "metadata": {},
   "outputs": [],
   "source": [
    "engine.table_names()"
   ]
  },
  {
   "cell_type": "code",
   "execution_count": null,
   "metadata": {},
   "outputs": [],
   "source": [
    "#pushing Cluster,Bar,Line DATAFRAME to SQL\n",
    "years_trend.to_sql(name='guns_year', con=engine, if_exists='replace', index=False)\n",
    "deaths_2018_unindexed.to_sql(name='killings_injuries_2018', con=engine, if_exists='replace', index=False)"
   ]
  },
  {
   "cell_type": "code",
   "execution_count": null,
   "metadata": {},
   "outputs": [],
   "source": [
    "\n",
    "#Creating CSV's of Cluster,Bar,Line DATAFRAME\n",
    "years_trend.to_csv('year_trend_gun.csv')\n",
    "deaths_2018.to_csv('deaths_2018.csv')\n",
    "gun14_monthly.to_csv(\"gun2014onwrd.csv\")"
   ]
  }
 ],
 "metadata": {
  "kernelspec": {
   "display_name": "Python 3",
   "language": "python",
   "name": "python3"
  },
  "language_info": {
   "codemirror_mode": {
    "name": "ipython",
    "version": 3
   },
   "file_extension": ".py",
   "mimetype": "text/x-python",
   "name": "python",
   "nbconvert_exporter": "python",
   "pygments_lexer": "ipython3",
   "version": "3.7.6"
  }
 },
 "nbformat": 4,
 "nbformat_minor": 4
}
