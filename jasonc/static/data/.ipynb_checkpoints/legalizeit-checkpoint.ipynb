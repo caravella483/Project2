{
 "cells": [
  {
   "cell_type": "code",
   "execution_count": 1,
   "metadata": {},
   "outputs": [],
   "source": [
    "# Dependencies\n",
    "from sqlalchemy import create_engine\n",
    "from datetime import timedelta, datetime, tzinfo\n",
    "from zipfile import ZipFile\n",
    "import collections\n",
    "import psycopg2\n",
    "import requests\n",
    "import json\n",
    "import pandas as pd"
   ]
  },
  {
   "cell_type": "code",
   "execution_count": 2,
   "metadata": {},
   "outputs": [],
   "source": [
    "##Import the csv data"
   ]
  },
  {
   "cell_type": "code",
   "execution_count": 3,
   "metadata": {},
   "outputs": [],
   "source": [
    "#data frame for legal status and pop\n",
    "lgpure_df = pd.read_csv(\"legaldata.csv\")\n",
    "#data frame for mvr deaths\n",
    "MVR_df = pd.read_csv(\"mvdeaths.csv\")\n",
    "#data frame for overdose deaths\n",
    "overdose_df = pd.read_csv(\"overdose.csv\")"
   ]
  },
  {
   "cell_type": "code",
   "execution_count": 4,
   "metadata": {},
   "outputs": [],
   "source": [
    "####legal status for map"
   ]
  },
  {
   "cell_type": "code",
   "execution_count": 5,
   "metadata": {},
   "outputs": [
    {
     "data": {
      "text/html": [
       "<div>\n",
       "<style scoped>\n",
       "    .dataframe tbody tr th:only-of-type {\n",
       "        vertical-align: middle;\n",
       "    }\n",
       "\n",
       "    .dataframe tbody tr th {\n",
       "        vertical-align: top;\n",
       "    }\n",
       "\n",
       "    .dataframe thead th {\n",
       "        text-align: right;\n",
       "    }\n",
       "</style>\n",
       "<table border=\"1\" class=\"dataframe\">\n",
       "  <thead>\n",
       "    <tr style=\"text-align: right;\">\n",
       "      <th></th>\n",
       "      <th>State</th>\n",
       "      <th>Pop</th>\n",
       "      <th>legalWeedStatus</th>\n",
       "      <th>medicinalWeedStatus</th>\n",
       "      <th>decriminalizedWeedStatus</th>\n",
       "      <th>state</th>\n",
       "    </tr>\n",
       "  </thead>\n",
       "  <tbody>\n",
       "    <tr>\n",
       "      <th>0</th>\n",
       "      <td>Alabama</td>\n",
       "      <td>4908621</td>\n",
       "      <td>Fully Illegal</td>\n",
       "      <td>False</td>\n",
       "      <td>False</td>\n",
       "      <td>Alabama</td>\n",
       "    </tr>\n",
       "    <tr>\n",
       "      <th>1</th>\n",
       "      <td>Alaska</td>\n",
       "      <td>734002</td>\n",
       "      <td>Fully Legal</td>\n",
       "      <td>True</td>\n",
       "      <td>True</td>\n",
       "      <td>Alaska</td>\n",
       "    </tr>\n",
       "    <tr>\n",
       "      <th>2</th>\n",
       "      <td>Arizona</td>\n",
       "      <td>7378494</td>\n",
       "      <td>Mixed</td>\n",
       "      <td>True</td>\n",
       "      <td>False</td>\n",
       "      <td>Arizona</td>\n",
       "    </tr>\n",
       "  </tbody>\n",
       "</table>\n",
       "</div>"
      ],
      "text/plain": [
       "     State      Pop legalWeedStatus  medicinalWeedStatus  \\\n",
       "0  Alabama  4908621   Fully Illegal                False   \n",
       "1   Alaska   734002     Fully Legal                 True   \n",
       "2  Arizona  7378494           Mixed                 True   \n",
       "\n",
       "   decriminalizedWeedStatus    state  \n",
       "0                     False  Alabama  \n",
       "1                      True   Alaska  \n",
       "2                     False  Arizona  "
      ]
     },
     "execution_count": 5,
     "metadata": {},
     "output_type": "execute_result"
    }
   ],
   "source": [
    "lgpure_df.head(3)"
   ]
  },
  {
   "cell_type": "code",
   "execution_count": 6,
   "metadata": {},
   "outputs": [
    {
     "name": "stdout",
     "output_type": "stream",
     "text": [
      "<class 'pandas.core.frame.DataFrame'>\n",
      "RangeIndex: 51 entries, 0 to 50\n",
      "Data columns (total 6 columns):\n",
      " #   Column                    Non-Null Count  Dtype \n",
      "---  ------                    --------------  ----- \n",
      " 0   State                     51 non-null     object\n",
      " 1   Pop                       51 non-null     int64 \n",
      " 2   legalWeedStatus           51 non-null     object\n",
      " 3   medicinalWeedStatus       51 non-null     bool  \n",
      " 4   decriminalizedWeedStatus  51 non-null     bool  \n",
      " 5   state                     51 non-null     object\n",
      "dtypes: bool(2), int64(1), object(3)\n",
      "memory usage: 1.8+ KB\n"
     ]
    }
   ],
   "source": [
    "lgpure_df.info()"
   ]
  },
  {
   "cell_type": "code",
   "execution_count": 7,
   "metadata": {},
   "outputs": [
    {
     "name": "stdout",
     "output_type": "stream",
     "text": [
      "<class 'pandas.core.frame.DataFrame'>\n",
      "RangeIndex: 51 entries, 0 to 50\n",
      "Data columns (total 3 columns):\n",
      " #   Column           Non-Null Count  Dtype \n",
      "---  ------           --------------  ----- \n",
      " 0   State            51 non-null     object\n",
      " 1   Pop              51 non-null     int64 \n",
      " 2   legalWeedStatus  51 non-null     object\n",
      "dtypes: int64(1), object(2)\n",
      "memory usage: 1.3+ KB\n"
     ]
    }
   ],
   "source": [
    "##df to join to other df (MVR and Overdose)\n",
    "legal_df = lgpure_df.drop(columns=[\"state\",\"medicinalWeedStatus\",\"decriminalizedWeedStatus\"])\n",
    "legal_df.info()"
   ]
  },
  {
   "cell_type": "code",
   "execution_count": 8,
   "metadata": {},
   "outputs": [],
   "source": [
    "###df for legal map\n"
   ]
  },
  {
   "cell_type": "code",
   "execution_count": 9,
   "metadata": {},
   "outputs": [
    {
     "data": {
      "text/html": [
       "<div>\n",
       "<style scoped>\n",
       "    .dataframe tbody tr th:only-of-type {\n",
       "        vertical-align: middle;\n",
       "    }\n",
       "\n",
       "    .dataframe tbody tr th {\n",
       "        vertical-align: top;\n",
       "    }\n",
       "\n",
       "    .dataframe thead th {\n",
       "        text-align: right;\n",
       "    }\n",
       "</style>\n",
       "<table border=\"1\" class=\"dataframe\">\n",
       "  <thead>\n",
       "    <tr style=\"text-align: right;\">\n",
       "      <th></th>\n",
       "      <th>State</th>\n",
       "      <th>legalWeedStatus</th>\n",
       "    </tr>\n",
       "  </thead>\n",
       "  <tbody>\n",
       "    <tr>\n",
       "      <th>0</th>\n",
       "      <td>Alabama</td>\n",
       "      <td>Fully Illegal</td>\n",
       "    </tr>\n",
       "    <tr>\n",
       "      <th>1</th>\n",
       "      <td>Alaska</td>\n",
       "      <td>Fully Legal</td>\n",
       "    </tr>\n",
       "    <tr>\n",
       "      <th>2</th>\n",
       "      <td>Arizona</td>\n",
       "      <td>Mixed</td>\n",
       "    </tr>\n",
       "    <tr>\n",
       "      <th>3</th>\n",
       "      <td>Arkansas</td>\n",
       "      <td>Mixed</td>\n",
       "    </tr>\n",
       "    <tr>\n",
       "      <th>4</th>\n",
       "      <td>California</td>\n",
       "      <td>Fully Legal</td>\n",
       "    </tr>\n",
       "  </tbody>\n",
       "</table>\n",
       "</div>"
      ],
      "text/plain": [
       "        State legalWeedStatus\n",
       "0     Alabama   Fully Illegal\n",
       "1      Alaska     Fully Legal\n",
       "2     Arizona           Mixed\n",
       "3    Arkansas           Mixed\n",
       "4  California     Fully Legal"
      ]
     },
     "execution_count": 9,
     "metadata": {},
     "output_type": "execute_result"
    }
   ],
   "source": [
    "legal_mapdf = legal_df.drop(columns=[\"Pop\"])\n",
    "legal_mapdf.head()"
   ]
  },
  {
   "cell_type": "code",
   "execution_count": 10,
   "metadata": {},
   "outputs": [],
   "source": [
    "###export to csv\n",
    "legal_mapdf.to_csv(r'C:\\Users\\jcaravella\\Documents\\Project2\\Main_data\\state_status.csv', index = False,header=True)\n",
    "legal_mapdf.to_json(r'C:\\Users\\jcaravella\\Documents\\Project2\\Main_data\\state_status.json')#, index = False,header=True)"
   ]
  },
  {
   "cell_type": "code",
   "execution_count": 11,
   "metadata": {},
   "outputs": [],
   "source": [
    "####MVR info"
   ]
  },
  {
   "cell_type": "code",
   "execution_count": 12,
   "metadata": {},
   "outputs": [
    {
     "name": "stdout",
     "output_type": "stream",
     "text": [
      "<class 'pandas.core.frame.DataFrame'>\n",
      "RangeIndex: 408 entries, 0 to 407\n",
      "Data columns (total 7 columns):\n",
      " #   Column                                          Non-Null Count  Dtype  \n",
      "---  ------                                          --------------  -----  \n",
      " 0   Year                                            408 non-null    int64  \n",
      " 1   State                                           408 non-null    object \n",
      " 2   Motor Vehicle Deaths - state of residence       408 non-null    int64  \n",
      " 3   Traffic deaths - state of incident              408 non-null    int64  \n",
      " 4   Deaths  per 100,000 population                  408 non-null    float64\n",
      " 5   Traffic deaths  per 10,000 motor vehicles       408 non-null    float64\n",
      " 6   Traffic deaths - per 100,000,000 vehicle miles  408 non-null    float64\n",
      "dtypes: float64(3), int64(3), object(1)\n",
      "memory usage: 22.4+ KB\n"
     ]
    }
   ],
   "source": [
    "MVR_df.info()"
   ]
  },
  {
   "cell_type": "code",
   "execution_count": 13,
   "metadata": {},
   "outputs": [
    {
     "data": {
      "text/html": [
       "<div>\n",
       "<style scoped>\n",
       "    .dataframe tbody tr th:only-of-type {\n",
       "        vertical-align: middle;\n",
       "    }\n",
       "\n",
       "    .dataframe tbody tr th {\n",
       "        vertical-align: top;\n",
       "    }\n",
       "\n",
       "    .dataframe thead th {\n",
       "        text-align: right;\n",
       "    }\n",
       "</style>\n",
       "<table border=\"1\" class=\"dataframe\">\n",
       "  <thead>\n",
       "    <tr style=\"text-align: right;\">\n",
       "      <th></th>\n",
       "      <th>Year</th>\n",
       "      <th>State</th>\n",
       "      <th>Motor Vehicle Deaths - state of residence</th>\n",
       "      <th>Traffic deaths - state of incident</th>\n",
       "      <th>Deaths  per 100,000 population</th>\n",
       "      <th>Traffic deaths  per 10,000 motor vehicles</th>\n",
       "      <th>Traffic deaths - per 100,000,000 vehicle miles</th>\n",
       "    </tr>\n",
       "  </thead>\n",
       "  <tbody>\n",
       "    <tr>\n",
       "      <th>0</th>\n",
       "      <td>2017</td>\n",
       "      <td>Alabama</td>\n",
       "      <td>1034</td>\n",
       "      <td>948</td>\n",
       "      <td>21.2</td>\n",
       "      <td>1.9</td>\n",
       "      <td>1.3</td>\n",
       "    </tr>\n",
       "    <tr>\n",
       "      <th>1</th>\n",
       "      <td>2016</td>\n",
       "      <td>Alabama</td>\n",
       "      <td>1158</td>\n",
       "      <td>1122</td>\n",
       "      <td>23.8</td>\n",
       "      <td>2.1</td>\n",
       "      <td>1.6</td>\n",
       "    </tr>\n",
       "    <tr>\n",
       "      <th>2</th>\n",
       "      <td>2015</td>\n",
       "      <td>Alabama</td>\n",
       "      <td>962</td>\n",
       "      <td>849</td>\n",
       "      <td>19.8</td>\n",
       "      <td>1.6</td>\n",
       "      <td>1.3</td>\n",
       "    </tr>\n",
       "    <tr>\n",
       "      <th>8</th>\n",
       "      <td>2017</td>\n",
       "      <td>Alaska</td>\n",
       "      <td>101</td>\n",
       "      <td>79</td>\n",
       "      <td>13.7</td>\n",
       "      <td>1.0</td>\n",
       "      <td>1.4</td>\n",
       "    </tr>\n",
       "    <tr>\n",
       "      <th>9</th>\n",
       "      <td>2016</td>\n",
       "      <td>Alaska</td>\n",
       "      <td>97</td>\n",
       "      <td>81</td>\n",
       "      <td>13.1</td>\n",
       "      <td>1.0</td>\n",
       "      <td>1.5</td>\n",
       "    </tr>\n",
       "  </tbody>\n",
       "</table>\n",
       "</div>"
      ],
      "text/plain": [
       "   Year    State  Motor Vehicle Deaths - state of residence  \\\n",
       "0  2017  Alabama                                       1034   \n",
       "1  2016  Alabama                                       1158   \n",
       "2  2015  Alabama                                        962   \n",
       "8  2017   Alaska                                        101   \n",
       "9  2016   Alaska                                         97   \n",
       "\n",
       "   Traffic deaths - state of incident  Deaths  per 100,000 population  \\\n",
       "0                                 948                            21.2   \n",
       "1                                1122                            23.8   \n",
       "2                                 849                            19.8   \n",
       "8                                  79                            13.7   \n",
       "9                                  81                            13.1   \n",
       "\n",
       "   Traffic deaths  per 10,000 motor vehicles  \\\n",
       "0                                        1.9   \n",
       "1                                        2.1   \n",
       "2                                        1.6   \n",
       "8                                        1.0   \n",
       "9                                        1.0   \n",
       "\n",
       "   Traffic deaths - per 100,000,000 vehicle miles  \n",
       "0                                             1.3  \n",
       "1                                             1.6  \n",
       "2                                             1.3  \n",
       "8                                             1.4  \n",
       "9                                             1.5  "
      ]
     },
     "execution_count": 13,
     "metadata": {},
     "output_type": "execute_result"
    }
   ],
   "source": [
    "##drop to the same years as of od deaths\n",
    "years = ['2015','2016','2017']\n",
    "mvr_neededyears =MVR_df[MVR_df.Year.isin(years)]\n",
    "mvr_neededyears.head()"
   ]
  },
  {
   "cell_type": "code",
   "execution_count": 14,
   "metadata": {},
   "outputs": [],
   "source": [
    "#####Filtering and joining"
   ]
  },
  {
   "cell_type": "code",
   "execution_count": 15,
   "metadata": {},
   "outputs": [
    {
     "data": {
      "text/html": [
       "<div>\n",
       "<style scoped>\n",
       "    .dataframe tbody tr th:only-of-type {\n",
       "        vertical-align: middle;\n",
       "    }\n",
       "\n",
       "    .dataframe tbody tr th {\n",
       "        vertical-align: top;\n",
       "    }\n",
       "\n",
       "    .dataframe thead th {\n",
       "        text-align: right;\n",
       "    }\n",
       "</style>\n",
       "<table border=\"1\" class=\"dataframe\">\n",
       "  <thead>\n",
       "    <tr style=\"text-align: right;\">\n",
       "      <th></th>\n",
       "      <th>Year</th>\n",
       "      <th>State</th>\n",
       "      <th>Motor Vehicle Deaths - state of residence</th>\n",
       "      <th>Traffic deaths - state of incident</th>\n",
       "      <th>Deaths  per 100,000 population</th>\n",
       "      <th>Traffic deaths  per 10,000 motor vehicles</th>\n",
       "      <th>Traffic deaths - per 100,000,000 vehicle miles</th>\n",
       "      <th>Pop</th>\n",
       "      <th>legalWeedStatus</th>\n",
       "    </tr>\n",
       "  </thead>\n",
       "  <tbody>\n",
       "    <tr>\n",
       "      <th>0</th>\n",
       "      <td>2017</td>\n",
       "      <td>Alabama</td>\n",
       "      <td>1034</td>\n",
       "      <td>948</td>\n",
       "      <td>21.2</td>\n",
       "      <td>1.9</td>\n",
       "      <td>1.3</td>\n",
       "      <td>4908621</td>\n",
       "      <td>Fully Illegal</td>\n",
       "    </tr>\n",
       "    <tr>\n",
       "      <th>1</th>\n",
       "      <td>2016</td>\n",
       "      <td>Alabama</td>\n",
       "      <td>1158</td>\n",
       "      <td>1122</td>\n",
       "      <td>23.8</td>\n",
       "      <td>2.1</td>\n",
       "      <td>1.6</td>\n",
       "      <td>4908621</td>\n",
       "      <td>Fully Illegal</td>\n",
       "    </tr>\n",
       "    <tr>\n",
       "      <th>2</th>\n",
       "      <td>2015</td>\n",
       "      <td>Alabama</td>\n",
       "      <td>962</td>\n",
       "      <td>849</td>\n",
       "      <td>19.8</td>\n",
       "      <td>1.6</td>\n",
       "      <td>1.3</td>\n",
       "      <td>4908621</td>\n",
       "      <td>Fully Illegal</td>\n",
       "    </tr>\n",
       "    <tr>\n",
       "      <th>8</th>\n",
       "      <td>2017</td>\n",
       "      <td>Alaska</td>\n",
       "      <td>101</td>\n",
       "      <td>79</td>\n",
       "      <td>13.7</td>\n",
       "      <td>1.0</td>\n",
       "      <td>1.4</td>\n",
       "      <td>734002</td>\n",
       "      <td>Fully Legal</td>\n",
       "    </tr>\n",
       "    <tr>\n",
       "      <th>9</th>\n",
       "      <td>2016</td>\n",
       "      <td>Alaska</td>\n",
       "      <td>97</td>\n",
       "      <td>81</td>\n",
       "      <td>13.1</td>\n",
       "      <td>1.0</td>\n",
       "      <td>1.5</td>\n",
       "      <td>734002</td>\n",
       "      <td>Fully Legal</td>\n",
       "    </tr>\n",
       "  </tbody>\n",
       "</table>\n",
       "</div>"
      ],
      "text/plain": [
       "   Year    State  Motor Vehicle Deaths - state of residence  \\\n",
       "0  2017  Alabama                                       1034   \n",
       "1  2016  Alabama                                       1158   \n",
       "2  2015  Alabama                                        962   \n",
       "8  2017   Alaska                                        101   \n",
       "9  2016   Alaska                                         97   \n",
       "\n",
       "   Traffic deaths - state of incident  Deaths  per 100,000 population  \\\n",
       "0                                 948                            21.2   \n",
       "1                                1122                            23.8   \n",
       "2                                 849                            19.8   \n",
       "8                                  79                            13.7   \n",
       "9                                  81                            13.1   \n",
       "\n",
       "   Traffic deaths  per 10,000 motor vehicles  \\\n",
       "0                                        1.9   \n",
       "1                                        2.1   \n",
       "2                                        1.6   \n",
       "8                                        1.0   \n",
       "9                                        1.0   \n",
       "\n",
       "   Traffic deaths - per 100,000,000 vehicle miles      Pop legalWeedStatus  \n",
       "0                                             1.3  4908621   Fully Illegal  \n",
       "1                                             1.6  4908621   Fully Illegal  \n",
       "2                                             1.3  4908621   Fully Illegal  \n",
       "8                                             1.4   734002     Fully Legal  \n",
       "9                                             1.5   734002     Fully Legal  "
      ]
     },
     "execution_count": 15,
     "metadata": {},
     "output_type": "execute_result"
    }
   ],
   "source": [
    "##Join legal status\n",
    "mvr_joined =  mvr_neededyears.join(legal_df.set_index(['State']), on=['State'], how='left')\n",
    "mvr_joined.head()\n",
    "#mvr_status = mvr_joined.drop.na()"
   ]
  },
  {
   "cell_type": "code",
   "execution_count": 16,
   "metadata": {},
   "outputs": [
    {
     "name": "stdout",
     "output_type": "stream",
     "text": [
      "<class 'pandas.core.frame.DataFrame'>\n",
      "Int64Index: 153 entries, 0 to 402\n",
      "Data columns (total 9 columns):\n",
      " #   Column                                          Non-Null Count  Dtype  \n",
      "---  ------                                          --------------  -----  \n",
      " 0   Year                                            153 non-null    int64  \n",
      " 1   State                                           153 non-null    object \n",
      " 2   Motor Vehicle Deaths - state of residence       153 non-null    int64  \n",
      " 3   Traffic deaths - state of incident              153 non-null    int64  \n",
      " 4   Deaths  per 100,000 population                  153 non-null    float64\n",
      " 5   Traffic deaths  per 10,000 motor vehicles       153 non-null    float64\n",
      " 6   Traffic deaths - per 100,000,000 vehicle miles  153 non-null    float64\n",
      " 7   Pop                                             153 non-null    int64  \n",
      " 8   legalWeedStatus                                 153 non-null    object \n",
      "dtypes: float64(3), int64(4), object(2)\n",
      "memory usage: 12.0+ KB\n"
     ]
    }
   ],
   "source": [
    "#drop na\n",
    "mvr_status = mvr_joined.dropna()\n",
    "mvr_status.info()\n"
   ]
  },
  {
   "cell_type": "code",
   "execution_count": 17,
   "metadata": {},
   "outputs": [
    {
     "data": {
      "text/html": [
       "<div>\n",
       "<style scoped>\n",
       "    .dataframe tbody tr th:only-of-type {\n",
       "        vertical-align: middle;\n",
       "    }\n",
       "\n",
       "    .dataframe tbody tr th {\n",
       "        vertical-align: top;\n",
       "    }\n",
       "\n",
       "    .dataframe thead th {\n",
       "        text-align: right;\n",
       "    }\n",
       "</style>\n",
       "<table border=\"1\" class=\"dataframe\">\n",
       "  <thead>\n",
       "    <tr style=\"text-align: right;\">\n",
       "      <th></th>\n",
       "      <th>Year</th>\n",
       "      <th>State</th>\n",
       "      <th>Motor Vehicle Deaths - state of residence</th>\n",
       "      <th>Traffic deaths - state of incident</th>\n",
       "      <th>Deaths  per 100,000 population</th>\n",
       "      <th>Traffic deaths  per 10,000 motor vehicles</th>\n",
       "      <th>Traffic deaths - per 100,000,000 vehicle miles</th>\n",
       "      <th>Pop</th>\n",
       "      <th>legalWeedStatus</th>\n",
       "    </tr>\n",
       "  </thead>\n",
       "  <tbody>\n",
       "    <tr>\n",
       "      <th>0</th>\n",
       "      <td>2017</td>\n",
       "      <td>Alabama</td>\n",
       "      <td>1034</td>\n",
       "      <td>948</td>\n",
       "      <td>21.2</td>\n",
       "      <td>1.9</td>\n",
       "      <td>1.3</td>\n",
       "      <td>4908621</td>\n",
       "      <td>Fully Illegal</td>\n",
       "    </tr>\n",
       "    <tr>\n",
       "      <th>1</th>\n",
       "      <td>2016</td>\n",
       "      <td>Alabama</td>\n",
       "      <td>1158</td>\n",
       "      <td>1122</td>\n",
       "      <td>23.8</td>\n",
       "      <td>2.1</td>\n",
       "      <td>1.6</td>\n",
       "      <td>4908621</td>\n",
       "      <td>Fully Illegal</td>\n",
       "    </tr>\n",
       "    <tr>\n",
       "      <th>2</th>\n",
       "      <td>2015</td>\n",
       "      <td>Alabama</td>\n",
       "      <td>962</td>\n",
       "      <td>849</td>\n",
       "      <td>19.8</td>\n",
       "      <td>1.6</td>\n",
       "      <td>1.3</td>\n",
       "      <td>4908621</td>\n",
       "      <td>Fully Illegal</td>\n",
       "    </tr>\n",
       "  </tbody>\n",
       "</table>\n",
       "</div>"
      ],
      "text/plain": [
       "   Year    State  Motor Vehicle Deaths - state of residence  \\\n",
       "0  2017  Alabama                                       1034   \n",
       "1  2016  Alabama                                       1158   \n",
       "2  2015  Alabama                                        962   \n",
       "\n",
       "   Traffic deaths - state of incident  Deaths  per 100,000 population  \\\n",
       "0                                 948                            21.2   \n",
       "1                                1122                            23.8   \n",
       "2                                 849                            19.8   \n",
       "\n",
       "   Traffic deaths  per 10,000 motor vehicles  \\\n",
       "0                                        1.9   \n",
       "1                                        2.1   \n",
       "2                                        1.6   \n",
       "\n",
       "   Traffic deaths - per 100,000,000 vehicle miles      Pop legalWeedStatus  \n",
       "0                                             1.3  4908621   Fully Illegal  \n",
       "1                                             1.6  4908621   Fully Illegal  \n",
       "2                                             1.3  4908621   Fully Illegal  "
      ]
     },
     "execution_count": 17,
     "metadata": {},
     "output_type": "execute_result"
    }
   ],
   "source": [
    "mvr_status.head(3)"
   ]
  },
  {
   "cell_type": "code",
   "execution_count": 18,
   "metadata": {},
   "outputs": [
    {
     "name": "stdout",
     "output_type": "stream",
     "text": [
      "<class 'pandas.core.frame.DataFrame'>\n",
      "Int64Index: 153 entries, 0 to 402\n",
      "Data columns (total 4 columns):\n",
      " #   Column           Non-Null Count  Dtype \n",
      "---  ------           --------------  ----- \n",
      " 0   Year             153 non-null    int64 \n",
      " 1   State            153 non-null    object\n",
      " 2   MV_Deaths        153 non-null    int64 \n",
      " 3   legalWeedStatus  153 non-null    object\n",
      "dtypes: int64(2), object(2)\n",
      "memory usage: 6.0+ KB\n"
     ]
    }
   ],
   "source": [
    "###Dropping all columuns I don't need\n",
    "mvr_state_yr = mvr_status.drop(columns=[\"Deaths  per 100,000 population\",\"Motor Vehicle Deaths - state of residence\",\"Traffic deaths  per 10,000 motor vehicles\",\"Traffic deaths - per 100,000,000 vehicle miles\",\"Pop\"])\n",
    "###Rename traffic deaths\n",
    "mvr_state_yr = mvr_state_yr.rename(columns={\"Traffic deaths - state of incident\":\"MV_Deaths\"})\n",
    "mvr_state_yr.info()  "
   ]
  },
  {
   "cell_type": "code",
   "execution_count": 19,
   "metadata": {},
   "outputs": [
    {
     "name": "stdout",
     "output_type": "stream",
     "text": [
      "<class 'pandas.core.frame.DataFrame'>\n",
      "RangeIndex: 28224 entries, 0 to 28223\n",
      "Data columns (total 12 columns):\n",
      " #   Column                         Non-Null Count  Dtype  \n",
      "---  ------                         --------------  -----  \n",
      " 0   State                          28224 non-null  object \n",
      " 1   Year                           28224 non-null  int64  \n",
      " 2   Month                          28224 non-null  object \n",
      " 3   Period                         28224 non-null  object \n",
      " 4   Indicator                      28224 non-null  object \n",
      " 5   Data Value                     22892 non-null  float64\n",
      " 6   Percent Complete               28224 non-null  object \n",
      " 7   Percent Pending Investigation  28224 non-null  float64\n",
      " 8   State Name                     28224 non-null  object \n",
      " 9   Footnote                       28224 non-null  object \n",
      " 10  Footnote Symbol                28224 non-null  object \n",
      " 11  Predicted Value                17345 non-null  object \n",
      "dtypes: float64(2), int64(1), object(9)\n",
      "memory usage: 2.6+ MB\n"
     ]
    }
   ],
   "source": [
    "####Overdose info\n",
    "overdose_df.info()"
   ]
  },
  {
   "cell_type": "code",
   "execution_count": 20,
   "metadata": {},
   "outputs": [],
   "source": [
    "####Initial filter####"
   ]
  },
  {
   "cell_type": "code",
   "execution_count": 21,
   "metadata": {},
   "outputs": [
    {
     "name": "stdout",
     "output_type": "stream",
     "text": [
      "<class 'pandas.core.frame.DataFrame'>\n",
      "Int64Index: 18144 entries, 0 to 27983\n",
      "Data columns (total 6 columns):\n",
      " #   Column           Non-Null Count  Dtype  \n",
      "---  ------           --------------  -----  \n",
      " 0   Year             18144 non-null  int64  \n",
      " 1   Month            18144 non-null  object \n",
      " 2   Indicator        18144 non-null  object \n",
      " 3   Data Value       13702 non-null  float64\n",
      " 4   State Name       18144 non-null  object \n",
      " 5   legalWeedStatus  18144 non-null  object \n",
      "dtypes: float64(1), int64(1), object(4)\n",
      "memory usage: 992.2+ KB\n"
     ]
    }
   ],
   "source": [
    "###filter clean to only columns I need\n",
    "\n",
    "##od to the same years as mvr\n",
    "overdose = overdose_df[overdose_df.Year.isin(years)]\n",
    "#states, indicator, year\n",
    "od_drop_df_na = overdose.drop(columns=[\"Period\",\"State\",\"Percent Complete\",\"Percent Pending Investigation\",\"Footnote\",\"Footnote Symbol\",\"Footnote Symbol\",\"Predicted Value\"])\n",
    "#drop nan\n",
    "od_df = od_drop_df_na.dropna()\n",
    "\n",
    "\n",
    "###join the status\n",
    "od_df = od_drop_df_na.join(legal_mapdf.set_index(['State']), on=['State Name'],how='left')\n",
    "od_df.info()\n"
   ]
  },
  {
   "cell_type": "code",
   "execution_count": 22,
   "metadata": {},
   "outputs": [],
   "source": [
    "###Sum up by month"
   ]
  },
  {
   "cell_type": "code",
   "execution_count": 23,
   "metadata": {},
   "outputs": [
    {
     "name": "stdout",
     "output_type": "stream",
     "text": [
      "<class 'pandas.core.frame.DataFrame'>\n",
      "Int64Index: 1836 entries, 4 to 27977\n",
      "Data columns (total 5 columns):\n",
      " #   Column           Non-Null Count  Dtype  \n",
      "---  ------           --------------  -----  \n",
      " 0   Year             1836 non-null   int64  \n",
      " 1   Month            1836 non-null   object \n",
      " 2   Data Value       1836 non-null   float64\n",
      " 3   State Name       1836 non-null   object \n",
      " 4   legalWeedStatus  1836 non-null   object \n",
      "dtypes: float64(1), int64(1), object(3)\n",
      "memory usage: 86.1+ KB\n"
     ]
    }
   ],
   "source": [
    "####First filtor to needed indicators\n",
    "totaldeaths1 = od_df[od_df['Indicator']=='Number of Deaths']\n",
    "totaldeaths =  totaldeaths1.drop(columns=['Indicator'])\n",
    "totaldeaths.dropna()\n",
    "totaldeaths.info()\n"
   ]
  },
  {
   "cell_type": "code",
   "execution_count": 24,
   "metadata": {},
   "outputs": [],
   "source": [
    "#Change name of Colum for death counts"
   ]
  },
  {
   "cell_type": "code",
   "execution_count": 25,
   "metadata": {},
   "outputs": [
    {
     "data": {
      "text/html": [
       "<div>\n",
       "<style scoped>\n",
       "    .dataframe tbody tr th:only-of-type {\n",
       "        vertical-align: middle;\n",
       "    }\n",
       "\n",
       "    .dataframe tbody tr th {\n",
       "        vertical-align: top;\n",
       "    }\n",
       "\n",
       "    .dataframe thead th {\n",
       "        text-align: right;\n",
       "    }\n",
       "</style>\n",
       "<table border=\"1\" class=\"dataframe\">\n",
       "  <thead>\n",
       "    <tr style=\"text-align: right;\">\n",
       "      <th></th>\n",
       "      <th>Year</th>\n",
       "      <th>Month</th>\n",
       "      <th>Total_Deaths</th>\n",
       "      <th>State Name</th>\n",
       "      <th>legalWeedStatus</th>\n",
       "    </tr>\n",
       "  </thead>\n",
       "  <tbody>\n",
       "    <tr>\n",
       "      <th>4</th>\n",
       "      <td>2015</td>\n",
       "      <td>April</td>\n",
       "      <td>4133.0</td>\n",
       "      <td>Alaska</td>\n",
       "      <td>Fully Legal</td>\n",
       "    </tr>\n",
       "    <tr>\n",
       "      <th>16</th>\n",
       "      <td>2015</td>\n",
       "      <td>August</td>\n",
       "      <td>4222.0</td>\n",
       "      <td>Alaska</td>\n",
       "      <td>Fully Legal</td>\n",
       "    </tr>\n",
       "    <tr>\n",
       "      <th>30</th>\n",
       "      <td>2015</td>\n",
       "      <td>December</td>\n",
       "      <td>4193.0</td>\n",
       "      <td>Alaska</td>\n",
       "      <td>Fully Legal</td>\n",
       "    </tr>\n",
       "    <tr>\n",
       "      <th>45</th>\n",
       "      <td>2015</td>\n",
       "      <td>February</td>\n",
       "      <td>4084.0</td>\n",
       "      <td>Alaska</td>\n",
       "      <td>Fully Legal</td>\n",
       "    </tr>\n",
       "    <tr>\n",
       "      <th>49</th>\n",
       "      <td>2015</td>\n",
       "      <td>January</td>\n",
       "      <td>4034.0</td>\n",
       "      <td>Alaska</td>\n",
       "      <td>Fully Legal</td>\n",
       "    </tr>\n",
       "  </tbody>\n",
       "</table>\n",
       "</div>"
      ],
      "text/plain": [
       "    Year     Month  Total_Deaths State Name legalWeedStatus\n",
       "4   2015     April        4133.0     Alaska     Fully Legal\n",
       "16  2015    August        4222.0     Alaska     Fully Legal\n",
       "30  2015  December        4193.0     Alaska     Fully Legal\n",
       "45  2015  February        4084.0     Alaska     Fully Legal\n",
       "49  2015   January        4034.0     Alaska     Fully Legal"
      ]
     },
     "execution_count": 25,
     "metadata": {},
     "output_type": "execute_result"
    }
   ],
   "source": [
    "#rename column name\n",
    "totaldeaths = totaldeaths.rename(columns={\"Data Value\":\"Total_Deaths\"})\n",
    "\n",
    "totaldeaths.head()"
   ]
  },
  {
   "cell_type": "code",
   "execution_count": 26,
   "metadata": {},
   "outputs": [],
   "source": [
    "##sum by year and state"
   ]
  },
  {
   "cell_type": "code",
   "execution_count": 27,
   "metadata": {},
   "outputs": [
    {
     "data": {
      "text/html": [
       "<div>\n",
       "<style scoped>\n",
       "    .dataframe tbody tr th:only-of-type {\n",
       "        vertical-align: middle;\n",
       "    }\n",
       "\n",
       "    .dataframe tbody tr th {\n",
       "        vertical-align: top;\n",
       "    }\n",
       "\n",
       "    .dataframe thead th {\n",
       "        text-align: right;\n",
       "    }\n",
       "</style>\n",
       "<table border=\"1\" class=\"dataframe\">\n",
       "  <thead>\n",
       "    <tr style=\"text-align: right;\">\n",
       "      <th></th>\n",
       "      <th>State Name</th>\n",
       "      <th>Year</th>\n",
       "      <th>Total_Deaths</th>\n",
       "    </tr>\n",
       "  </thead>\n",
       "  <tbody>\n",
       "    <tr>\n",
       "      <th>0</th>\n",
       "      <td>Alabama</td>\n",
       "      <td>2015</td>\n",
       "      <td>607641.0</td>\n",
       "    </tr>\n",
       "    <tr>\n",
       "      <th>1</th>\n",
       "      <td>Alabama</td>\n",
       "      <td>2016</td>\n",
       "      <td>608611.0</td>\n",
       "    </tr>\n",
       "    <tr>\n",
       "      <th>2</th>\n",
       "      <td>Alabama</td>\n",
       "      <td>2017</td>\n",
       "      <td>623769.0</td>\n",
       "    </tr>\n",
       "    <tr>\n",
       "      <th>3</th>\n",
       "      <td>Alaska</td>\n",
       "      <td>2015</td>\n",
       "      <td>50086.0</td>\n",
       "    </tr>\n",
       "    <tr>\n",
       "      <th>4</th>\n",
       "      <td>Alaska</td>\n",
       "      <td>2016</td>\n",
       "      <td>51141.0</td>\n",
       "    </tr>\n",
       "  </tbody>\n",
       "</table>\n",
       "</div>"
      ],
      "text/plain": [
       "  State Name  Year  Total_Deaths\n",
       "0    Alabama  2015      607641.0\n",
       "1    Alabama  2016      608611.0\n",
       "2    Alabama  2017      623769.0\n",
       "3     Alaska  2015       50086.0\n",
       "4     Alaska  2016       51141.0"
      ]
     },
     "execution_count": 27,
     "metadata": {},
     "output_type": "execute_result"
    }
   ],
   "source": [
    "Deaths_yr_states = totaldeaths.groupby(['State Name','Year'])['Total_Deaths'].sum().reset_index()\n",
    "Deaths_yr_states.head()"
   ]
  },
  {
   "cell_type": "code",
   "execution_count": 28,
   "metadata": {},
   "outputs": [],
   "source": [
    "################OD sum"
   ]
  },
  {
   "cell_type": "code",
   "execution_count": 29,
   "metadata": {},
   "outputs": [
    {
     "name": "stdout",
     "output_type": "stream",
     "text": [
      "<class 'pandas.core.frame.DataFrame'>\n",
      "Int64Index: 1836 entries, 0 to 27978\n",
      "Data columns (total 5 columns):\n",
      " #   Column           Non-Null Count  Dtype  \n",
      "---  ------           --------------  -----  \n",
      " 0   Year             1836 non-null   int64  \n",
      " 1   Month            1836 non-null   object \n",
      " 2   Data Value       1836 non-null   float64\n",
      " 3   State Name       1836 non-null   object \n",
      " 4   legalWeedStatus  1836 non-null   object \n",
      "dtypes: float64(1), int64(1), object(3)\n",
      "memory usage: 86.1+ KB\n"
     ]
    }
   ],
   "source": [
    "#Filter to OD\n",
    "OD1 = od_df[od_df['Indicator']=='Number of Drug Overdose Deaths']\n",
    "totalod =  OD1.drop(columns=['Indicator'])\n",
    "totalod.dropna()\n",
    "totalod.info()"
   ]
  },
  {
   "cell_type": "code",
   "execution_count": 30,
   "metadata": {},
   "outputs": [
    {
     "data": {
      "text/html": [
       "<div>\n",
       "<style scoped>\n",
       "    .dataframe tbody tr th:only-of-type {\n",
       "        vertical-align: middle;\n",
       "    }\n",
       "\n",
       "    .dataframe tbody tr th {\n",
       "        vertical-align: top;\n",
       "    }\n",
       "\n",
       "    .dataframe thead th {\n",
       "        text-align: right;\n",
       "    }\n",
       "</style>\n",
       "<table border=\"1\" class=\"dataframe\">\n",
       "  <thead>\n",
       "    <tr style=\"text-align: right;\">\n",
       "      <th></th>\n",
       "      <th>Year</th>\n",
       "      <th>Month</th>\n",
       "      <th>Total_OD_Deaths</th>\n",
       "      <th>State Name</th>\n",
       "      <th>legalWeedStatus</th>\n",
       "    </tr>\n",
       "  </thead>\n",
       "  <tbody>\n",
       "    <tr>\n",
       "      <th>0</th>\n",
       "      <td>2015</td>\n",
       "      <td>April</td>\n",
       "      <td>126.0</td>\n",
       "      <td>Alaska</td>\n",
       "      <td>Fully Legal</td>\n",
       "    </tr>\n",
       "    <tr>\n",
       "      <th>17</th>\n",
       "      <td>2015</td>\n",
       "      <td>August</td>\n",
       "      <td>124.0</td>\n",
       "      <td>Alaska</td>\n",
       "      <td>Fully Legal</td>\n",
       "    </tr>\n",
       "    <tr>\n",
       "      <th>25</th>\n",
       "      <td>2015</td>\n",
       "      <td>December</td>\n",
       "      <td>121.0</td>\n",
       "      <td>Alaska</td>\n",
       "      <td>Fully Legal</td>\n",
       "    </tr>\n",
       "    <tr>\n",
       "      <th>40</th>\n",
       "      <td>2015</td>\n",
       "      <td>February</td>\n",
       "      <td>127.0</td>\n",
       "      <td>Alaska</td>\n",
       "      <td>Fully Legal</td>\n",
       "    </tr>\n",
       "    <tr>\n",
       "      <th>50</th>\n",
       "      <td>2015</td>\n",
       "      <td>January</td>\n",
       "      <td>126.0</td>\n",
       "      <td>Alaska</td>\n",
       "      <td>Fully Legal</td>\n",
       "    </tr>\n",
       "  </tbody>\n",
       "</table>\n",
       "</div>"
      ],
      "text/plain": [
       "    Year     Month  Total_OD_Deaths State Name legalWeedStatus\n",
       "0   2015     April            126.0     Alaska     Fully Legal\n",
       "17  2015    August            124.0     Alaska     Fully Legal\n",
       "25  2015  December            121.0     Alaska     Fully Legal\n",
       "40  2015  February            127.0     Alaska     Fully Legal\n",
       "50  2015   January            126.0     Alaska     Fully Legal"
      ]
     },
     "execution_count": 30,
     "metadata": {},
     "output_type": "execute_result"
    }
   ],
   "source": [
    "#rename column name\n",
    "totalod = totalod.rename(columns={\"Data Value\":\"Total_OD_Deaths\"})\n",
    "\n",
    "totalod.head()"
   ]
  },
  {
   "cell_type": "code",
   "execution_count": 31,
   "metadata": {},
   "outputs": [
    {
     "data": {
      "text/html": [
       "<div>\n",
       "<style scoped>\n",
       "    .dataframe tbody tr th:only-of-type {\n",
       "        vertical-align: middle;\n",
       "    }\n",
       "\n",
       "    .dataframe tbody tr th {\n",
       "        vertical-align: top;\n",
       "    }\n",
       "\n",
       "    .dataframe thead th {\n",
       "        text-align: right;\n",
       "    }\n",
       "</style>\n",
       "<table border=\"1\" class=\"dataframe\">\n",
       "  <thead>\n",
       "    <tr style=\"text-align: right;\">\n",
       "      <th></th>\n",
       "      <th>State Name</th>\n",
       "      <th>Year</th>\n",
       "      <th>Total_OD_Deaths</th>\n",
       "    </tr>\n",
       "  </thead>\n",
       "  <tbody>\n",
       "    <tr>\n",
       "      <th>0</th>\n",
       "      <td>Alabama</td>\n",
       "      <td>2015</td>\n",
       "      <td>8818.0</td>\n",
       "    </tr>\n",
       "    <tr>\n",
       "      <th>1</th>\n",
       "      <td>Alabama</td>\n",
       "      <td>2016</td>\n",
       "      <td>8324.0</td>\n",
       "    </tr>\n",
       "    <tr>\n",
       "      <th>2</th>\n",
       "      <td>Alabama</td>\n",
       "      <td>2017</td>\n",
       "      <td>9551.0</td>\n",
       "    </tr>\n",
       "    <tr>\n",
       "      <th>3</th>\n",
       "      <td>Alaska</td>\n",
       "      <td>2015</td>\n",
       "      <td>1472.0</td>\n",
       "    </tr>\n",
       "    <tr>\n",
       "      <th>4</th>\n",
       "      <td>Alaska</td>\n",
       "      <td>2016</td>\n",
       "      <td>1594.0</td>\n",
       "    </tr>\n",
       "  </tbody>\n",
       "</table>\n",
       "</div>"
      ],
      "text/plain": [
       "  State Name  Year  Total_OD_Deaths\n",
       "0    Alabama  2015           8818.0\n",
       "1    Alabama  2016           8324.0\n",
       "2    Alabama  2017           9551.0\n",
       "3     Alaska  2015           1472.0\n",
       "4     Alaska  2016           1594.0"
      ]
     },
     "execution_count": 31,
     "metadata": {},
     "output_type": "execute_result"
    }
   ],
   "source": [
    "#sum by state year and status\n",
    "od_yr_states = totalod.groupby(['State Name','Year'])['Total_OD_Deaths'].sum().reset_index()\n",
    "od_yr_states.head()"
   ]
  },
  {
   "cell_type": "code",
   "execution_count": 32,
   "metadata": {},
   "outputs": [],
   "source": [
    "##sum by year legal\n",
    "#od_status_year = totalod.groupby(['legalWeedStatus','Year'])['Total_OD_Deaths'].sum().reset_index()\n",
    "#od_status_year.info()"
   ]
  },
  {
   "cell_type": "code",
   "execution_count": 33,
   "metadata": {},
   "outputs": [
    {
     "name": "stdout",
     "output_type": "stream",
     "text": [
      "<class 'pandas.core.frame.DataFrame'>\n",
      "RangeIndex: 153 entries, 0 to 152\n",
      "Data columns (total 3 columns):\n",
      " #   Column        Non-Null Count  Dtype  \n",
      "---  ------        --------------  -----  \n",
      " 0   State Name    153 non-null    object \n",
      " 1   Year          153 non-null    int64  \n",
      " 2   Total_Deaths  153 non-null    float64\n",
      "dtypes: float64(1), int64(1), object(1)\n",
      "memory usage: 3.7+ KB\n"
     ]
    }
   ],
   "source": [
    "####OD and deaths\n",
    "Deaths_yr_states.info()"
   ]
  },
  {
   "cell_type": "code",
   "execution_count": 34,
   "metadata": {},
   "outputs": [
    {
     "name": "stdout",
     "output_type": "stream",
     "text": [
      "<class 'pandas.core.frame.DataFrame'>\n",
      "Int64Index: 153 entries, 0 to 402\n",
      "Data columns (total 4 columns):\n",
      " #   Column           Non-Null Count  Dtype \n",
      "---  ------           --------------  ----- \n",
      " 0   Year             153 non-null    int64 \n",
      " 1   State            153 non-null    object\n",
      " 2   MV_Deaths        153 non-null    int64 \n",
      " 3   legalWeedStatus  153 non-null    object\n",
      "dtypes: int64(2), object(2)\n",
      "memory usage: 6.0+ KB\n"
     ]
    }
   ],
   "source": [
    "mvr_state_yr.info()"
   ]
  },
  {
   "cell_type": "code",
   "execution_count": 35,
   "metadata": {},
   "outputs": [
    {
     "name": "stdout",
     "output_type": "stream",
     "text": [
      "<class 'pandas.core.frame.DataFrame'>\n",
      "RangeIndex: 153 entries, 0 to 152\n",
      "Data columns (total 3 columns):\n",
      " #   Column           Non-Null Count  Dtype  \n",
      "---  ------           --------------  -----  \n",
      " 0   State Name       153 non-null    object \n",
      " 1   Year             153 non-null    int64  \n",
      " 2   Total_OD_Deaths  153 non-null    float64\n",
      "dtypes: float64(1), int64(1), object(1)\n",
      "memory usage: 3.7+ KB\n"
     ]
    }
   ],
   "source": [
    "od_yr_states.info()"
   ]
  },
  {
   "cell_type": "code",
   "execution_count": 36,
   "metadata": {},
   "outputs": [],
   "source": [
    "####State Year\n",
    "\n",
    "State_year = mvr_state_yr.join(Deaths_yr_states.set_index(['Year','State Name']),on=['Year','State'],how='left')\n",
    "###Add #OD\n",
    "State_year_counts = State_year.join(od_yr_states.set_index(['Year','State Name']),on=['Year','State'],how='left')\n"
   ]
  },
  {
   "cell_type": "code",
   "execution_count": 37,
   "metadata": {},
   "outputs": [
    {
     "data": {
      "text/html": [
       "<div>\n",
       "<style scoped>\n",
       "    .dataframe tbody tr th:only-of-type {\n",
       "        vertical-align: middle;\n",
       "    }\n",
       "\n",
       "    .dataframe tbody tr th {\n",
       "        vertical-align: top;\n",
       "    }\n",
       "\n",
       "    .dataframe thead th {\n",
       "        text-align: right;\n",
       "    }\n",
       "</style>\n",
       "<table border=\"1\" class=\"dataframe\">\n",
       "  <thead>\n",
       "    <tr style=\"text-align: right;\">\n",
       "      <th></th>\n",
       "      <th>Year</th>\n",
       "      <th>State</th>\n",
       "      <th>MV_Deaths</th>\n",
       "      <th>legalWeedStatus</th>\n",
       "      <th>Total_Deaths</th>\n",
       "      <th>Total_OD_Deaths</th>\n",
       "    </tr>\n",
       "  </thead>\n",
       "  <tbody>\n",
       "    <tr>\n",
       "      <th>0</th>\n",
       "      <td>2017</td>\n",
       "      <td>Alabama</td>\n",
       "      <td>948</td>\n",
       "      <td>Fully Illegal</td>\n",
       "      <td>623769.0</td>\n",
       "      <td>9551.0</td>\n",
       "    </tr>\n",
       "    <tr>\n",
       "      <th>1</th>\n",
       "      <td>2016</td>\n",
       "      <td>Alabama</td>\n",
       "      <td>1122</td>\n",
       "      <td>Fully Illegal</td>\n",
       "      <td>608611.0</td>\n",
       "      <td>8324.0</td>\n",
       "    </tr>\n",
       "    <tr>\n",
       "      <th>2</th>\n",
       "      <td>2015</td>\n",
       "      <td>Alabama</td>\n",
       "      <td>849</td>\n",
       "      <td>Fully Illegal</td>\n",
       "      <td>607641.0</td>\n",
       "      <td>8818.0</td>\n",
       "    </tr>\n",
       "    <tr>\n",
       "      <th>8</th>\n",
       "      <td>2017</td>\n",
       "      <td>Alaska</td>\n",
       "      <td>79</td>\n",
       "      <td>Fully Legal</td>\n",
       "      <td>51597.0</td>\n",
       "      <td>1571.0</td>\n",
       "    </tr>\n",
       "    <tr>\n",
       "      <th>9</th>\n",
       "      <td>2016</td>\n",
       "      <td>Alaska</td>\n",
       "      <td>81</td>\n",
       "      <td>Fully Legal</td>\n",
       "      <td>51141.0</td>\n",
       "      <td>1594.0</td>\n",
       "    </tr>\n",
       "  </tbody>\n",
       "</table>\n",
       "</div>"
      ],
      "text/plain": [
       "   Year    State  MV_Deaths legalWeedStatus  Total_Deaths  Total_OD_Deaths\n",
       "0  2017  Alabama        948   Fully Illegal      623769.0           9551.0\n",
       "1  2016  Alabama       1122   Fully Illegal      608611.0           8324.0\n",
       "2  2015  Alabama        849   Fully Illegal      607641.0           8818.0\n",
       "8  2017   Alaska         79     Fully Legal       51597.0           1571.0\n",
       "9  2016   Alaska         81     Fully Legal       51141.0           1594.0"
      ]
     },
     "execution_count": 37,
     "metadata": {},
     "output_type": "execute_result"
    }
   ],
   "source": [
    "State_year_counts.head()"
   ]
  },
  {
   "cell_type": "code",
   "execution_count": 38,
   "metadata": {},
   "outputs": [
    {
     "data": {
      "text/html": [
       "<div>\n",
       "<style scoped>\n",
       "    .dataframe tbody tr th:only-of-type {\n",
       "        vertical-align: middle;\n",
       "    }\n",
       "\n",
       "    .dataframe tbody tr th {\n",
       "        vertical-align: top;\n",
       "    }\n",
       "\n",
       "    .dataframe thead th {\n",
       "        text-align: right;\n",
       "    }\n",
       "</style>\n",
       "<table border=\"1\" class=\"dataframe\">\n",
       "  <thead>\n",
       "    <tr style=\"text-align: right;\">\n",
       "      <th></th>\n",
       "      <th>legalWeedStatus</th>\n",
       "      <th>Year</th>\n",
       "      <th>MV_Deaths</th>\n",
       "      <th>Total_Deaths</th>\n",
       "      <th>Total_OD_Deaths</th>\n",
       "    </tr>\n",
       "  </thead>\n",
       "  <tbody>\n",
       "    <tr>\n",
       "      <th>0</th>\n",
       "      <td>Fully Illegal</td>\n",
       "      <td>72576</td>\n",
       "      <td>23051</td>\n",
       "      <td>16442563.0</td>\n",
       "      <td>303403.0</td>\n",
       "    </tr>\n",
       "    <tr>\n",
       "      <th>1</th>\n",
       "      <td>Fully Legal</td>\n",
       "      <td>66528</td>\n",
       "      <td>21676</td>\n",
       "      <td>21482996.0</td>\n",
       "      <td>462863.0</td>\n",
       "    </tr>\n",
       "    <tr>\n",
       "      <th>2</th>\n",
       "      <td>Mixed</td>\n",
       "      <td>169344</td>\n",
       "      <td>66246</td>\n",
       "      <td>58663863.0</td>\n",
       "      <td>1314549.0</td>\n",
       "    </tr>\n",
       "  </tbody>\n",
       "</table>\n",
       "</div>"
      ],
      "text/plain": [
       "  legalWeedStatus    Year  MV_Deaths  Total_Deaths  Total_OD_Deaths\n",
       "0   Fully Illegal   72576      23051    16442563.0         303403.0\n",
       "1     Fully Legal   66528      21676    21482996.0         462863.0\n",
       "2           Mixed  169344      66246    58663863.0        1314549.0"
      ]
     },
     "execution_count": 38,
     "metadata": {},
     "output_type": "execute_result"
    }
   ],
   "source": [
    "##sum by year legal\n",
    "Status_Counts =State_year_counts.groupby(['legalWeedStatus']).sum().reset_index()\n",
    "Status_Counts.head()\n"
   ]
  },
  {
   "cell_type": "code",
   "execution_count": 44,
   "metadata": {},
   "outputs": [
    {
     "data": {
      "text/html": [
       "<div>\n",
       "<style scoped>\n",
       "    .dataframe tbody tr th:only-of-type {\n",
       "        vertical-align: middle;\n",
       "    }\n",
       "\n",
       "    .dataframe tbody tr th {\n",
       "        vertical-align: top;\n",
       "    }\n",
       "\n",
       "    .dataframe thead th {\n",
       "        text-align: right;\n",
       "    }\n",
       "</style>\n",
       "<table border=\"1\" class=\"dataframe\">\n",
       "  <thead>\n",
       "    <tr style=\"text-align: right;\">\n",
       "      <th></th>\n",
       "      <th>legalWeedStatus</th>\n",
       "      <th>State</th>\n",
       "      <th>MV_Deaths</th>\n",
       "      <th>Total_Deaths</th>\n",
       "      <th>Total_OD_Deaths</th>\n",
       "      <th>OverdosePercent</th>\n",
       "      <th>MVPercent</th>\n",
       "    </tr>\n",
       "  </thead>\n",
       "  <tbody>\n",
       "    <tr>\n",
       "      <th>0</th>\n",
       "      <td>Fully Illegal</td>\n",
       "      <td>Alabama</td>\n",
       "      <td>2919</td>\n",
       "      <td>1840021.0</td>\n",
       "      <td>26693.0</td>\n",
       "      <td>0.014507</td>\n",
       "      <td>0.001586</td>\n",
       "    </tr>\n",
       "    <tr>\n",
       "      <th>1</th>\n",
       "      <td>Fully Illegal</td>\n",
       "      <td>Idaho</td>\n",
       "      <td>726</td>\n",
       "      <td>475742.0</td>\n",
       "      <td>8000.0</td>\n",
       "      <td>0.016816</td>\n",
       "      <td>0.001526</td>\n",
       "    </tr>\n",
       "    <tr>\n",
       "      <th>2</th>\n",
       "      <td>Fully Illegal</td>\n",
       "      <td>Kansas</td>\n",
       "      <td>1231</td>\n",
       "      <td>925159.0</td>\n",
       "      <td>11471.0</td>\n",
       "      <td>0.012399</td>\n",
       "      <td>0.001331</td>\n",
       "    </tr>\n",
       "    <tr>\n",
       "      <th>3</th>\n",
       "      <td>Fully Illegal</td>\n",
       "      <td>Kentucky</td>\n",
       "      <td>2349</td>\n",
       "      <td>1685606.0</td>\n",
       "      <td>49178.0</td>\n",
       "      <td>0.029175</td>\n",
       "      <td>0.001394</td>\n",
       "    </tr>\n",
       "    <tr>\n",
       "      <th>4</th>\n",
       "      <td>Fully Illegal</td>\n",
       "      <td>Mississippi</td>\n",
       "      <td>2104</td>\n",
       "      <td>1110201.0</td>\n",
       "      <td>11751.0</td>\n",
       "      <td>0.010585</td>\n",
       "      <td>0.001895</td>\n",
       "    </tr>\n",
       "  </tbody>\n",
       "</table>\n",
       "</div>"
      ],
      "text/plain": [
       "  legalWeedStatus        State  MV_Deaths  Total_Deaths  Total_OD_Deaths  \\\n",
       "0   Fully Illegal      Alabama       2919     1840021.0          26693.0   \n",
       "1   Fully Illegal        Idaho        726      475742.0           8000.0   \n",
       "2   Fully Illegal       Kansas       1231      925159.0          11471.0   \n",
       "3   Fully Illegal     Kentucky       2349     1685606.0          49178.0   \n",
       "4   Fully Illegal  Mississippi       2104     1110201.0          11751.0   \n",
       "\n",
       "   OverdosePercent  MVPercent  \n",
       "0         0.014507   0.001586  \n",
       "1         0.016816   0.001526  \n",
       "2         0.012399   0.001331  \n",
       "3         0.029175   0.001394  \n",
       "4         0.010585   0.001895  "
      ]
     },
     "execution_count": 44,
     "metadata": {},
     "output_type": "execute_result"
    }
   ],
   "source": [
    "##sum by year legal\n",
    "State_Counts =State_year_counts.groupby(['legalWeedStatus','State']).sum().reset_index()\n",
    "State_Counts = State_Counts.drop(columns=['Year'])\n",
    "State_Counts['OverdosePercent'] = State_Counts['Total_OD_Deaths']/State_Counts['Total_Deaths']\n",
    "State_Counts['MVPercent'] = State_Counts['MV_Deaths']/State_Counts['Total_Deaths']\n",
    "State_Counts.head()"
   ]
  },
  {
   "cell_type": "code",
   "execution_count": 45,
   "metadata": {},
   "outputs": [
    {
     "data": {
      "text/html": [
       "<div>\n",
       "<style scoped>\n",
       "    .dataframe tbody tr th:only-of-type {\n",
       "        vertical-align: middle;\n",
       "    }\n",
       "\n",
       "    .dataframe tbody tr th {\n",
       "        vertical-align: top;\n",
       "    }\n",
       "\n",
       "    .dataframe thead th {\n",
       "        text-align: right;\n",
       "    }\n",
       "</style>\n",
       "<table border=\"1\" class=\"dataframe\">\n",
       "  <thead>\n",
       "    <tr style=\"text-align: right;\">\n",
       "      <th></th>\n",
       "      <th>legalWeedStatus</th>\n",
       "      <th>State</th>\n",
       "      <th>Year</th>\n",
       "      <th>MV_Deaths</th>\n",
       "      <th>Total_Deaths</th>\n",
       "      <th>Total_OD_Deaths</th>\n",
       "      <th>OverdosePercent</th>\n",
       "      <th>MVPercent</th>\n",
       "    </tr>\n",
       "  </thead>\n",
       "  <tbody>\n",
       "    <tr>\n",
       "      <th>0</th>\n",
       "      <td>Fully Illegal</td>\n",
       "      <td>Alabama</td>\n",
       "      <td>2015</td>\n",
       "      <td>849</td>\n",
       "      <td>607641.0</td>\n",
       "      <td>8818.0</td>\n",
       "      <td>0.014512</td>\n",
       "      <td>0.001397</td>\n",
       "    </tr>\n",
       "    <tr>\n",
       "      <th>1</th>\n",
       "      <td>Fully Illegal</td>\n",
       "      <td>Alabama</td>\n",
       "      <td>2016</td>\n",
       "      <td>1122</td>\n",
       "      <td>608611.0</td>\n",
       "      <td>8324.0</td>\n",
       "      <td>0.013677</td>\n",
       "      <td>0.001844</td>\n",
       "    </tr>\n",
       "    <tr>\n",
       "      <th>2</th>\n",
       "      <td>Fully Illegal</td>\n",
       "      <td>Alabama</td>\n",
       "      <td>2017</td>\n",
       "      <td>948</td>\n",
       "      <td>623769.0</td>\n",
       "      <td>9551.0</td>\n",
       "      <td>0.015312</td>\n",
       "      <td>0.001520</td>\n",
       "    </tr>\n",
       "    <tr>\n",
       "      <th>3</th>\n",
       "      <td>Fully Illegal</td>\n",
       "      <td>Idaho</td>\n",
       "      <td>2015</td>\n",
       "      <td>216</td>\n",
       "      <td>153781.0</td>\n",
       "      <td>2570.0</td>\n",
       "      <td>0.016712</td>\n",
       "      <td>0.001405</td>\n",
       "    </tr>\n",
       "    <tr>\n",
       "      <th>4</th>\n",
       "      <td>Fully Illegal</td>\n",
       "      <td>Idaho</td>\n",
       "      <td>2016</td>\n",
       "      <td>266</td>\n",
       "      <td>157810.0</td>\n",
       "      <td>2623.0</td>\n",
       "      <td>0.016621</td>\n",
       "      <td>0.001686</td>\n",
       "    </tr>\n",
       "  </tbody>\n",
       "</table>\n",
       "</div>"
      ],
      "text/plain": [
       "  legalWeedStatus    State  Year  MV_Deaths  Total_Deaths  Total_OD_Deaths  \\\n",
       "0   Fully Illegal  Alabama  2015        849      607641.0           8818.0   \n",
       "1   Fully Illegal  Alabama  2016       1122      608611.0           8324.0   \n",
       "2   Fully Illegal  Alabama  2017        948      623769.0           9551.0   \n",
       "3   Fully Illegal    Idaho  2015        216      153781.0           2570.0   \n",
       "4   Fully Illegal    Idaho  2016        266      157810.0           2623.0   \n",
       "\n",
       "   OverdosePercent  MVPercent  \n",
       "0         0.014512   0.001397  \n",
       "1         0.013677   0.001844  \n",
       "2         0.015312   0.001520  \n",
       "3         0.016712   0.001405  \n",
       "4         0.016621   0.001686  "
      ]
     },
     "execution_count": 45,
     "metadata": {},
     "output_type": "execute_result"
    }
   ],
   "source": [
    "##sum by year legal\n",
    "State_year =State_year_counts.groupby(['legalWeedStatus','State','Year']).sum().reset_index()\n",
    "#State_year = State_Counts.drop(columns=['Year'])\n",
    "State_year['OverdosePercent'] = State_year['Total_OD_Deaths']/State_year['Total_Deaths']\n",
    "State_year['MVPercent'] = State_year['MV_Deaths']/State_year['Total_Deaths']\n",
    "State_year.head()"
   ]
  },
  {
   "cell_type": "code",
   "execution_count": 48,
   "metadata": {},
   "outputs": [],
   "source": [
    "State_Counts.to_csv(r'C:\\Users\\jcaravella\\Documents\\Project2\\Main_data\\state_level.csv', index = False,header=True)\n",
    "State_Counts.to_json(r'C:\\Users\\jcaravella\\Documents\\Project2\\Main_data\\state_level.json')"
   ]
  },
  {
   "cell_type": "code",
   "execution_count": 49,
   "metadata": {},
   "outputs": [],
   "source": [
    "State_year.to_csv(r'C:\\Users\\jcaravella\\Documents\\Project2\\Main_data\\state_w_year.csv', index = False,header=True)\n",
    "State_year.to_json(r'C:\\Users\\jcaravella\\Documents\\Project2\\Main_data\\state_w_year.json')"
   ]
  },
  {
   "cell_type": "code",
   "execution_count": 50,
   "metadata": {},
   "outputs": [
    {
     "data": {
      "text/html": [
       "<div>\n",
       "<style scoped>\n",
       "    .dataframe tbody tr th:only-of-type {\n",
       "        vertical-align: middle;\n",
       "    }\n",
       "\n",
       "    .dataframe tbody tr th {\n",
       "        vertical-align: top;\n",
       "    }\n",
       "\n",
       "    .dataframe thead th {\n",
       "        text-align: right;\n",
       "    }\n",
       "</style>\n",
       "<table border=\"1\" class=\"dataframe\">\n",
       "  <thead>\n",
       "    <tr style=\"text-align: right;\">\n",
       "      <th></th>\n",
       "      <th>legalWeedStatus</th>\n",
       "      <th>MV_Deaths</th>\n",
       "      <th>Total_Deaths</th>\n",
       "      <th>Total_OD_Deaths</th>\n",
       "      <th>OverdosePercent</th>\n",
       "      <th>MVPercent</th>\n",
       "    </tr>\n",
       "  </thead>\n",
       "  <tbody>\n",
       "    <tr>\n",
       "      <th>0</th>\n",
       "      <td>Fully Illegal</td>\n",
       "      <td>23051</td>\n",
       "      <td>16442563.0</td>\n",
       "      <td>303403.0</td>\n",
       "      <td>0.018452</td>\n",
       "      <td>0.001402</td>\n",
       "    </tr>\n",
       "    <tr>\n",
       "      <th>1</th>\n",
       "      <td>Fully Legal</td>\n",
       "      <td>21676</td>\n",
       "      <td>21482996.0</td>\n",
       "      <td>462863.0</td>\n",
       "      <td>0.021546</td>\n",
       "      <td>0.001009</td>\n",
       "    </tr>\n",
       "    <tr>\n",
       "      <th>2</th>\n",
       "      <td>Mixed</td>\n",
       "      <td>66246</td>\n",
       "      <td>58663863.0</td>\n",
       "      <td>1314549.0</td>\n",
       "      <td>0.022408</td>\n",
       "      <td>0.001129</td>\n",
       "    </tr>\n",
       "  </tbody>\n",
       "</table>\n",
       "</div>"
      ],
      "text/plain": [
       "  legalWeedStatus  MV_Deaths  Total_Deaths  Total_OD_Deaths  OverdosePercent  \\\n",
       "0   Fully Illegal      23051    16442563.0         303403.0         0.018452   \n",
       "1     Fully Legal      21676    21482996.0         462863.0         0.021546   \n",
       "2           Mixed      66246    58663863.0        1314549.0         0.022408   \n",
       "\n",
       "   MVPercent  \n",
       "0   0.001402  \n",
       "1   0.001009  \n",
       "2   0.001129  "
      ]
     },
     "execution_count": 50,
     "metadata": {},
     "output_type": "execute_result"
    }
   ],
   "source": [
    "##sum by year legal\n",
    "Status_Counts =State_Counts.groupby(['legalWeedStatus']).sum().reset_index()\n",
    "Status_Counts['OverdosePercent'] = Status_Counts['Total_OD_Deaths']/Status_Counts['Total_Deaths']\n",
    "Status_Counts['MVPercent'] = Status_Counts['MV_Deaths']/Status_Counts['Total_Deaths']\n",
    "Status_Counts.head()"
   ]
  },
  {
   "cell_type": "code",
   "execution_count": 51,
   "metadata": {},
   "outputs": [],
   "source": [
    "Status_Counts.to_csv(r'C:\\Users\\jcaravella\\Documents\\Project2\\Main_data\\legalstatus_level.csv', index = False,header=True)\n",
    "Status_Counts.to_csv(r'C:\\Users\\jcaravella\\Documents\\Project2\\Jason_html\\static\\data\\legalstatus_level.csv', index = False,header=True)\n",
    "Status_Counts.to_json(r'C:\\Users\\jcaravella\\Documents\\Project2\\Main_data\\legalstatus_level.json')\n",
    "Status_Counts.to_json(r'C:\\Users\\jcaravella\\Documents\\Project2\\Jason_html\\legalstatus_level.json')"
   ]
  },
  {
   "cell_type": "code",
   "execution_count": 52,
   "metadata": {},
   "outputs": [
    {
     "data": {
      "text/html": [
       "<div>\n",
       "<style scoped>\n",
       "    .dataframe tbody tr th:only-of-type {\n",
       "        vertical-align: middle;\n",
       "    }\n",
       "\n",
       "    .dataframe tbody tr th {\n",
       "        vertical-align: top;\n",
       "    }\n",
       "\n",
       "    .dataframe thead th {\n",
       "        text-align: right;\n",
       "    }\n",
       "</style>\n",
       "<table border=\"1\" class=\"dataframe\">\n",
       "  <thead>\n",
       "    <tr style=\"text-align: right;\">\n",
       "      <th></th>\n",
       "      <th>legalWeedStatus</th>\n",
       "      <th>Year</th>\n",
       "      <th>MV_Deaths</th>\n",
       "      <th>Total_Deaths</th>\n",
       "      <th>Total_OD_Deaths</th>\n",
       "      <th>OverdosePercent</th>\n",
       "      <th>MVPercent</th>\n",
       "    </tr>\n",
       "  </thead>\n",
       "  <tbody>\n",
       "    <tr>\n",
       "      <th>0</th>\n",
       "      <td>Fully Illegal</td>\n",
       "      <td>2015</td>\n",
       "      <td>7262</td>\n",
       "      <td>5410542.0</td>\n",
       "      <td>89453.0</td>\n",
       "      <td>0.016533</td>\n",
       "      <td>0.001342</td>\n",
       "    </tr>\n",
       "    <tr>\n",
       "      <th>1</th>\n",
       "      <td>Fully Illegal</td>\n",
       "      <td>2016</td>\n",
       "      <td>8131</td>\n",
       "      <td>5441650.0</td>\n",
       "      <td>99669.0</td>\n",
       "      <td>0.018316</td>\n",
       "      <td>0.001494</td>\n",
       "    </tr>\n",
       "    <tr>\n",
       "      <th>2</th>\n",
       "      <td>Fully Illegal</td>\n",
       "      <td>2017</td>\n",
       "      <td>7658</td>\n",
       "      <td>5590371.0</td>\n",
       "      <td>114281.0</td>\n",
       "      <td>0.020442</td>\n",
       "      <td>0.001370</td>\n",
       "    </tr>\n",
       "    <tr>\n",
       "      <th>3</th>\n",
       "      <td>Fully Legal</td>\n",
       "      <td>2015</td>\n",
       "      <td>6632</td>\n",
       "      <td>7034178.0</td>\n",
       "      <td>141214.0</td>\n",
       "      <td>0.020075</td>\n",
       "      <td>0.000943</td>\n",
       "    </tr>\n",
       "    <tr>\n",
       "      <th>4</th>\n",
       "      <td>Fully Legal</td>\n",
       "      <td>2016</td>\n",
       "      <td>7752</td>\n",
       "      <td>7132055.0</td>\n",
       "      <td>154115.0</td>\n",
       "      <td>0.021609</td>\n",
       "      <td>0.001087</td>\n",
       "    </tr>\n",
       "  </tbody>\n",
       "</table>\n",
       "</div>"
      ],
      "text/plain": [
       "  legalWeedStatus  Year  MV_Deaths  Total_Deaths  Total_OD_Deaths  \\\n",
       "0   Fully Illegal  2015       7262     5410542.0          89453.0   \n",
       "1   Fully Illegal  2016       8131     5441650.0          99669.0   \n",
       "2   Fully Illegal  2017       7658     5590371.0         114281.0   \n",
       "3     Fully Legal  2015       6632     7034178.0         141214.0   \n",
       "4     Fully Legal  2016       7752     7132055.0         154115.0   \n",
       "\n",
       "   OverdosePercent  MVPercent  \n",
       "0         0.016533   0.001342  \n",
       "1         0.018316   0.001494  \n",
       "2         0.020442   0.001370  \n",
       "3         0.020075   0.000943  \n",
       "4         0.021609   0.001087  "
      ]
     },
     "execution_count": 52,
     "metadata": {},
     "output_type": "execute_result"
    }
   ],
   "source": [
    "##sum by year legal\n",
    "Status_w_year =State_year.groupby(['legalWeedStatus','Year']).sum().reset_index()\n",
    "Status_w_year['OverdosePercent'] = Status_w_year['Total_OD_Deaths']/Status_w_year['Total_Deaths']\n",
    "Status_w_year['MVPercent'] = Status_w_year['MV_Deaths']/Status_w_year['Total_Deaths']\n",
    "Status_w_year.head()"
   ]
  },
  {
   "cell_type": "code",
   "execution_count": 53,
   "metadata": {},
   "outputs": [],
   "source": [
    "Status_w_year.to_csv(r'C:\\Users\\jcaravella\\Documents\\Project2\\Jason_html\\Status_w_year.csv', index = False,header=True)\n",
    "Status_w_year.to_json(r'C:\\Users\\jcaravella\\Documents\\Project2\\Main_data\\Status_w_year.json')"
   ]
  },
  {
   "cell_type": "code",
   "execution_count": null,
   "metadata": {},
   "outputs": [],
   "source": [
    "############Stop unless sending to postgres###################"
   ]
  },
  {
   "cell_type": "code",
   "execution_count": null,
   "metadata": {},
   "outputs": [],
   "source": [
    "############Stop unless sending to postgres###################"
   ]
  },
  {
   "cell_type": "code",
   "execution_count": 43,
   "metadata": {},
   "outputs": [],
   "source": [
    "#rds_connection_string = f\"{dbuser}<insert user name>:<insert password>@localhost:5432/customer_db\"\n",
    "#engine = create_engine(f'postgresql://{rds_connection_string}')\n",
    "password = \"Hooch#12\"\n",
    "dbuser = \"postgres\"\n",
    "rds_connection_string = f\"{dbuser}:{password}@localhost:5432/Project2\"\n",
    "engine = create_engine(f'postgresql://{rds_connection_string}')"
   ]
  },
  {
   "cell_type": "code",
   "execution_count": 46,
   "metadata": {},
   "outputs": [
    {
     "data": {
      "text/plain": [
       "['legalstatus_level', 'state_level', 'state_status']"
      ]
     },
     "execution_count": 46,
     "metadata": {},
     "output_type": "execute_result"
    }
   ],
   "source": [
    "engine.table_names()"
   ]
  },
  {
   "cell_type": "code",
   "execution_count": 47,
   "metadata": {},
   "outputs": [],
   "source": [
    "#push status level to pgadmin\n",
    "Status_Counts.to_sql(name='legalstatus_level', con=engine, if_exists='replace', index=False)\n",
    "State_Counts.to_sql(name='state_level', con=engine, if_exists='replace', index=False)\n",
    "legal_mapdf.to_sql(name='state_status', con=engine, if_exists='replace', index=False)"
   ]
  },
  {
   "cell_type": "code",
   "execution_count": null,
   "metadata": {},
   "outputs": [],
   "source": []
  }
 ],
 "metadata": {
  "kernelspec": {
   "display_name": "Python 3",
   "language": "python",
   "name": "python3"
  },
  "language_info": {
   "codemirror_mode": {
    "name": "ipython",
    "version": 3
   },
   "file_extension": ".py",
   "mimetype": "text/x-python",
   "name": "python",
   "nbconvert_exporter": "python",
   "pygments_lexer": "ipython3",
   "version": "3.7.6"
  }
 },
 "nbformat": 4,
 "nbformat_minor": 4
}
